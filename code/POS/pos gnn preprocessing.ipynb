{
 "cells": [
  {
   "cell_type": "code",
   "execution_count": null,
   "id": "d0ef0739",
   "metadata": {},
   "outputs": [],
   "source": [
    "from nltk.parse.corenlp import CoreNLPParser,CoreNLPDependencyParser\n",
    "import numpy as np\n",
    "import random\n",
    "import time\n",
    "import pandas as pd\n",
    "from tqdm.auto import tqdm, trange\n",
    "import textstat\n",
    "import spacy\n",
    "from datasets import load_dataset\n",
    "nlp = spacy.load('en_core_web_sm') # or whatever model you have installed\n"
   ]
  },
  {
   "cell_type": "code",
   "execution_count": null,
   "id": "af3e8088",
   "metadata": {},
   "outputs": [],
   "source": [
    "depparser = CoreNLPDependencyParser(url='http://localhost:9000')"
   ]
  },
  {
   "cell_type": "code",
   "execution_count": null,
   "id": "f9768924",
   "metadata": {},
   "outputs": [],
   "source": [
    "# this conversion comes from https://universaldependencies.org/tagset-conversion/en-penn-uposf.html\n",
    "# and another resource http://universaldependencies.org/docs/en/pos/all.html\n",
    "# however, it's just impossible to convert to upos without knowing the context. \n",
    "# Manning's word here: https://github.com/UniversalDependencies/docs/issues/212#issuecomment-148846154\n",
    "# how to use Manning's converter: https://github.com/clulab/processors/wiki/Converting-from-Penn-Treebank-to-Basic-Stanford-Dependencies\n",
    "\n",
    "xpos2upos = {'#': 'SYM',\n",
    "             '$': 'SYM',\n",
    "             \"''\": 'PUNCT',\n",
    "             ',': 'PUNCT',\n",
    "             '-LRB-': 'PUNCT',\n",
    "             '-RRB-': 'PUNCT',\n",
    "             '.': 'PUNCT',\n",
    "             ':': 'PUNCT',\n",
    "             'ADD': 'X', # manually added. \n",
    "             'AFX': 'ADJ',\n",
    "             'CC': 'CCONJ',\n",
    "             'CD': 'NUM',\n",
    "             'DT': 'DET',\n",
    "             'EX': 'PRON',\n",
    "             'FW': 'X',\n",
    "             'GW': 'X', # manually added. \n",
    "             'HYPH': 'PUNCT',\n",
    "             'IN': 'ADP',\n",
    "             'JJ': 'ADJ',\n",
    "             'JJR': 'ADJ',\n",
    "             'JJS': 'ADJ',\n",
    "             'LS': 'X',\n",
    "             'MD': 'VERB',\n",
    "             'NFP': 'PUNCT', # manually added. \n",
    "             'NIL': 'X',\n",
    "             'NN': 'NOUN',\n",
    "             'NNP': 'PROPN',\n",
    "             'NNPS': 'PROPN',\n",
    "             'NNS': 'NOUN',\n",
    "             'PDT': 'DET',\n",
    "             'POS': 'PART',\n",
    "             'PRP': 'PRON',\n",
    "             'PRP$': 'DET',\n",
    "             'RB': 'ADV',\n",
    "             'RBR': 'ADV',\n",
    "             'RBS': 'ADV',\n",
    "             'RP': 'ADP',\n",
    "             'SYM': 'SYM',\n",
    "             'TO': 'PART',\n",
    "             'UH': 'INTJ',\n",
    "             'VB': 'VERB',\n",
    "             'VBD': 'VERB',\n",
    "             'VBG': 'VERB',\n",
    "             'VBN': 'VERB',\n",
    "             'VBP': 'VERB',\n",
    "             'VBZ': 'VERB',\n",
    "             'WDT': 'DET',\n",
    "             'WP': 'PRON',\n",
    "             'WP$': 'DET',\n",
    "             'WRB': 'ADV',\n",
    "             'XX': 'X', # manually added. \n",
    "             '``': 'PUNCT'}\n",
    "def convert_pos_seq(pos_seq):\n",
    "    upos_seq = []\n",
    "    for token in pos_seq:\n",
    "        upos_seq.append(xpos2upos[token])\n",
    "    return upos_seq"
   ]
  },
  {
   "cell_type": "code",
   "execution_count": null,
   "id": "09cece12",
   "metadata": {},
   "outputs": [],
   "source": [
    "def add_dep_edges(df):\n",
    "    texts = df['text']\n",
    "    homo_edges = []\n",
    "    hetoro_edges = []\n",
    "    pos_seqs = []\n",
    "    upos_seqs = []\n",
    "    num_syllables = []\n",
    "    \n",
    "    for text in tqdm(texts):\n",
    "        parsed = depparser.raw_parse(text)\n",
    "        conll_dep = next(parsed).to_conll(4)\n",
    "        lines = conll_dep.split('\\n')\n",
    "        homo_edge = []\n",
    "        hetoro_edge = []\n",
    "        pos_seq = []\n",
    "        num_syllable = []\n",
    "        for i,line in enumerate(lines[:-1]):\n",
    "            l = line.split('\\t')\n",
    "            homo_edge.append([i+1, int(l[2])])\n",
    "            hetoro_edge.append(l[3])\n",
    "            pos_seq.append(l[1])\n",
    "            num_syllable.append(textstat.syllable_count(l[0]))\n",
    "        homo_edges.append(homo_edge)\n",
    "        hetoro_edges.append(hetoro_edge)\n",
    "        pos_seqs.append(pos_seq)\n",
    "        upos_seqs.append(convert_pos_seq(pos_seq))\n",
    "        num_syllables.append(num_syllable)\n",
    "        \n",
    "    df['homo_edges'] = homo_edges\n",
    "    df['hetoro_edges'] = hetoro_edges\n",
    "    df['pos_seqs'] = pos_seqs\n",
    "    df['upos_seqs'] = upos_seqs\n",
    "    df['num_syllables'] = num_syllables\n",
    "    \n",
    "    return df"
   ]
  },
  {
   "cell_type": "markdown",
   "id": "164cc292",
   "metadata": {},
   "source": [
    "## ccat"
   ]
  },
  {
   "cell_type": "code",
   "execution_count": null,
   "id": "adbd29a4",
   "metadata": {},
   "outputs": [],
   "source": [
    "def create_ccat50_subdataset(num_authors_to_pick = None, picked_author_ids = None, num_sent_per_text = None, save_folder = '../../data/CCAT50/processed/'):\n",
    "    assert num_authors_to_pick is None or picked_author_ids is None, \"either specify 'num_authors_to_pick' or 'picked_author_ids'\"\n",
    "    \n",
    "    df_ccat = pd.read_csv('../../data/CCAT50/processed/CCAT50_train.csv')\n",
    "    df_ccat_val = pd.read_csv('../../data/CCAT50/processed/CCAT50_AA_val.csv')\n",
    "    \n",
    "    if not picked_author_ids:\n",
    "        unique_authors = list(df_ccat['author_id'].unique())\n",
    "        picked_author_ids = sorted(np.random.choice(unique_authors, replace=False, size=num_authors_to_pick).tolist())\n",
    "    \n",
    "    for split in ['train', 'val']:\n",
    "        if split == 'train':\n",
    "            df = df_ccat\n",
    "        else:\n",
    "            df = df_ccat_val\n",
    "        authors = []\n",
    "        texts = []\n",
    "        for author in picked_author_ids:\n",
    "            df_temp = df[df['author_id'] == author]\n",
    "            for i_doc in range(len(df_temp)):\n",
    "                doc = df_temp['text'].iloc[i_doc].split('\\n')\n",
    "                for i in range(len(doc)):\n",
    "                    doc[i] = doc[i].strip()\n",
    "                while '' in doc:\n",
    "                    doc.remove('')\n",
    "                for i in range(len(doc)-num_sent_per_text):\n",
    "                    authors.append(author)\n",
    "                    texts.append(' '.join(doc[i:i+num_sent_per_text]))\n",
    "        df_new = pd.DataFrame({'author':authors, 'text':texts})\n",
    "        df_new = add_dep_edges(df_new)\n",
    "        str_author = ','.join(map(str, picked_author_ids))\n",
    "        file_name = f\"author_{str_author}_sent_{num_sent_per_text}_{split}.csv\"\n",
    "        df_new.to_csv(f\"{save_folder}/{file_name}\", index=False)"
   ]
  },
  {
   "cell_type": "code",
   "execution_count": null,
   "id": "8aa30f04",
   "metadata": {},
   "outputs": [
    {
     "data": {
      "application/vnd.jupyter.widget-view+json": {
       "model_id": "fec44a1a509f4011aaa3f625612a056f",
       "version_major": 2,
       "version_minor": 0
      },
      "text/plain": [
       "  0%|          | 0/1293 [00:00<?, ?it/s]"
      ]
     },
     "metadata": {},
     "output_type": "display_data"
    },
    {
     "data": {
      "application/vnd.jupyter.widget-view+json": {
       "model_id": "e357f3241730493e84abb42cbdf19447",
       "version_major": 2,
       "version_minor": 0
      },
      "text/plain": [
       "  0%|          | 0/330 [00:00<?, ?it/s]"
      ]
     },
     "metadata": {},
     "output_type": "display_data"
    },
    {
     "data": {
      "application/vnd.jupyter.widget-view+json": {
       "model_id": "e301d5e8c06c4e2b958cfc5c9d01ec16",
       "version_major": 2,
       "version_minor": 0
      },
      "text/plain": [
       "  0%|          | 0/1283 [00:00<?, ?it/s]"
      ]
     },
     "metadata": {},
     "output_type": "display_data"
    },
    {
     "data": {
      "application/vnd.jupyter.widget-view+json": {
       "model_id": "56e03325fe354a3d927687e3d8007edd",
       "version_major": 2,
       "version_minor": 0
      },
      "text/plain": [
       "  0%|          | 0/309 [00:00<?, ?it/s]"
      ]
     },
     "metadata": {},
     "output_type": "display_data"
    },
    {
     "data": {
      "application/vnd.jupyter.widget-view+json": {
       "model_id": "722d6e0cb10c4401b20768d513123e84",
       "version_major": 2,
       "version_minor": 0
      },
      "text/plain": [
       "  0%|          | 0/1175 [00:00<?, ?it/s]"
      ]
     },
     "metadata": {},
     "output_type": "display_data"
    },
    {
     "data": {
      "application/vnd.jupyter.widget-view+json": {
       "model_id": "19ed240a4b294df28f529eb64348e406",
       "version_major": 2,
       "version_minor": 0
      },
      "text/plain": [
       "  0%|          | 0/297 [00:00<?, ?it/s]"
      ]
     },
     "metadata": {},
     "output_type": "display_data"
    }
   ],
   "source": [
    "ids = [[0,1],[2,3],[4,5]]\n",
    "num_sent_per_text = 2\n",
    "\n",
    "for picked_author_ids in ids:\n",
    "    create_ccat50_subdataset(num_authors_to_pick=None, picked_author_ids=picked_author_ids, num_sent_per_text=num_sent_per_text)\n"
   ]
  },
  {
   "cell_type": "code",
   "execution_count": null,
   "id": "11e651fa",
   "metadata": {},
   "outputs": [
    {
     "data": {
      "application/vnd.jupyter.widget-view+json": {
       "model_id": "79759608296e4210b0bd325439da7317",
       "version_major": 2,
       "version_minor": 0
      },
      "text/plain": [
       "  0%|          | 0/1933 [00:00<?, ?it/s]"
      ]
     },
     "metadata": {},
     "output_type": "display_data"
    },
    {
     "data": {
      "application/vnd.jupyter.widget-view+json": {
       "model_id": "f2ba38dcc0f344fcbd2cbed8bc45291e",
       "version_major": 2,
       "version_minor": 0
      },
      "text/plain": [
       "  0%|          | 0/484 [00:00<?, ?it/s]"
      ]
     },
     "metadata": {},
     "output_type": "display_data"
    },
    {
     "data": {
      "application/vnd.jupyter.widget-view+json": {
       "model_id": "2191772d2c9f4627a00cd347623ef28d",
       "version_major": 2,
       "version_minor": 0
      },
      "text/plain": [
       "  0%|          | 0/1818 [00:00<?, ?it/s]"
      ]
     },
     "metadata": {},
     "output_type": "display_data"
    },
    {
     "data": {
      "application/vnd.jupyter.widget-view+json": {
       "model_id": "69bc9d1dc3144be6ab88ebf423e28ddc",
       "version_major": 2,
       "version_minor": 0
      },
      "text/plain": [
       "  0%|          | 0/452 [00:00<?, ?it/s]"
      ]
     },
     "metadata": {},
     "output_type": "display_data"
    },
    {
     "data": {
      "application/vnd.jupyter.widget-view+json": {
       "model_id": "2a574cf6114a46efaf0b38b16ad55310",
       "version_major": 2,
       "version_minor": 0
      },
      "text/plain": [
       "  0%|          | 0/1843 [00:00<?, ?it/s]"
      ]
     },
     "metadata": {},
     "output_type": "display_data"
    },
    {
     "data": {
      "application/vnd.jupyter.widget-view+json": {
       "model_id": "86733e6e7aa64d4cb0cc40997fc5b99f",
       "version_major": 2,
       "version_minor": 0
      },
      "text/plain": [
       "  0%|          | 0/485 [00:00<?, ?it/s]"
      ]
     },
     "metadata": {},
     "output_type": "display_data"
    }
   ],
   "source": [
    "ids = [[0,1,2],[3,4,5],[6,7,8]]\n",
    "num_sent_per_text = 2\n",
    "\n",
    "for picked_author_ids in ids:\n",
    "    create_ccat50_subdataset(num_authors_to_pick=None, picked_author_ids=picked_author_ids, num_sent_per_text=num_sent_per_text)\n"
   ]
  },
  {
   "cell_type": "code",
   "execution_count": null,
   "id": "932847f3",
   "metadata": {},
   "outputs": [
    {
     "data": {
      "application/vnd.jupyter.widget-view+json": {
       "model_id": "aee115bd8f9e42d0aecae9eb93d95c66",
       "version_major": 2,
       "version_minor": 0
      },
      "text/plain": [
       "  0%|          | 0/2576 [00:00<?, ?it/s]"
      ]
     },
     "metadata": {},
     "output_type": "display_data"
    },
    {
     "data": {
      "application/vnd.jupyter.widget-view+json": {
       "model_id": "16ed8849d71c4d0ba404937fd503394f",
       "version_major": 2,
       "version_minor": 0
      },
      "text/plain": [
       "  0%|          | 0/639 [00:00<?, ?it/s]"
      ]
     },
     "metadata": {},
     "output_type": "display_data"
    },
    {
     "data": {
      "application/vnd.jupyter.widget-view+json": {
       "model_id": "efe2387c002049a7899fbef25716cac2",
       "version_major": 2,
       "version_minor": 0
      },
      "text/plain": [
       "  0%|          | 0/2457 [00:00<?, ?it/s]"
      ]
     },
     "metadata": {},
     "output_type": "display_data"
    },
    {
     "data": {
      "application/vnd.jupyter.widget-view+json": {
       "model_id": "664fb2152b504e86b84e1b1e3ca2f84f",
       "version_major": 2,
       "version_minor": 0
      },
      "text/plain": [
       "  0%|          | 0/639 [00:00<?, ?it/s]"
      ]
     },
     "metadata": {},
     "output_type": "display_data"
    },
    {
     "data": {
      "application/vnd.jupyter.widget-view+json": {
       "model_id": "8b5d0bb3cc6c45eb92e19c2425ab2dba",
       "version_major": 2,
       "version_minor": 0
      },
      "text/plain": [
       "  0%|          | 0/2451 [00:00<?, ?it/s]"
      ]
     },
     "metadata": {},
     "output_type": "display_data"
    },
    {
     "data": {
      "application/vnd.jupyter.widget-view+json": {
       "model_id": "3de7c6d6397a43fc94bff42aff1cd25b",
       "version_major": 2,
       "version_minor": 0
      },
      "text/plain": [
       "  0%|          | 0/577 [00:00<?, ?it/s]"
      ]
     },
     "metadata": {},
     "output_type": "display_data"
    }
   ],
   "source": [
    "ids = [[0,1,2,3],[4,5,6,7],[8,9,10,11]]\n",
    "num_sent_per_text = 2\n",
    "\n",
    "for picked_author_ids in ids:\n",
    "    create_ccat50_subdataset(num_authors_to_pick=None, picked_author_ids=picked_author_ids, num_sent_per_text=num_sent_per_text)\n"
   ]
  },
  {
   "cell_type": "markdown",
   "id": "07a138c3",
   "metadata": {},
   "source": [
    "## guardian"
   ]
  },
  {
   "cell_type": "code",
   "execution_count": null,
   "id": "96b15c5c",
   "metadata": {},
   "outputs": [
    {
     "data": {
      "text/html": [
       "<div>\n",
       "<style scoped>\n",
       "    .dataframe tbody tr th:only-of-type {\n",
       "        vertical-align: middle;\n",
       "    }\n",
       "\n",
       "    .dataframe tbody tr th {\n",
       "        vertical-align: top;\n",
       "    }\n",
       "\n",
       "    .dataframe thead th {\n",
       "        text-align: right;\n",
       "    }\n",
       "</style>\n",
       "<table border=\"1\" class=\"dataframe\">\n",
       "  <thead>\n",
       "    <tr style=\"text-align: right;\">\n",
       "      <th></th>\n",
       "      <th>article_id</th>\n",
       "      <th>sectionName</th>\n",
       "      <th>webTitle</th>\n",
       "      <th>webUrl</th>\n",
       "      <th>bodyContent</th>\n",
       "      <th>webPublicationDate</th>\n",
       "      <th>id</th>\n",
       "    </tr>\n",
       "  </thead>\n",
       "  <tbody>\n",
       "    <tr>\n",
       "      <th>0</th>\n",
       "      <td>us-news/2016/jan/31/iowa-caucus-underdog-candi...</td>\n",
       "      <td>US news</td>\n",
       "      <td>Iowa underdogs put on brave faces despite all ...</td>\n",
       "      <td>https://www.theguardian.com/us-news/2016/jan/3...</td>\n",
       "      <td>As polling day looms and the cameras turn only...</td>\n",
       "      <td>2016-01-31T23:53:37Z</td>\n",
       "      <td>1</td>\n",
       "    </tr>\n",
       "    <tr>\n",
       "      <th>1</th>\n",
       "      <td>us-news/2016/jan/31/iowa-caucus-worlds-most-pa...</td>\n",
       "      <td>US news</td>\n",
       "      <td>Iowa caucus: hologram eagle and Jesus star on ...</td>\n",
       "      <td>https://www.theguardian.com/us-news/2016/jan/3...</td>\n",
       "      <td>In Des Moines on Sunday, the Guardian was give...</td>\n",
       "      <td>2016-01-31T23:46:28Z</td>\n",
       "      <td>2</td>\n",
       "    </tr>\n",
       "    <tr>\n",
       "      <th>2</th>\n",
       "      <td>world/2016/jan/31/tanzania-britsh-helicopter-p...</td>\n",
       "      <td>World news</td>\n",
       "      <td>British pilot in Tanzania 'manoeuvred ​to save...</td>\n",
       "      <td>https://www.theguardian.com/world/2016/jan/31/...</td>\n",
       "      <td>A British pilot who was shot dead by an elepha...</td>\n",
       "      <td>2016-01-31T23:43:48Z</td>\n",
       "      <td>3</td>\n",
       "    </tr>\n",
       "    <tr>\n",
       "      <th>3</th>\n",
       "      <td>football/2016/jan/31/late-winner-gets-usa-off-...</td>\n",
       "      <td>Football</td>\n",
       "      <td>USA 3-2 Iceland | International friendly match...</td>\n",
       "      <td>https://www.theguardian.com/football/2016/jan/...</td>\n",
       "      <td>USA took a step toward shaking off the ghosts ...</td>\n",
       "      <td>2016-01-31T23:30:49Z</td>\n",
       "      <td>4</td>\n",
       "    </tr>\n",
       "    <tr>\n",
       "      <th>4</th>\n",
       "      <td>football/2016/jan/31/blackburn-paul-lambert-ox...</td>\n",
       "      <td>Football</td>\n",
       "      <td>Reinvigorated Paul Lambert reflects after impr...</td>\n",
       "      <td>https://www.theguardian.com/football/2016/jan/...</td>\n",
       "      <td>The clean-shaven, spectacle free and suspiciou...</td>\n",
       "      <td>2016-01-31T22:30:10Z</td>\n",
       "      <td>5</td>\n",
       "    </tr>\n",
       "    <tr>\n",
       "      <th>...</th>\n",
       "      <td>...</td>\n",
       "      <td>...</td>\n",
       "      <td>...</td>\n",
       "      <td>...</td>\n",
       "      <td>...</td>\n",
       "      <td>...</td>\n",
       "      <td>...</td>\n",
       "    </tr>\n",
       "    <tr>\n",
       "      <th>149834</th>\n",
       "      <td>world/2022/jun/21/marble-head-of-hercules-pull...</td>\n",
       "      <td>World news</td>\n",
       "      <td>Marble head of Hercules pulled up from Roman s...</td>\n",
       "      <td>https://www.theguardian.com/world/2022/jun/21/...</td>\n",
       "      <td>For archaeologists, it’s the underwater find t...</td>\n",
       "      <td>2022-06-21T17:31:32Z</td>\n",
       "      <td>149835</td>\n",
       "    </tr>\n",
       "    <tr>\n",
       "      <th>149835</th>\n",
       "      <td>music/2022/jun/22/i-got-sick-of-talking-about-...</td>\n",
       "      <td>Music</td>\n",
       "      <td>‘I got sick of talking about myself’: Spacey J...</td>\n",
       "      <td>https://www.theguardian.com/music/2022/jun/22/...</td>\n",
       "      <td>From under a mop of curls, Caleb Harper – Spac...</td>\n",
       "      <td>2022-06-21T17:30:09Z</td>\n",
       "      <td>149836</td>\n",
       "    </tr>\n",
       "    <tr>\n",
       "      <th>149836</th>\n",
       "      <td>australia-news/2022/jun/22/the-small-town-with...</td>\n",
       "      <td>Australia news</td>\n",
       "      <td>The small town with a big potato that inspired...</td>\n",
       "      <td>https://www.theguardian.com/australia-news/202...</td>\n",
       "      <td>Robertson is a small, pretty town perched on t...</td>\n",
       "      <td>2022-06-21T17:30:09Z</td>\n",
       "      <td>149837</td>\n",
       "    </tr>\n",
       "    <tr>\n",
       "      <th>149837</th>\n",
       "      <td>australia-news/2022/jun/22/power-to-ban-citize...</td>\n",
       "      <td>Australia news</td>\n",
       "      <td>Power to ban citizens from re-entering Austral...</td>\n",
       "      <td>https://www.theguardian.com/australia-news/202...</td>\n",
       "      <td>A high court decision striking down the home a...</td>\n",
       "      <td>2022-06-21T17:30:08Z</td>\n",
       "      <td>149838</td>\n",
       "    </tr>\n",
       "    <tr>\n",
       "      <th>149838</th>\n",
       "      <td>australia-news/2022/jun/22/liberal-mps-say-pet...</td>\n",
       "      <td>Australia news</td>\n",
       "      <td>Liberal MPs say Peter Dutton should let party ...</td>\n",
       "      <td>https://www.theguardian.com/australia-news/202...</td>\n",
       "      <td>Liberal MPs are urging Peter Dutton to let the...</td>\n",
       "      <td>2022-06-21T17:30:08Z</td>\n",
       "      <td>149839</td>\n",
       "    </tr>\n",
       "  </tbody>\n",
       "</table>\n",
       "<p>149839 rows × 7 columns</p>\n",
       "</div>"
      ],
      "text/plain": [
       "                                               article_id     sectionName  \\\n",
       "0       us-news/2016/jan/31/iowa-caucus-underdog-candi...         US news   \n",
       "1       us-news/2016/jan/31/iowa-caucus-worlds-most-pa...         US news   \n",
       "2       world/2016/jan/31/tanzania-britsh-helicopter-p...      World news   \n",
       "3       football/2016/jan/31/late-winner-gets-usa-off-...        Football   \n",
       "4       football/2016/jan/31/blackburn-paul-lambert-ox...        Football   \n",
       "...                                                   ...             ...   \n",
       "149834  world/2022/jun/21/marble-head-of-hercules-pull...      World news   \n",
       "149835  music/2022/jun/22/i-got-sick-of-talking-about-...           Music   \n",
       "149836  australia-news/2022/jun/22/the-small-town-with...  Australia news   \n",
       "149837  australia-news/2022/jun/22/power-to-ban-citize...  Australia news   \n",
       "149838  australia-news/2022/jun/22/liberal-mps-say-pet...  Australia news   \n",
       "\n",
       "                                                 webTitle  \\\n",
       "0       Iowa underdogs put on brave faces despite all ...   \n",
       "1       Iowa caucus: hologram eagle and Jesus star on ...   \n",
       "2       British pilot in Tanzania 'manoeuvred ​to save...   \n",
       "3       USA 3-2 Iceland | International friendly match...   \n",
       "4       Reinvigorated Paul Lambert reflects after impr...   \n",
       "...                                                   ...   \n",
       "149834  Marble head of Hercules pulled up from Roman s...   \n",
       "149835  ‘I got sick of talking about myself’: Spacey J...   \n",
       "149836  The small town with a big potato that inspired...   \n",
       "149837  Power to ban citizens from re-entering Austral...   \n",
       "149838  Liberal MPs say Peter Dutton should let party ...   \n",
       "\n",
       "                                                   webUrl  \\\n",
       "0       https://www.theguardian.com/us-news/2016/jan/3...   \n",
       "1       https://www.theguardian.com/us-news/2016/jan/3...   \n",
       "2       https://www.theguardian.com/world/2016/jan/31/...   \n",
       "3       https://www.theguardian.com/football/2016/jan/...   \n",
       "4       https://www.theguardian.com/football/2016/jan/...   \n",
       "...                                                   ...   \n",
       "149834  https://www.theguardian.com/world/2022/jun/21/...   \n",
       "149835  https://www.theguardian.com/music/2022/jun/22/...   \n",
       "149836  https://www.theguardian.com/australia-news/202...   \n",
       "149837  https://www.theguardian.com/australia-news/202...   \n",
       "149838  https://www.theguardian.com/australia-news/202...   \n",
       "\n",
       "                                              bodyContent  \\\n",
       "0       As polling day looms and the cameras turn only...   \n",
       "1       In Des Moines on Sunday, the Guardian was give...   \n",
       "2       A British pilot who was shot dead by an elepha...   \n",
       "3       USA took a step toward shaking off the ghosts ...   \n",
       "4       The clean-shaven, spectacle free and suspiciou...   \n",
       "...                                                   ...   \n",
       "149834  For archaeologists, it’s the underwater find t...   \n",
       "149835  From under a mop of curls, Caleb Harper – Spac...   \n",
       "149836  Robertson is a small, pretty town perched on t...   \n",
       "149837  A high court decision striking down the home a...   \n",
       "149838  Liberal MPs are urging Peter Dutton to let the...   \n",
       "\n",
       "          webPublicationDate      id  \n",
       "0       2016-01-31T23:53:37Z       1  \n",
       "1       2016-01-31T23:46:28Z       2  \n",
       "2       2016-01-31T23:43:48Z       3  \n",
       "3       2016-01-31T23:30:49Z       4  \n",
       "4       2016-01-31T22:30:10Z       5  \n",
       "...                      ...     ...  \n",
       "149834  2022-06-21T17:31:32Z  149835  \n",
       "149835  2022-06-21T17:30:09Z  149836  \n",
       "149836  2022-06-21T17:30:09Z  149837  \n",
       "149837  2022-06-21T17:30:08Z  149838  \n",
       "149838  2022-06-21T17:30:08Z  149839  \n",
       "\n",
       "[149839 rows x 7 columns]"
      ]
     },
     "execution_count": null,
     "metadata": {},
     "output_type": "execute_result"
    }
   ],
   "source": [
    "df = pd.read_csv('../../data/guardian/guardian_articles.csv')\n",
    "df"
   ]
  },
  {
   "cell_type": "code",
   "execution_count": null,
   "id": "55c21173",
   "metadata": {},
   "outputs": [
    {
     "name": "stderr",
     "output_type": "stream",
     "text": [
      "Found cached dataset guardian_authorship (/scratch/data_jz17d/hf_datasets_cache/guardian_authorship/cross_topic_1/1.0.0/8c5f5675c8658367fcec31c02ac32be3a671d3eee703862e92b84b6b61e4fb38)\n"
     ]
    },
    {
     "data": {
      "application/vnd.jupyter.widget-view+json": {
       "model_id": "d2b0ef9746b94a07af6dd303b177a2fa",
       "version_major": 2,
       "version_minor": 0
      },
      "text/plain": [
       "  0%|          | 0/3 [00:00<?, ?it/s]"
      ]
     },
     "metadata": {},
     "output_type": "display_data"
    }
   ],
   "source": [
    "dataset = load_dataset('guardian_authorship', 'cross_topic_1')"
   ]
  },
  {
   "cell_type": "code",
   "execution_count": null,
   "id": "eb28919a",
   "metadata": {},
   "outputs": [
    {
     "data": {
      "text/plain": [
       "{0, 1, 2, 3, 4, 5, 6, 7, 8, 9, 10, 11, 12}"
      ]
     },
     "execution_count": null,
     "metadata": {},
     "output_type": "execute_result"
    }
   ],
   "source": [
    "set(dataset['train']['author'])"
   ]
  },
  {
   "cell_type": "code",
   "execution_count": null,
   "id": "01b2d971",
   "metadata": {},
   "outputs": [],
   "source": [
    "def create_guardian_subdataset(num_authors_to_pick = None, picked_author_ids = None, num_sent_per_text = None, save_folder = '../../data/CCAT50/processed/'):\n",
    "    assert num_authors_to_pick is None or picked_author_ids is None, \"either specify 'num_authors_to_pick' or 'picked_author_ids'\"\n",
    "    \n",
    "    df = pd.read_csv('../../data/CCAT50/processed/CCAT50_train.csv')\n",
    "    df_val = pd.read_csv('../../data/CCAT50/processed/CCAT50_AA_val.csv')\n",
    "    \n",
    "    if not picked_author_ids:\n",
    "        unique_authors = list(df['author_id'].unique())\n",
    "        picked_author_ids = sorted(np.random.choice(unique_authors, replace=False, size=num_authors_to_pick).tolist())\n",
    "    \n",
    "    for split in ['train', 'val']:\n",
    "        if split == 'train':\n",
    "            df_ = df\n",
    "        else:\n",
    "            df_ = df_val\n",
    "        authors = []\n",
    "        texts = []\n",
    "        for author in picked_author_ids:\n",
    "            df_temp = df_[df_['author_id'] == author]\n",
    "            for i_doc in range(len(df_temp)):\n",
    "                doc = df_temp['text'].iloc[i_doc].split('\\n')\n",
    "                for i in range(len(doc)):\n",
    "                    doc[i] = doc[i].strip()\n",
    "                while '' in doc:\n",
    "                    doc.remove('')\n",
    "                for i in range(len(doc)-num_sent_per_text):\n",
    "                    authors.append(author)\n",
    "                    texts.append(' '.join(doc[i:i+num_sent_per_text]))\n",
    "        df_new = pd.DataFrame({'author':authors, 'text':texts})\n",
    "        df_new = add_dep_edges(df_new)\n",
    "        str_author = ','.join(map(str, picked_author_ids))\n",
    "        file_name = f\"author_{str_author}_sent_{num_sent_per_text}_{split}.csv\"\n",
    "        df_new.to_csv(f\"{save_folder}/{file_name}\", index=False)"
   ]
  },
  {
   "cell_type": "code",
   "execution_count": null,
   "id": "6266be3d",
   "metadata": {},
   "outputs": [],
   "source": [
    "import spacy\n",
    "text = 'How about two sentences? This is the second sentence. ($1=.6161 Pound)'\n",
    "\n",
    "doc = nlp(text)\n",
    "sentences = [sent.text.strip() for sent in doc.sents]\n"
   ]
  },
  {
   "cell_type": "code",
   "execution_count": null,
   "id": "0d514ead",
   "metadata": {},
   "outputs": [
    {
     "data": {
      "text/plain": [
       "['How about two sentences?',\n",
       " 'This is the second sentence.',\n",
       " '($1=.6161 Pound)']"
      ]
     },
     "execution_count": null,
     "metadata": {},
     "output_type": "execute_result"
    }
   ],
   "source": [
    "sentences"
   ]
  },
  {
   "cell_type": "markdown",
   "id": "50592227",
   "metadata": {},
   "source": [
    "## imdb"
   ]
  },
  {
   "cell_type": "code",
   "execution_count": null,
   "id": "ef5df63a",
   "metadata": {},
   "outputs": [],
   "source": [
    "def create_imdb_subdataset(num_authors_to_pick = None, picked_author_ids = None, num_sent_per_text = None, save_folder = '../../data/imdb/processed/'):\n",
    "    assert num_authors_to_pick is None or picked_author_ids is None, \"either specify 'num_authors_to_pick' or 'picked_author_ids'\"\n",
    "    \n",
    "    df = pd.read_csv('../../data/imdb/processed/imdb62_train.csv')\n",
    "    df_val = pd.read_csv('../../data/imdb/processed/imdb62_AA_val.csv')\n",
    "    \n",
    "    if not picked_author_ids:\n",
    "        unique_authors = list(df['author_id'].unique())\n",
    "        picked_author_ids = sorted(np.random.choice(unique_authors, replace=False, size=num_authors_to_pick).tolist())\n",
    "    \n",
    "    for split in ['train', 'val']:\n",
    "        if split == 'train':\n",
    "            df_ = df\n",
    "        else:\n",
    "            df_ = df_val\n",
    "        authors = []\n",
    "        texts = []\n",
    "        for author in picked_author_ids:\n",
    "            df_temp = df_[df_['author_id'] == author]\n",
    "            for i_doc in range(len(df_temp)):\n",
    "                doc = nlp(df_temp['text'].iloc[i_doc])\n",
    "                doc = [sent.text.strip() for sent in doc.sents]\n",
    "                while '' in doc:\n",
    "                    doc.remove('')\n",
    "                for i in range(len(doc)-num_sent_per_text):\n",
    "                    authors.append(author)\n",
    "                    texts.append(' '.join(doc[i:i+num_sent_per_text]))\n",
    "        df_new = pd.DataFrame({'author':authors, 'text':texts})\n",
    "        df_new = add_dep_edges(df_new)\n",
    "        str_author = ','.join(map(str, picked_author_ids))\n",
    "        file_name = f\"author_{str_author}_sent_{num_sent_per_text}_{split}.csv\"\n",
    "        df_new.to_csv(f\"{save_folder}/{file_name}\", index=False)"
   ]
  },
  {
   "cell_type": "code",
   "execution_count": null,
   "id": "60fa92ab",
   "metadata": {},
   "outputs": [
    {
     "data": {
      "application/vnd.jupyter.widget-view+json": {
       "model_id": "8d68b2f75deb4971be3773438cf05997",
       "version_major": 2,
       "version_minor": 0
      },
      "text/plain": [
       "  0%|          | 0/17100 [00:00<?, ?it/s]"
      ]
     },
     "metadata": {},
     "output_type": "display_data"
    },
    {
     "data": {
      "application/vnd.jupyter.widget-view+json": {
       "model_id": "86afd5c2685a46f8970c87cfc449c3c6",
       "version_major": 2,
       "version_minor": 0
      },
      "text/plain": [
       "  0%|          | 0/5846 [00:00<?, ?it/s]"
      ]
     },
     "metadata": {},
     "output_type": "display_data"
    },
    {
     "data": {
      "application/vnd.jupyter.widget-view+json": {
       "model_id": "5777879883714122950a1da12a4c42f5",
       "version_major": 2,
       "version_minor": 0
      },
      "text/plain": [
       "  0%|          | 0/20749 [00:00<?, ?it/s]"
      ]
     },
     "metadata": {},
     "output_type": "display_data"
    },
    {
     "data": {
      "application/vnd.jupyter.widget-view+json": {
       "model_id": "31893b858c6547bab538102005bc4d79",
       "version_major": 2,
       "version_minor": 0
      },
      "text/plain": [
       "  0%|          | 0/6894 [00:00<?, ?it/s]"
      ]
     },
     "metadata": {},
     "output_type": "display_data"
    }
   ],
   "source": [
    "ids = [[0,1],[2,3],[4,5]]\n",
    "num_sent_per_text = 2\n",
    "save_folder = '../../data/imdb/processed/'\n",
    "\n",
    "for picked_author_ids in ids:\n",
    "    create_imdb_subdataset(num_authors_to_pick=None, picked_author_ids=picked_author_ids, num_sent_per_text=num_sent_per_text, save_folder=save_folder)\n"
   ]
  },
  {
   "cell_type": "code",
   "execution_count": null,
   "id": "1b0bb1ae",
   "metadata": {},
   "outputs": [],
   "source": []
  }
 ],
 "metadata": {
  "kernelspec": {
   "display_name": "Python 3 (ipykernel)",
   "language": "python",
   "name": "python3"
  }
 },
 "nbformat": 4,
 "nbformat_minor": 5
}
