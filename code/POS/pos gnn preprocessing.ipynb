{
 "cells": [
  {
   "cell_type": "code",
   "execution_count": null,
   "id": "d0ef0739",
   "metadata": {},
   "outputs": [],
   "source": [
    "from nltk.parse.corenlp import CoreNLPParser,CoreNLPDependencyParser\n",
    "import numpy as np\n",
    "import random\n",
    "import time\n",
    "import pandas as pd\n",
    "from tqdm.auto import tqdm, trange"
   ]
  },
  {
   "cell_type": "code",
   "execution_count": null,
   "id": "af3e8088",
   "metadata": {},
   "outputs": [],
   "source": [
    "depparser = CoreNLPDependencyParser(url='http://localhost:9000')"
   ]
  },
  {
   "cell_type": "code",
   "execution_count": null,
   "id": "f9768924",
   "metadata": {},
   "outputs": [],
   "source": [
    "# this conversion comes from https://universaldependencies.org/tagset-conversion/en-penn-uposf.html\n",
    "# however, it's just impossible to convert to upos without knowing the context. \n",
    "# Manning's word here: https://github.com/UniversalDependencies/docs/issues/212#issuecomment-148846154\n",
    "# how to use Manning's converter: https://github.com/clulab/processors/wiki/Converting-from-Penn-Treebank-to-Basic-Stanford-Dependencies\n",
    "xpos2upos = {'#': 'SYM',\n",
    "             '$': 'SYM',\n",
    "             \"''\": 'PUNCT',\n",
    "             ',': 'PUNCT',\n",
    "             '-LRB-': 'PUNCT',\n",
    "             '-RRB-': 'PUNCT',\n",
    "             '.': 'PUNCT',\n",
    "             ':': 'PUNCT',\n",
    "             'AFX': 'ADJ',\n",
    "             'CC': 'CCONJ',\n",
    "             'CD': 'NUM',\n",
    "             'DT': 'DET',\n",
    "             'EX': 'PRON',\n",
    "             'FW': 'X',\n",
    "             'HYPH': 'PUNCT',\n",
    "             'IN': 'ADP',\n",
    "             'JJ': 'ADJ',\n",
    "             'JJR': 'ADJ',\n",
    "             'JJS': 'ADJ',\n",
    "             'LS': 'X',\n",
    "             'MD': 'VERB',\n",
    "             'NFP': 'PUNCT', # manually added. \n",
    "             'NIL': 'X',\n",
    "             'NN': 'NOUN',\n",
    "             'NNP': 'PROPN',\n",
    "             'NNPS': 'PROPN',\n",
    "             'NNS': 'NOUN',\n",
    "             'PDT': 'DET',\n",
    "             'POS': 'PART',\n",
    "             'PRP': 'PRON',\n",
    "             'PRP$': 'DET',\n",
    "             'RB': 'ADV',\n",
    "             'RBR': 'ADV',\n",
    "             'RBS': 'ADV',\n",
    "             'RP': 'ADP',\n",
    "             'SYM': 'SYM',\n",
    "             'TO': 'PART',\n",
    "             'UH': 'INTJ',\n",
    "             'VB': 'VERB',\n",
    "             'VBD': 'VERB',\n",
    "             'VBG': 'VERB',\n",
    "             'VBN': 'VERB',\n",
    "             'VBP': 'VERB',\n",
    "             'VBZ': 'VERB',\n",
    "             'WDT': 'DET',\n",
    "             'WP': 'PRON',\n",
    "             'WP$': 'DET',\n",
    "             'WRB': 'ADV',\n",
    "             '``': 'PUNCT'}\n",
    "def convert_pos_seq(pos_seq):\n",
    "    upos_seq = []\n",
    "    for token in pos_seq:\n",
    "        upos_seq.append(xpos2upos[token])\n",
    "    return upos_seq"
   ]
  },
  {
   "cell_type": "code",
   "execution_count": null,
   "id": "09cece12",
   "metadata": {},
   "outputs": [],
   "source": [
    "def add_dep_edges(df):\n",
    "    texts = df['text']\n",
    "    homo_edges = []\n",
    "    hetoro_edges = []\n",
    "    pos_seqs = []\n",
    "    upos_seqs = []\n",
    "    \n",
    "    for text in tqdm(texts):\n",
    "        parsed = depparser.raw_parse(text)\n",
    "        conll_dep = next(parsed).to_conll(4)\n",
    "        lines = conll_dep.split('\\n')\n",
    "        homo_edge = []\n",
    "        hetoro_edge = []\n",
    "        pos_seq = []\n",
    "        for i,line in enumerate(lines[:-1]):\n",
    "            l = line.split('\\t')\n",
    "            homo_edge.append([i+1, int(l[2])])\n",
    "            hetoro_edge.append(l[3])\n",
    "            pos_seq.append(l[1])\n",
    "        homo_edges.append(homo_edge)\n",
    "        hetoro_edges.append(hetoro_edge)\n",
    "        pos_seqs.append(pos_seq)\n",
    "        upos_seqs.append(convert_pos_seq(pos_seq))\n",
    "    df['homo_edges'] = homo_edges\n",
    "    df['hetoro_edges'] = hetoro_edges\n",
    "    df['pos_seqs'] = pos_seqs\n",
    "    df['upos_seqs'] = upos_seqs\n",
    "    \n",
    "    return df"
   ]
  },
  {
   "cell_type": "code",
   "execution_count": null,
   "id": "adbd29a4",
   "metadata": {},
   "outputs": [],
   "source": [
    "def create_ccat50_subdataset(num_authors_to_pick = None, picked_author_ids = None, num_sent_per_text = None, save_folder = '../../data/CCAT50/processed/'):\n",
    "    assert num_authors_to_pick is None or picked_author_ids is None, \"either specify 'num_authors_to_pick' or 'picked_author_ids'\"\n",
    "    \n",
    "    df_ccat = pd.read_csv('../../data/CCAT50/processed/CCAT50_train.csv')\n",
    "    df_ccat_val = pd.read_csv('../../data/CCAT50/processed/CCAT50_AA_val.csv')\n",
    "    \n",
    "    if not picked_author_ids:\n",
    "        unique_authors = list(df_ccat['author_id'].unique())\n",
    "        picked_author_ids = sorted(np.random.choice(unique_authors, replace=False, size=num_authors_to_pick).tolist())\n",
    "    \n",
    "    for split in ['train', 'val']:\n",
    "        if split == 'train':\n",
    "            df = df_ccat\n",
    "        else:\n",
    "            df = df_ccat_val\n",
    "        authors = []\n",
    "        texts = []\n",
    "        for author in picked_author_ids:\n",
    "            df_temp = df[df['author_id'] == author]\n",
    "            for i_doc in range(len(df_temp)):\n",
    "                doc = df_temp['text'].iloc[i_doc].split('\\n')\n",
    "                for i in range(len(doc)):\n",
    "                    doc[i] = doc[i].strip()\n",
    "                doc.remove('')\n",
    "                for i in range(len(doc)-num_sent_per_text):\n",
    "                    authors.append(author)\n",
    "                    texts.append(' '.join(doc[i:i+num_sent_per_text]))\n",
    "        df_new = pd.DataFrame({'author':authors, 'text':texts})\n",
    "        df_new = add_dep_edges(df_new)\n",
    "        str_author = ','.join(map(str, picked_author_ids))\n",
    "        file_name = f\"author_{str_author}_sent_{num_sent_per_text}_{split}.csv\"\n",
    "        df_new.to_csv(f\"{save_folder}/{file_name}\", index=False)"
   ]
  },
  {
   "cell_type": "code",
   "execution_count": null,
   "id": "8aa30f04",
   "metadata": {},
   "outputs": [
    {
     "data": {
      "application/vnd.jupyter.widget-view+json": {
       "model_id": "c6c11a25bf864b5e84eaa434b5ea468a",
       "version_major": 2,
       "version_minor": 0
      },
      "text/plain": [
       "  0%|          | 0/1293 [00:00<?, ?it/s]"
      ]
     },
     "metadata": {},
     "output_type": "display_data"
    },
    {
     "data": {
      "application/vnd.jupyter.widget-view+json": {
       "model_id": "0de0c8df089e45ae8dca8015c5fd27b8",
       "version_major": 2,
       "version_minor": 0
      },
      "text/plain": [
       "  0%|          | 0/330 [00:00<?, ?it/s]"
      ]
     },
     "metadata": {},
     "output_type": "display_data"
    },
    {
     "data": {
      "application/vnd.jupyter.widget-view+json": {
       "model_id": "d340e40d45b94aae88d829e61d818765",
       "version_major": 2,
       "version_minor": 0
      },
      "text/plain": [
       "  0%|          | 0/1283 [00:00<?, ?it/s]"
      ]
     },
     "metadata": {},
     "output_type": "display_data"
    },
    {
     "data": {
      "application/vnd.jupyter.widget-view+json": {
       "model_id": "e86de8b01cdc4779b2a98735b61d383e",
       "version_major": 2,
       "version_minor": 0
      },
      "text/plain": [
       "  0%|          | 0/309 [00:00<?, ?it/s]"
      ]
     },
     "metadata": {},
     "output_type": "display_data"
    },
    {
     "data": {
      "application/vnd.jupyter.widget-view+json": {
       "model_id": "60a5ce9fdde94bc9b8c43cc8a64d8ffe",
       "version_major": 2,
       "version_minor": 0
      },
      "text/plain": [
       "  0%|          | 0/1175 [00:00<?, ?it/s]"
      ]
     },
     "metadata": {},
     "output_type": "display_data"
    },
    {
     "data": {
      "application/vnd.jupyter.widget-view+json": {
       "model_id": "8caf3c389c87481abb7c98964fcfa170",
       "version_major": 2,
       "version_minor": 0
      },
      "text/plain": [
       "  0%|          | 0/297 [00:00<?, ?it/s]"
      ]
     },
     "metadata": {},
     "output_type": "display_data"
    }
   ],
   "source": [
    "ids = [[0,1],[2,3],[4,5]]\n",
    "num_sent_per_text = 2\n",
    "\n",
    "for picked_author_ids in ids:\n",
    "    create_ccat50_subdataset(num_authors_to_pick=None, picked_author_ids=picked_author_ids, num_sent_per_text=num_sent_per_text)\n"
   ]
  },
  {
   "cell_type": "code",
   "execution_count": null,
   "id": "11e651fa",
   "metadata": {},
   "outputs": [
    {
     "data": {
      "application/vnd.jupyter.widget-view+json": {
       "model_id": "d065cf193dcf40a9b2bbb03c22f093d4",
       "version_major": 2,
       "version_minor": 0
      },
      "text/plain": [
       "  0%|          | 0/1818 [00:00<?, ?it/s]"
      ]
     },
     "metadata": {},
     "output_type": "display_data"
    },
    {
     "data": {
      "application/vnd.jupyter.widget-view+json": {
       "model_id": "c3e7cb418647477c97d2ed6131bbb1e4",
       "version_major": 2,
       "version_minor": 0
      },
      "text/plain": [
       "  0%|          | 0/452 [00:00<?, ?it/s]"
      ]
     },
     "metadata": {},
     "output_type": "display_data"
    },
    {
     "data": {
      "application/vnd.jupyter.widget-view+json": {
       "model_id": "3fecef7093e54d528fb47a05f39a4c27",
       "version_major": 2,
       "version_minor": 0
      },
      "text/plain": [
       "  0%|          | 0/1843 [00:00<?, ?it/s]"
      ]
     },
     "metadata": {},
     "output_type": "display_data"
    },
    {
     "data": {
      "application/vnd.jupyter.widget-view+json": {
       "model_id": "5e6dcab260324210b35ec34cc7c2b5ac",
       "version_major": 2,
       "version_minor": 0
      },
      "text/plain": [
       "  0%|          | 0/485 [00:00<?, ?it/s]"
      ]
     },
     "metadata": {},
     "output_type": "display_data"
    }
   ],
   "source": [
    "ids = [[0,1,2],[3,4,5],[6,7,8]]\n",
    "num_sent_per_text = 2\n",
    "\n",
    "for picked_author_ids in ids:\n",
    "    create_ccat50_subdataset(num_authors_to_pick=None, picked_author_ids=picked_author_ids, num_sent_per_text=num_sent_per_text)\n"
   ]
  },
  {
   "cell_type": "code",
   "execution_count": null,
   "id": "932847f3",
   "metadata": {},
   "outputs": [
    {
     "data": {
      "application/vnd.jupyter.widget-view+json": {
       "model_id": "339695d3b118415fbe7ffc8a0e672caa",
       "version_major": 2,
       "version_minor": 0
      },
      "text/plain": [
       "  0%|          | 0/2576 [00:00<?, ?it/s]"
      ]
     },
     "metadata": {},
     "output_type": "display_data"
    },
    {
     "data": {
      "application/vnd.jupyter.widget-view+json": {
       "model_id": "20618c07d1d84a63b7216a41e82c0f37",
       "version_major": 2,
       "version_minor": 0
      },
      "text/plain": [
       "  0%|          | 0/639 [00:00<?, ?it/s]"
      ]
     },
     "metadata": {},
     "output_type": "display_data"
    },
    {
     "data": {
      "application/vnd.jupyter.widget-view+json": {
       "model_id": "7cfd9e7184ba46728ec366e2dc94c842",
       "version_major": 2,
       "version_minor": 0
      },
      "text/plain": [
       "  0%|          | 0/2457 [00:00<?, ?it/s]"
      ]
     },
     "metadata": {},
     "output_type": "display_data"
    },
    {
     "data": {
      "application/vnd.jupyter.widget-view+json": {
       "model_id": "521db9cfee104b01924a083f33b36300",
       "version_major": 2,
       "version_minor": 0
      },
      "text/plain": [
       "  0%|          | 0/639 [00:00<?, ?it/s]"
      ]
     },
     "metadata": {},
     "output_type": "display_data"
    },
    {
     "data": {
      "application/vnd.jupyter.widget-view+json": {
       "model_id": "c38899c7afcd4bd48cdf6b681373c65f",
       "version_major": 2,
       "version_minor": 0
      },
      "text/plain": [
       "  0%|          | 0/2451 [00:00<?, ?it/s]"
      ]
     },
     "metadata": {},
     "output_type": "display_data"
    },
    {
     "data": {
      "application/vnd.jupyter.widget-view+json": {
       "model_id": "bd293a0ce15a43aa8d84298649c9d02d",
       "version_major": 2,
       "version_minor": 0
      },
      "text/plain": [
       "  0%|          | 0/577 [00:00<?, ?it/s]"
      ]
     },
     "metadata": {},
     "output_type": "display_data"
    }
   ],
   "source": [
    "ids = [[0,1,2,3],[4,5,6,7],[8,9,10,11]]\n",
    "num_sent_per_text = 2\n",
    "\n",
    "for picked_author_ids in ids:\n",
    "    create_ccat50_subdataset(num_authors_to_pick=None, picked_author_ids=picked_author_ids, num_sent_per_text=num_sent_per_text)\n"
   ]
  },
  {
   "cell_type": "code",
   "execution_count": null,
   "id": "fb887202",
   "metadata": {},
   "outputs": [],
   "source": []
  }
 ],
 "metadata": {
  "kernelspec": {
   "display_name": "Python 3 (ipykernel)",
   "language": "python",
   "name": "python3"
  }
 },
 "nbformat": 4,
 "nbformat_minor": 5
}
