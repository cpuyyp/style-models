{
 "cells": [
  {
   "cell_type": "code",
   "execution_count": null,
   "id": "e0932e3f",
   "metadata": {},
   "outputs": [],
   "source": [
    "from tokenizers import Tokenizer\n",
    "from tokenizers.trainers import WordLevelTrainer\n",
    "from tokenizers.models import WordLevel\n",
    "from tokenizers.pre_tokenizers import Whitespace\n",
    "from tokenizers.processors import TemplateProcessing\n",
    "from transformers import PreTrainedTokenizer, PreTrainedTokenizerFast, AutoTokenizer\n",
    "from transformers import BertForMaskedLM, BertConfig, PreTrainedModel, AutoModel, AutoModelForSequenceClassification\n",
    "from transformers import DataCollatorForLanguageModeling, DataCollatorWithPadding\n",
    "from transformers import Trainer, TrainingArguments\n",
    "import torch\n",
    "from nltk.parse.corenlp import CoreNLPParser\n",
    "from nltk.tag.hunpos import HunposTagger\n",
    "from nltk.tokenize import word_tokenize\n",
    "import stanza\n",
    "import nltk\n",
    "import numpy as np\n",
    "from datasets import load_dataset, load_from_disk\n",
    "from numerize import numerize\n",
    "import wandb\n",
    "import os \n",
    "import typing\n",
    "import tokenizers\n",
    "from tqdm.auto import trange, tqdm\n",
    "from itertools import cycle\n"
   ]
  },
  {
   "cell_type": "code",
   "execution_count": null,
   "id": "70676f97",
   "metadata": {},
   "outputs": [],
   "source": [
    "device = torch.device(\"cuda\" if torch.cuda.is_available() else \"cpu\")\n"
   ]
  },
  {
   "cell_type": "code",
   "execution_count": null,
   "id": "dd967865",
   "metadata": {},
   "outputs": [],
   "source": [
    "from sklearn.decomposition import PCA\n",
    "import matplotlib.pyplot as plt"
   ]
  },
  {
   "cell_type": "code",
   "execution_count": null,
   "id": "98ffa2d9",
   "metadata": {},
   "outputs": [],
   "source": [
    "config = BertConfig.from_json_file('/scratch/data_jz17d/result/pos_mlm/corenlp_pos_mlm_5/checkpoint-75000/config.json')"
   ]
  },
  {
   "cell_type": "code",
   "execution_count": null,
   "id": "82460ffd",
   "metadata": {},
   "outputs": [],
   "source": [
    "tokenizer = AutoTokenizer.from_pretrained('/scratch/data_jz17d/result/pos_mlm/corenlp_pos_mlm_5/checkpoint-75000/', local_files_only=True)"
   ]
  },
  {
   "cell_type": "code",
   "execution_count": null,
   "id": "3e80ef78",
   "metadata": {},
   "outputs": [
    {
     "name": "stderr",
     "output_type": "stream",
     "text": [
      "Some weights of the model checkpoint at /scratch/data_jz17d/result/pos_mlm/corenlp_pos_mlm_5/checkpoint-75000/ were not used when initializing BertForSequenceClassification: ['cls.predictions.decoder.weight', 'cls.predictions.transform.LayerNorm.weight', 'cls.predictions.transform.dense.weight', 'cls.predictions.decoder.bias', 'cls.predictions.transform.dense.bias', 'cls.predictions.transform.LayerNorm.bias', 'cls.predictions.bias']\n",
      "- This IS expected if you are initializing BertForSequenceClassification from the checkpoint of a model trained on another task or with another architecture (e.g. initializing a BertForSequenceClassification model from a BertForPreTraining model).\n",
      "- This IS NOT expected if you are initializing BertForSequenceClassification from the checkpoint of a model that you expect to be exactly identical (initializing a BertForSequenceClassification model from a BertForSequenceClassification model).\n",
      "Some weights of BertForSequenceClassification were not initialized from the model checkpoint at /scratch/data_jz17d/result/pos_mlm/corenlp_pos_mlm_5/checkpoint-75000/ and are newly initialized: ['classifier.bias', 'classifier.weight', 'bert.pooler.dense.weight', 'bert.pooler.dense.bias']\n",
      "You should probably TRAIN this model on a down-stream task to be able to use it for predictions and inference.\n"
     ]
    }
   ],
   "source": [
    "model = AutoModelForSequenceClassification.from_pretrained('/scratch/data_jz17d/result/pos_mlm/corenlp_pos_mlm_5/checkpoint-75000/', local_files_only=True, num_labels=3)\n",
    "\n"
   ]
  },
  {
   "cell_type": "markdown",
   "id": "6726654c",
   "metadata": {},
   "source": [
    "# visualize POS embeddings"
   ]
  },
  {
   "cell_type": "code",
   "execution_count": null,
   "id": "725b2342",
   "metadata": {},
   "outputs": [],
   "source": [
    "id2token = {v:k for k,v in tokenizer.vocab.items()}"
   ]
  },
  {
   "cell_type": "code",
   "execution_count": null,
   "id": "c25204e8",
   "metadata": {},
   "outputs": [],
   "source": [
    "embs = model.embeddings.word_embeddings.weight.detach().numpy()"
   ]
  },
  {
   "cell_type": "code",
   "execution_count": null,
   "id": "3b08ef18",
   "metadata": {},
   "outputs": [],
   "source": [
    "pca = PCA(2)\n",
    "pca.fit(embs)\n",
    "transformed_embs = pca.transform(embs)"
   ]
  },
  {
   "cell_type": "code",
   "execution_count": null,
   "id": "cee75c2e",
   "metadata": {},
   "outputs": [
    {
     "data": {
      "image/png": "[encoded data removed]",
      "text/plain": [
       "<Figure size 432x288 with 1 Axes>"
      ]
     },
     "metadata": {
      "needs_background": "light"
     },
     "output_type": "display_data"
    }
   ],
   "source": [
    "for i in range(embs.shape[0]):\n",
    "    plt.scatter(transformed_embs[i,0], transformed_embs[i,1])\n",
    "    plt.annotate(f'{id2token[i]}', (transformed_embs[i,0], transformed_embs[i,1]))\n",
    "# plt.legend()\n",
    "plt.show()"
   ]
  },
  {
   "cell_type": "markdown",
   "id": "badb800d",
   "metadata": {},
   "source": [
    "# synthetic style"
   ]
  },
  {
   "cell_type": "code",
   "execution_count": null,
   "id": "29107b37",
   "metadata": {},
   "outputs": [],
   "source": [
    "def gene_sentences(num_sentences, sentence_length, tokens, dists, prob_of_dist=None):\n",
    "    dist_idx = np.arange(0,len(dists), dtype=int).tolist()\n",
    "    if prob_of_dist is None:\n",
    "        prob_of_dist = np.ones(len(dists))/len(dists)\n",
    "    sentences = []\n",
    "    labels = []\n",
    "    for i in range(num_sentences):\n",
    "        i_dist = np.random.choice(dist_idx, p = prob_of_dist)\n",
    "        sent = np.random.choice(common_tokens, size = 15, p = dists[i_dist]).tolist()\n",
    "        sentences.append(' '.join(sent))\n",
    "        labels.append(i_dist)\n",
    "    return sentences, labels"
   ]
  },
  {
   "cell_type": "code",
   "execution_count": null,
   "id": "23094947",
   "metadata": {},
   "outputs": [],
   "source": [
    "common_tokens = ['DT', 'IN', 'JJ', 'NN', 'PRP', 'RB', 'VB']\n",
    "dist_1 = [0.1, 0.1, 0.1, 0.1, 0.1, 0.1, 0.4]\n",
    "dist_2 = [0.1, 0.1, 0.1, 0.4, 0.1, 0.1, 0.1]\n",
    "dist_3 = [0.4, 0.1, 0.1, 0.1, 0.1, 0.1, 0.1]\n",
    "dists = [dist_1, dist_2, dist_3]\n",
    "sentence_length = 15\n",
    "train_sentences, train_labels = gene_sentences(3000, sentence_length, common_tokens, dists)\n",
    "test_sentences, test_labels = gene_sentences(300, sentence_length, common_tokens, dists)\n"
   ]
  },
  {
   "cell_type": "code",
   "execution_count": null,
   "id": "6d65382c",
   "metadata": {},
   "outputs": [],
   "source": [
    "def freeze_model(model, freeze_bert):\n",
    "    '''\n",
    "    if freeze_bert == True, freeze all layer. \n",
    "    if freeze_bert is a positive integer, freeze the bottom {freeze_bert} attention layers\n",
    "    negative integer should also work\n",
    "    '''\n",
    "    if freeze_bert==True:\n",
    "        for param in model.bert.parameters():\n",
    "            param.requires_grad = False\n",
    "    elif isinstance(freeze_bert, (int, np.int32, np.int64, torch.int32, torch.int64)):\n",
    "        for param in model.bert.embeddings.parameters():\n",
    "            param.requires_grad = False  \n",
    "        for layer in model.bert.encoder.layer[:freeze_bert]: \n",
    "            for param in layer.parameters():\n",
    "                param.requires_grad = False  \n",
    "    return model"
   ]
  },
  {
   "cell_type": "code",
   "execution_count": null,
   "id": "2dc6a464",
   "metadata": {},
   "outputs": [
    {
     "name": "stderr",
     "output_type": "stream",
     "text": [
      "Some weights of the model checkpoint at /scratch/data_jz17d/result/pos_mlm/corenlp_pos_mlm_5/checkpoint-75000/ were not used when initializing BertForSequenceClassification: ['cls.predictions.decoder.weight', 'cls.predictions.transform.LayerNorm.weight', 'cls.predictions.transform.dense.weight', 'cls.predictions.decoder.bias', 'cls.predictions.transform.dense.bias', 'cls.predictions.transform.LayerNorm.bias', 'cls.predictions.bias']\n",
      "- This IS expected if you are initializing BertForSequenceClassification from the checkpoint of a model trained on another task or with another architecture (e.g. initializing a BertForSequenceClassification model from a BertForPreTraining model).\n",
      "- This IS NOT expected if you are initializing BertForSequenceClassification from the checkpoint of a model that you expect to be exactly identical (initializing a BertForSequenceClassification model from a BertForSequenceClassification model).\n",
      "Some weights of BertForSequenceClassification were not initialized from the model checkpoint at /scratch/data_jz17d/result/pos_mlm/corenlp_pos_mlm_5/checkpoint-75000/ and are newly initialized: ['classifier.bias', 'classifier.weight', 'bert.pooler.dense.weight', 'bert.pooler.dense.bias']\n",
      "You should probably TRAIN this model on a down-stream task to be able to use it for predictions and inference.\n"
     ]
    }
   ],
   "source": [
    "num_labels = 3\n",
    "freeze_bert = 3\n",
    "model = AutoModelForSequenceClassification.from_pretrained('/scratch/data_jz17d/result/pos_mlm/corenlp_pos_mlm_5/checkpoint-75000/', local_files_only=True, num_labels=num_labels)\n",
    "model = freeze_model(model, freeze_bert)"
   ]
  },
  {
   "cell_type": "code",
   "execution_count": null,
   "id": "227684a9",
   "metadata": {},
   "outputs": [],
   "source": [
    "from torch.utils.data import Dataset, DataLoader"
   ]
  },
  {
   "cell_type": "code",
   "execution_count": null,
   "id": "daf87e3e",
   "metadata": {},
   "outputs": [],
   "source": [
    "class SynDatasets(Dataset): \n",
    "    def __init__(self, sentences, labels):\n",
    "        self.sentences = np.array(sentences)\n",
    "        self.labels = np.array(labels)\n",
    "        self.num_sents = len(self.sentences)\n",
    "        \n",
    "    def __len__(self):\n",
    "        return self.num_sents\n",
    "\n",
    "    def __getitem__(self, idx): \n",
    "        if torch.is_tensor(idx):\n",
    "            idx = idx.tolist()\n",
    "            out = tokenizer(text = self.sentences[idx].tolist(), return_tensors='pt', padding=True, truncation=True).to(device)\n",
    "            out.update({'labels':torch.from_numpy(self.labels[idx])})\n",
    "        else:\n",
    "            out = tokenizer(text = self.sentences[idx].tolist(), return_tensors='pt', padding=True, truncation=True).to(device)\n",
    "            out.update({'labels':torch.LongTensor([self.labels[idx]])})\n",
    "        return out"
   ]
  },
  {
   "cell_type": "code",
   "execution_count": null,
   "id": "5f123c1b",
   "metadata": {},
   "outputs": [],
   "source": [
    "# def collate_fn(batch):\n",
    "#     batch_out = batch.copy()\n",
    "#     batch_out.update({k:v for k,v in tokenizer(text = batch_out['text'], return_tensors='pt', padding=True, truncation=True).to(device).items()})\n",
    "#     del batch_out['text']\n",
    "#     return batch_out"
   ]
  },
  {
   "cell_type": "code",
   "execution_count": null,
   "id": "2a377258",
   "metadata": {},
   "outputs": [],
   "source": [
    "data_collator = DataCollatorWithPadding(tokenizer, padding = True, return_tensors = 'pt')\n"
   ]
  },
  {
   "cell_type": "code",
   "execution_count": null,
   "id": "9ac33f5f",
   "metadata": {},
   "outputs": [],
   "source": [
    "def tokenize(examples):\n",
    "    labels = examples['labels']\n",
    "    out = tokenizer(examples['text'], padding=True, truncation=True)\n",
    "    out.update({'labels':labels})\n",
    "    return out"
   ]
  },
  {
   "cell_type": "code",
   "execution_count": null,
   "id": "f5a84071",
   "metadata": {},
   "outputs": [
    {
     "data": {
      "application/vnd.jupyter.widget-view+json": {
       "model_id": "9e905a9472744d09b0a57ea64c512e65",
       "version_major": 2,
       "version_minor": 0
      },
      "text/plain": [
       "  0%|          | 0/3 [00:00<?, ?ba/s]"
      ]
     },
     "metadata": {},
     "output_type": "display_data"
    },
    {
     "data": {
      "application/vnd.jupyter.widget-view+json": {
       "model_id": "c40aa09a2f0e4b3aaa65b31e9b5b0aab",
       "version_major": 2,
       "version_minor": 0
      },
      "text/plain": [
       "  0%|          | 0/1 [00:00<?, ?ba/s]"
      ]
     },
     "metadata": {},
     "output_type": "display_data"
    }
   ],
   "source": [
    "from datasets import Dataset\n",
    "\n",
    "train_dataset = Dataset.from_dict({\"text\": train_sentences, 'labels':train_labels})\n",
    "train_dataset = train_dataset.map(tokenize, batched=True)\n",
    "train_dataset = train_dataset.remove_columns(['text'])\n",
    "\n",
    "test_dataset = Dataset.from_dict({\"text\": test_sentences, 'labels':test_labels})\n",
    "test_dataset = test_dataset.map(tokenize, batched=True)\n",
    "test_dataset = test_dataset.remove_columns(['text'])\n"
   ]
  },
  {
   "cell_type": "code",
   "execution_count": null,
   "id": "1e190005",
   "metadata": {},
   "outputs": [
    {
     "data": {
      "text/plain": [
       "Dataset({\n",
       "    features: ['attention_mask', 'input_ids', 'labels', 'token_type_ids'],\n",
       "    num_rows: 300\n",
       "})"
      ]
     },
     "execution_count": null,
     "metadata": {},
     "output_type": "execute_result"
    }
   ],
   "source": [
    "test_dataset"
   ]
  },
  {
   "cell_type": "code",
   "execution_count": null,
   "id": "f4e28a1b",
   "metadata": {},
   "outputs": [],
   "source": [
    "epochs = 5\n",
    "batchsize = 128\n",
    "num_labels = 3\n",
    "freeze_bert = 3\n",
    "num_runs = 3"
   ]
  },
  {
   "cell_type": "code",
   "execution_count": null,
   "id": "033f27dd",
   "metadata": {},
   "outputs": [
    {
     "data": {
      "application/vnd.jupyter.widget-view+json": {
       "model_id": "814d13b1af5c427695049051aab16793",
       "version_major": 2,
       "version_minor": 0
      },
      "text/plain": [
       "  0%|          | 0/3 [00:00<?, ?it/s]"
      ]
     },
     "metadata": {},
     "output_type": "display_data"
    },
    {
     "name": "stderr",
     "output_type": "stream",
     "text": [
      "loading configuration file /scratch/data_jz17d/result/pos_mlm/corenlp_pos_mlm_5/checkpoint-75000/config.json\n",
      "Model config BertConfig {\n",
      "  \"architectures\": [\n",
      "    \"BertForMaskedLM\"\n",
      "  ],\n",
      "  \"attention_probs_dropout_prob\": 0.1,\n",
      "  \"classifier_dropout\": null,\n",
      "  \"hidden_act\": \"gelu\",\n",
      "  \"hidden_dropout_prob\": 0.1,\n",
      "  \"hidden_size\": 32,\n",
      "  \"id2label\": {\n",
      "    \"0\": \"LABEL_0\",\n",
      "    \"1\": \"LABEL_1\",\n",
      "    \"2\": \"LABEL_2\"\n",
      "  },\n",
      "  \"initializer_range\": 0.02,\n",
      "  \"intermediate_size\": 128,\n",
      "  \"label2id\": {\n",
      "    \"LABEL_0\": 0,\n",
      "    \"LABEL_1\": 1,\n",
      "    \"LABEL_2\": 2\n",
      "  },\n",
      "  \"layer_norm_eps\": 1e-12,\n",
      "  \"max_position_embeddings\": 128,\n",
      "  \"model_type\": \"bert\",\n",
      "  \"num_attention_heads\": 4,\n",
      "  \"num_hidden_layers\": 3,\n",
      "  \"pad_token_id\": 3,\n",
      "  \"position_embedding_type\": \"absolute\",\n",
      "  \"torch_dtype\": \"float32\",\n",
      "  \"transformers_version\": \"4.12.3\",\n",
      "  \"type_vocab_size\": 2,\n",
      "  \"use_cache\": true,\n",
      "  \"vocab_size\": 49\n",
      "}\n",
      "\n",
      "loading weights file /scratch/data_jz17d/result/pos_mlm/corenlp_pos_mlm_5/checkpoint-75000/pytorch_model.bin\n",
      "Some weights of the model checkpoint at /scratch/data_jz17d/result/pos_mlm/corenlp_pos_mlm_5/checkpoint-75000/ were not used when initializing BertForSequenceClassification: ['cls.predictions.decoder.weight', 'cls.predictions.transform.LayerNorm.weight', 'cls.predictions.transform.dense.weight', 'cls.predictions.decoder.bias', 'cls.predictions.transform.dense.bias', 'cls.predictions.transform.LayerNorm.bias', 'cls.predictions.bias']\n",
      "- This IS expected if you are initializing BertForSequenceClassification from the checkpoint of a model trained on another task or with another architecture (e.g. initializing a BertForSequenceClassification model from a BertForPreTraining model).\n",
      "- This IS NOT expected if you are initializing BertForSequenceClassification from the checkpoint of a model that you expect to be exactly identical (initializing a BertForSequenceClassification model from a BertForSequenceClassification model).\n",
      "Some weights of BertForSequenceClassification were not initialized from the model checkpoint at /scratch/data_jz17d/result/pos_mlm/corenlp_pos_mlm_5/checkpoint-75000/ and are newly initialized: ['classifier.bias', 'classifier.weight', 'bert.pooler.dense.weight', 'bert.pooler.dense.bias']\n",
      "You should probably TRAIN this model on a down-stream task to be able to use it for predictions and inference.\n",
      "PyTorch: setting up devices\n",
      "The default value for the training argument `--report_to` will change in v5 (from all installed integrations to none). In v5, you will need to use `--report_to all` to get the same behavior as now. You should start updating your code and make this info disappear :-).\n"
     ]
    },
    {
     "data": {
      "text/html": [
       "Finishing last run (ID:iyh5vj3r) before initializing another..."
      ],
      "text/plain": [
       "<IPython.core.display.HTML object>"
      ]
     },
     "metadata": {},
     "output_type": "display_data"
    },
    {
     "data": {
      "text/html": [
       "Waiting for W&B process to finish... <strong style=\"color:green\">(success).</strong>"
      ],
      "text/plain": [
       "<IPython.core.display.HTML object>"
      ]
     },
     "metadata": {},
     "output_type": "display_data"
    },
    {
     "data": {
      "application/vnd.jupyter.widget-view+json": {
       "model_id": "",
       "version_major": 2,
       "version_minor": 0
      },
      "text/plain": [
       "VBox(children=(Label(value='0.001 MB of 0.001 MB uploaded (0.000 MB deduped)\\r'), FloatProgress(value=1.0, max…"
      ]
     },
     "metadata": {},
     "output_type": "display_data"
    },
    {
     "data": {
      "text/html": [
       "Synced <strong style=\"color:#cdcd00\">pos mlm 0</strong>: <a href=\"https://wandb.ai/fsu-dsc-cil/POS%20MLM%20syn%20style/runs/iyh5vj3r\" target=\"_blank\">https://wandb.ai/fsu-dsc-cil/POS%20MLM%20syn%20style/runs/iyh5vj3r</a><br/>Synced 6 W&B file(s), 0 media file(s), 0 artifact file(s) and 0 other file(s)"
      ],
      "text/plain": [
       "<IPython.core.display.HTML object>"
      ]
     },
     "metadata": {},
     "output_type": "display_data"
    },
    {
     "data": {
      "text/html": [
       "Find logs at: <code>/scratch/data_jz17d/wandb_tmp/wandb/run-20221103_171725-iyh5vj3r/logs</code>"
      ],
      "text/plain": [
       "<IPython.core.display.HTML object>"
      ]
     },
     "metadata": {},
     "output_type": "display_data"
    },
    {
     "data": {
      "text/html": [
       "Successfully finished last run (ID:iyh5vj3r). Initializing new run:<br/>"
      ],
      "text/plain": [
       "<IPython.core.display.HTML object>"
      ]
     },
     "metadata": {},
     "output_type": "display_data"
    },
    {
     "name": "stdout",
     "output_type": "stream",
     "text": [
      "huggingface/tokenizers: The current process just got forked, after parallelism has already been used. Disabling parallelism to avoid deadlocks...\n",
      "To disable this warning, you can either:\n",
      "\t- Avoid using `tokenizers` before the fork if possible\n",
      "\t- Explicitly set the environment variable TOKENIZERS_PARALLELISM=(true | false)\n"
     ]
    },
    {
     "data": {
      "application/vnd.jupyter.widget-view+json": {
       "model_id": "acd96d13c1334f87933d45e11fcc6645",
       "version_major": 2,
       "version_minor": 0
      },
      "text/plain": [
       "VBox(children=(Label(value='Waiting for wandb.init()...\\r'), FloatProgress(value=0.033345667521158855, max=1.0…"
      ]
     },
     "metadata": {},
     "output_type": "display_data"
    }
   ],
   "source": [
    "\n",
    "for i_run in trange(num_runs):\n",
    "\n",
    "    model = AutoModelForSequenceClassification.from_pretrained('/scratch/data_jz17d/result/pos_mlm/corenlp_pos_mlm_5/checkpoint-75000/', local_files_only=True, num_labels=num_labels)\n",
    "    model = freeze_model(model, freeze_bert)\n",
    "    \n",
    "    # trainer config\n",
    "    training_args = TrainingArguments(\n",
    "#         learning_rate=lr,\n",
    "        output_dir= f\"/scratch/data_jz17d/result/pos_mlm_syn_style/pos_mlm_{i_run}\",\n",
    "        overwrite_output_dir=True,\n",
    "        num_train_epochs=epochs,\n",
    "        per_device_train_batch_size=batchsize,\n",
    "        per_device_eval_batch_size=batchsize,\n",
    "        evaluation_strategy='epoch',\n",
    "        logging_strategy='epoch',\n",
    "        save_strategy='epoch',\n",
    "#         save_steps=control_steps,\n",
    "#         logging_steps=control_steps,\n",
    "#         eval_steps=control_steps,\n",
    "        save_total_limit=2,\n",
    "        prediction_loss_only=True,\n",
    "        remove_unused_columns=False,\n",
    "#         report_to='wandb',\n",
    "        )\n",
    "    \n",
    "    # wandb config\n",
    "    wconfig = {}\n",
    "#     wconfig['tagger'] = tagger\n",
    "#     wconfig['mlm_probability'] = mlm_probability\n",
    "#     wconfig['lr'] = lr\n",
    "    run = wandb.init(project=\"POS MLM syn style\", \n",
    "                     entity=\"fsu-dsc-cil\", \n",
    "                     dir='/scratch/data_jz17d/wandb_tmp/', \n",
    "                     config=wconfig,\n",
    "                     name=f'pos mlm {i_run}',\n",
    "                     reinit=True)\n",
    "\n",
    "    trainer = Trainer(\n",
    "        model=model,\n",
    "        args=training_args,\n",
    "        tokenizer=tokenizer,\n",
    "        data_collator=data_collator,\n",
    "        train_dataset=train_dataset,\n",
    "        eval_dataset=test_dataset,\n",
    "    )\n",
    "    trainer.train()\n",
    "    run.finish()"
   ]
  },
  {
   "cell_type": "code",
   "execution_count": null,
   "id": "4e13b565",
   "metadata": {},
   "outputs": [],
   "source": []
  },
  {
   "cell_type": "code",
   "execution_count": null,
   "id": "10a1aeb5",
   "metadata": {},
   "outputs": [],
   "source": []
  }
 ],
 "metadata": {
  "kernelspec": {
   "display_name": "Python 3 (ipykernel)",
   "language": "python",
   "name": "python3"
  }
 },
 "nbformat": 4,
 "nbformat_minor": 5
}
