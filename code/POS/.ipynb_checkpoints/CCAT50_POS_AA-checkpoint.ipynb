{
 "cells": [
  {
   "cell_type": "code",
   "execution_count": null,
   "id": "cc1632a0",
   "metadata": {},
   "outputs": [],
   "source": [
    "from sklearn.model_selection import train_test_split\n",
    "import logging\n",
    "from tqdm.auto import tqdm, trange\n",
    "import os\n",
    "import argparse\n",
    "import random\n",
    "import numpy as np\n",
    "from glob import glob\n",
    "from typing import List, Dict\n",
    "import pandas as pd\n"
   ]
  },
  {
   "cell_type": "code",
   "execution_count": null,
   "id": "ffe86284",
   "metadata": {},
   "outputs": [],
   "source": [
    "from transformers import PreTrainedTokenizer, PreTrainedTokenizerFast, AutoTokenizer\n",
    "from transformers import BertForMaskedLM, BertConfig, PreTrainedModel, AutoModel, AutoModelForSequenceClassification\n",
    "from transformers import DataCollatorForLanguageModeling, DataCollatorWithPadding\n",
    "from transformers import Trainer, TrainingArguments\n",
    "from transformers import IntervalStrategy\n",
    "import torch\n",
    "import wandb\n",
    "from datasets import Dataset\n",
    "from sklearn import preprocessing\n",
    "import evaluate\n",
    "import transformers\n",
    "from sklearn.metrics import mean_squared_error, accuracy_score, precision_recall_fscore_support\n",
    "import datasets"
   ]
  },
  {
   "cell_type": "code",
   "execution_count": null,
   "id": "a1dab0e3",
   "metadata": {},
   "outputs": [
    {
     "data": {
      "text/plain": [
       "'4.18.0'"
      ]
     },
     "execution_count": null,
     "metadata": {},
     "output_type": "execute_result"
    }
   ],
   "source": [
    "transformers.__version__"
   ]
  },
  {
   "cell_type": "code",
   "execution_count": null,
   "id": "e7645ab3",
   "metadata": {},
   "outputs": [],
   "source": [
    "device = torch.device(\"cuda\" if torch.cuda.is_available() else \"cpu\")\n"
   ]
  },
  {
   "cell_type": "code",
   "execution_count": null,
   "id": "19626c19",
   "metadata": {},
   "outputs": [
    {
     "data": {
      "text/plain": [
       "device(type='cuda')"
      ]
     },
     "execution_count": null,
     "metadata": {},
     "output_type": "execute_result"
    }
   ],
   "source": [
    "device"
   ]
  },
  {
   "cell_type": "markdown",
   "id": "26f42713",
   "metadata": {},
   "source": [
    "# data preprocessing"
   ]
  },
  {
   "cell_type": "code",
   "execution_count": null,
   "id": "7331f944",
   "metadata": {},
   "outputs": [],
   "source": [
    "df_ccat = pd.read_csv('../../data/CCAT50/processed/CCAT50_train.csv')"
   ]
  },
  {
   "cell_type": "code",
   "execution_count": null,
   "id": "41905f83",
   "metadata": {},
   "outputs": [],
   "source": [
    "df_ccat_val = pd.read_csv('../../data/CCAT50/processed/CCAT50_AA_val.csv')"
   ]
  },
  {
   "cell_type": "code",
   "execution_count": null,
   "id": "088666ff",
   "metadata": {},
   "outputs": [],
   "source": [
    "def create_dataset(df_ccat, num_authors_to_pick = None, picked_author_ids = None, num_sent_per_text = None, save_folder = None):\n",
    "    unique_authors = list(df_ccat['author_id'].unique())\n",
    "    if not picked_author_ids:\n",
    "        picked_author_ids = sorted(np.random.choice(unique_authors, replace=False, size=num_authors_to_pick).tolist())\n",
    "    authors = []\n",
    "    texts = []\n",
    "    for author in picked_author_ids:\n",
    "        df_temp = df_ccat[df_ccat['author_id'] == author]\n",
    "        for i_doc in range(len(df_temp)):\n",
    "            doc = df_temp['text'].iloc[i_doc].split('\\n')\n",
    "            for i in range(len(doc)):\n",
    "                doc[i] = doc[i].strip()\n",
    "            doc.remove('')\n",
    "            for i in range(len(doc)-num_sent_per_text):\n",
    "                authors.append(author)\n",
    "                texts.append(' '.join(doc[i:i+num_sent_per_text]))\n",
    "    df = pd.DataFrame({'author':authors, 'text':texts})\n",
    "    if save_folder:\n",
    "        str_author = ','.join(map(str, picked_author_ids))\n",
    "        file_name = f'author_{str_author}_sent_{num_sent_per_text}.csv'\n",
    "        df.to_csv(f\"{save_folder}/{file_name}\", index=False)\n",
    "        return df, file_name\n",
    "    return df"
   ]
  },
  {
   "cell_type": "code",
   "execution_count": null,
   "id": "bf13ff39",
   "metadata": {},
   "outputs": [],
   "source": []
  },
  {
   "cell_type": "code",
   "execution_count": null,
   "id": "e66dbfcb",
   "metadata": {},
   "outputs": [],
   "source": [
    "# # num_authors_to_pick = 2 # useless when specifying picked authors\n",
    "# picked_author_ids = [0,1]\n",
    "# num_sent_per_text = 1\n",
    "# save_folder = '../../data/CCAT50/processed/'\n",
    "# df, file_name = create_dataset(df_ccat, picked_author_ids = picked_author_ids, num_sent_per_text = num_sent_per_text, save_folder = save_folder)"
   ]
  },
  {
   "cell_type": "markdown",
   "id": "ea14a64a",
   "metadata": {},
   "source": [
    "# model and train"
   ]
  },
  {
   "cell_type": "code",
   "execution_count": null,
   "id": "bb7681c7",
   "metadata": {},
   "outputs": [],
   "source": [
    "def nested_to(dic, device):\n",
    "    for k,v in dic.items():\n",
    "        dic[k] = v.to(device)\n",
    "    return dic"
   ]
  },
  {
   "cell_type": "code",
   "execution_count": null,
   "id": "10766da4",
   "metadata": {},
   "outputs": [],
   "source": [
    "def tokenize(examples):\n",
    "    labels = examples['author']\n",
    "    out = tokenizer(examples['text'], padding=True, truncation=True, max_length=128)\n",
    "    out.update({'labels':le.transform(labels)})\n",
    "    return out"
   ]
  },
  {
   "cell_type": "code",
   "execution_count": null,
   "id": "58eb2c3a",
   "metadata": {},
   "outputs": [],
   "source": [
    "tokenizer = AutoTokenizer.from_pretrained('/scratch/data_jz17d/result/pos_mlm_corenlp/pos_mlm_8/checkpoint-155000/', local_files_only=True)"
   ]
  },
  {
   "cell_type": "code",
   "execution_count": null,
   "id": "19fe8a05",
   "metadata": {},
   "outputs": [],
   "source": [
    "def freeze_model(model, freeze_bert):\n",
    "    '''\n",
    "    if freeze_bert == True, freeze all layer. \n",
    "    if freeze_bert is a positive integer, freeze the bottom {freeze_bert} attention layers\n",
    "    negative integer should also work\n",
    "    '''\n",
    "    if freeze_bert==True:\n",
    "        for param in model.bert.parameters():\n",
    "            param.requires_grad = False\n",
    "    elif isinstance(freeze_bert, (int, np.int32, np.int64, torch.int32, torch.int64)):\n",
    "        for param in model.bert.embeddings.parameters():\n",
    "            param.requires_grad = False  \n",
    "        for layer in model.bert.encoder.layer[:freeze_bert]: \n",
    "            for param in layer.parameters():\n",
    "                param.requires_grad = False  \n",
    "    return model"
   ]
  },
  {
   "cell_type": "code",
   "execution_count": null,
   "id": "cc25260c",
   "metadata": {},
   "outputs": [],
   "source": [
    "data_collator = DataCollatorWithPadding(tokenizer, padding = True, return_tensors = 'pt')\n"
   ]
  },
  {
   "cell_type": "code",
   "execution_count": null,
   "id": "03fe92a2",
   "metadata": {},
   "outputs": [],
   "source": [
    "def compute_metrics(pred):\n",
    "    labels = pred.label_ids\n",
    "    preds = pred.predictions.argmax(-1)\n",
    "    precision, recall, f1, _ = precision_recall_fscore_support(labels, preds, average='macro')\n",
    "    acc = accuracy_score(labels, preds)\n",
    "    return {\n",
    "        'accuracy': acc,\n",
    "        'f1': f1,\n",
    "        'precision': precision,\n",
    "        'recall': recall\n",
    "    }"
   ]
  },
  {
   "cell_type": "code",
   "execution_count": null,
   "id": "6b26e8c1",
   "metadata": {},
   "outputs": [
    {
     "data": {
      "application/vnd.jupyter.widget-view+json": {
       "model_id": "ab5dcf13434a4bf6b2a7fdedd735476e",
       "version_major": 2,
       "version_minor": 0
      },
      "text/plain": [
       "  0%|          | 0/27 [00:00<?, ?it/s]"
      ]
     },
     "metadata": {},
     "output_type": "display_data"
    },
    {
     "name": "stderr",
     "output_type": "stream",
     "text": [
      "Using custom data configuration default-87aa798d24125176\n"
     ]
    },
    {
     "name": "stdout",
     "output_type": "stream",
     "text": [
      "Downloading and preparing dataset csv/default to /scratch/data_jz17d/hf_datasets_cache/csv/default-87aa798d24125176/0.0.0...\n"
     ]
    },
    {
     "data": {
      "application/vnd.jupyter.widget-view+json": {
       "model_id": "ccd07258974246adaaea7eba0c29347c",
       "version_major": 2,
       "version_minor": 0
      },
      "text/plain": [
       "Downloading data files:   0%|          | 0/1 [00:00<?, ?it/s]"
      ]
     },
     "metadata": {},
     "output_type": "display_data"
    },
    {
     "data": {
      "application/vnd.jupyter.widget-view+json": {
       "model_id": "fab0b9695ac744b397b8ecdae77a8435",
       "version_major": 2,
       "version_minor": 0
      },
      "text/plain": [
       "Extracting data files:   0%|          | 0/1 [00:00<?, ?it/s]"
      ]
     },
     "metadata": {},
     "output_type": "display_data"
    },
    {
     "data": {
      "application/vnd.jupyter.widget-view+json": {
       "model_id": "",
       "version_major": 2,
       "version_minor": 0
      },
      "text/plain": [
       "0 tables [00:00, ? tables/s]"
      ]
     },
     "metadata": {},
     "output_type": "display_data"
    },
    {
     "name": "stdout",
     "output_type": "stream",
     "text": [
      "Dataset csv downloaded and prepared to /scratch/data_jz17d/hf_datasets_cache/csv/default-87aa798d24125176/0.0.0. Subsequent calls will reuse this data.\n"
     ]
    },
    {
     "data": {
      "application/vnd.jupyter.widget-view+json": {
       "model_id": "e15e21309f8f45b1bafe739af0242e57",
       "version_major": 2,
       "version_minor": 0
      },
      "text/plain": [
       "  0%|          | 0/2 [00:00<?, ?ba/s]"
      ]
     },
     "metadata": {},
     "output_type": "display_data"
    },
    {
     "name": "stderr",
     "output_type": "stream",
     "text": [
      "Using custom data configuration default-13d1bb30dc2271c4\n"
     ]
    },
    {
     "name": "stdout",
     "output_type": "stream",
     "text": [
      "Downloading and preparing dataset csv/default to /scratch/data_jz17d/hf_datasets_cache/csv/default-13d1bb30dc2271c4/0.0.0...\n"
     ]
    },
    {
     "data": {
      "application/vnd.jupyter.widget-view+json": {
       "model_id": "23b5ffde12784c378c5407ada24be9fa",
       "version_major": 2,
       "version_minor": 0
      },
      "text/plain": [
       "Downloading data files:   0%|          | 0/1 [00:00<?, ?it/s]"
      ]
     },
     "metadata": {},
     "output_type": "display_data"
    },
    {
     "data": {
      "application/vnd.jupyter.widget-view+json": {
       "model_id": "f25ce4d4a1f64e4c9f0c407cc3e87c20",
       "version_major": 2,
       "version_minor": 0
      },
      "text/plain": [
       "Extracting data files:   0%|          | 0/1 [00:00<?, ?it/s]"
      ]
     },
     "metadata": {},
     "output_type": "display_data"
    },
    {
     "data": {
      "application/vnd.jupyter.widget-view+json": {
       "model_id": "",
       "version_major": 2,
       "version_minor": 0
      },
      "text/plain": [
       "0 tables [00:00, ? tables/s]"
      ]
     },
     "metadata": {},
     "output_type": "display_data"
    },
    {
     "name": "stdout",
     "output_type": "stream",
     "text": [
      "Dataset csv downloaded and prepared to /scratch/data_jz17d/hf_datasets_cache/csv/default-13d1bb30dc2271c4/0.0.0. Subsequent calls will reuse this data.\n"
     ]
    },
    {
     "data": {
      "application/vnd.jupyter.widget-view+json": {
       "model_id": "e2771004917849fbabfe53eeed00b1e4",
       "version_major": 2,
       "version_minor": 0
      },
      "text/plain": [
       "  0%|          | 0/1 [00:00<?, ?ba/s]"
      ]
     },
     "metadata": {},
     "output_type": "display_data"
    },
    {
     "name": "stderr",
     "output_type": "stream",
     "text": [
      "loading configuration file /scratch/data_jz17d/result/pos_mlm_corenlp/pos_mlm_8/checkpoint-155000/config.json\n",
      "Model config BertConfig {\n",
      "  \"_name_or_path\": \"/scratch/data_jz17d/result/pos_mlm_corenlp/pos_mlm_8/checkpoint-155000/\",\n",
      "  \"architectures\": [\n",
      "    \"BertForMaskedLM\"\n",
      "  ],\n",
      "  \"attention_probs_dropout_prob\": 0.1,\n",
      "  \"classifier_dropout\": null,\n",
      "  \"hidden_act\": \"gelu\",\n",
      "  \"hidden_dropout_prob\": 0.1,\n",
      "  \"hidden_size\": 32,\n",
      "  \"initializer_range\": 0.02,\n",
      "  \"intermediate_size\": 128,\n",
      "  \"layer_norm_eps\": 1e-12,\n",
      "  \"max_position_embeddings\": 128,\n",
      "  \"model_type\": \"bert\",\n",
      "  \"num_attention_heads\": 4,\n",
      "  \"num_hidden_layers\": 4,\n",
      "  \"pad_token_id\": 3,\n",
      "  \"position_embedding_type\": \"absolute\",\n",
      "  \"torch_dtype\": \"float32\",\n",
      "  \"transformers_version\": \"4.18.0\",\n",
      "  \"type_vocab_size\": 2,\n",
      "  \"use_cache\": true,\n",
      "  \"vocab_size\": 54\n",
      "}\n",
      "\n",
      "loading weights file /scratch/data_jz17d/result/pos_mlm_corenlp/pos_mlm_8/checkpoint-155000/pytorch_model.bin\n",
      "Some weights of the model checkpoint at /scratch/data_jz17d/result/pos_mlm_corenlp/pos_mlm_8/checkpoint-155000/ were not used when initializing BertForSequenceClassification: ['cls.predictions.transform.dense.bias', 'cls.predictions.transform.dense.weight', 'cls.predictions.transform.LayerNorm.bias', 'cls.predictions.bias', 'cls.predictions.decoder.weight', 'cls.predictions.decoder.bias', 'cls.predictions.transform.LayerNorm.weight']\n",
      "- This IS expected if you are initializing BertForSequenceClassification from the checkpoint of a model trained on another task or with another architecture (e.g. initializing a BertForSequenceClassification model from a BertForPreTraining model).\n",
      "- This IS NOT expected if you are initializing BertForSequenceClassification from the checkpoint of a model that you expect to be exactly identical (initializing a BertForSequenceClassification model from a BertForSequenceClassification model).\n",
      "Some weights of BertForSequenceClassification were not initialized from the model checkpoint at /scratch/data_jz17d/result/pos_mlm_corenlp/pos_mlm_8/checkpoint-155000/ and are newly initialized: ['classifier.weight', 'bert.pooler.dense.weight', 'bert.pooler.dense.bias', 'classifier.bias']\n",
      "You should probably TRAIN this model on a down-stream task to be able to use it for predictions and inference.\n",
      "PyTorch: setting up devices\n",
      "The default value for the training argument `--report_to` will change in v5 (from all installed integrations to none). In v5, you will need to use `--report_to all` to get the same behavior as now. You should start updating your code and make this info disappear :-).\n"
     ]
    },
    {
     "data": {
      "text/html": [
       "Finishing last run (ID:1xxzv4fc) before initializing another..."
      ],
      "text/plain": [
       "<IPython.core.display.HTML object>"
      ]
     },
     "metadata": {},
     "output_type": "display_data"
    },
    {
     "data": {
      "text/html": [
       "Waiting for W&B process to finish... <strong style=\"color:green\">(success).</strong>"
      ],
      "text/plain": [
       "<IPython.core.display.HTML object>"
      ]
     },
     "metadata": {},
     "output_type": "display_data"
    },
    {
     "data": {
      "application/vnd.jupyter.widget-view+json": {
       "model_id": "",
       "version_major": 2,
       "version_minor": 0
      },
      "text/plain": [
       "VBox(children=(Label(value='0.001 MB of 0.001 MB uploaded (0.000 MB deduped)\\r'), FloatProgress(value=1.0, max…"
      ]
     },
     "metadata": {},
     "output_type": "display_data"
    },
    {
     "data": {
      "text/html": [
       "<style>\n",
       "    table.wandb td:nth-child(1) { padding: 0 10px; text-align: left ; width: auto;} td:nth-child(2) {text-align: left ; width: 100%}\n",
       "    .wandb-row { display: flex; flex-direction: row; flex-wrap: wrap; justify-content: flex-start; width: 100% }\n",
       "    .wandb-col { display: flex; flex-direction: column; flex-basis: 100%; flex: 1; padding: 10px; }\n",
       "    </style>\n",
       "<div class=\"wandb-row\"><div class=\"wandb-col\"><h3>Run history:</h3><br/><table class=\"wandb\"><tr><td>eval/loss</td><td>██▇▇▆▆▆▅▅▅▅▄▄▄▄▃▃▃▃▃▂▂▂▂▂▂▂▂▁▁▁▁▁▁▁▁▁▁▁▁</td></tr><tr><td>eval/runtime</td><td>▂█▄▁▄▄▆▅▅▅▄▄▅▄▅▄▅▂▄▂▅▆▃▄▄▄▅▂▂▅▄▂▂▆█▆▁▄▅▃</td></tr><tr><td>eval/samples_per_second</td><td>▇▁▅█▄▅▃▄▄▄▅▄▄▅▃▄▄▇▄▇▄▃▆▄▄▅▄▇▇▄▅▆▇▃▁▃▇▅▃▅</td></tr><tr><td>eval/steps_per_second</td><td>▇▁▅█▄▅▃▄▄▄▅▄▄▅▃▄▄▇▄▇▄▃▆▄▄▅▄▇▇▄▅▆▇▃▁▃▇▅▃▅</td></tr><tr><td>train/epoch</td><td>▁▁▁▁▂▂▂▂▂▃▃▃▃▃▃▄▄▄▄▄▅▅▅▅▅▆▆▆▆▆▆▇▇▇▇▇████</td></tr><tr><td>train/global_step</td><td>▁▁▁▁▂▂▂▂▂▃▃▃▃▃▃▄▄▄▄▄▅▅▅▅▅▆▆▆▆▆▆▇▇▇▇▇████</td></tr><tr><td>train/learning_rate</td><td>████▇▇▇▇▇▆▆▆▆▆▆▅▅▅▅▅▄▄▄▄▄▄▃▃▃▃▃▃▂▂▂▂▂▁▁▁</td></tr><tr><td>train/loss</td><td>█▇▇▇▆▆▅▅▅▅▄▄▃▄▄▃▃▃▃▃▃▃▂▂▂▂▂▂▁▂▂▂▂▂▂▁▂▂▂▂</td></tr><tr><td>train/total_flos</td><td>▁</td></tr><tr><td>train/train_loss</td><td>▁</td></tr><tr><td>train/train_runtime</td><td>▁</td></tr><tr><td>train/train_samples_per_second</td><td>▁</td></tr><tr><td>train/train_steps_per_second</td><td>▁</td></tr></table><br/></div><div class=\"wandb-col\"><h3>Run summary:</h3><br/><table class=\"wandb\"><tr><td>eval/loss</td><td>0.68738</td></tr><tr><td>eval/runtime</td><td>0.1313</td></tr><tr><td>eval/samples_per_second</td><td>2620.65</td></tr><tr><td>eval/steps_per_second</td><td>22.855</td></tr><tr><td>train/epoch</td><td>50.0</td></tr><tr><td>train/global_step</td><td>550</td></tr><tr><td>train/learning_rate</td><td>0.0</td></tr><tr><td>train/loss</td><td>0.6905</td></tr><tr><td>train/total_flos</td><td>2108296285200.0</td></tr><tr><td>train/train_loss</td><td>0.69107</td></tr><tr><td>train/train_runtime</td><td>53.0274</td></tr><tr><td>train/train_samples_per_second</td><td>1300.27</td></tr><tr><td>train/train_steps_per_second</td><td>10.372</td></tr></table><br/></div></div>"
      ],
      "text/plain": [
       "<IPython.core.display.HTML object>"
      ]
     },
     "metadata": {},
     "output_type": "display_data"
    },
    {
     "data": {
      "text/html": [
       "Synced <strong style=\"color:#cdcd00\">author_0,1_run_0</strong>: <a href=\"https://wandb.ai/fsu-dsc-cil/POS%20CCAT50/runs/1xxzv4fc\" target=\"_blank\">https://wandb.ai/fsu-dsc-cil/POS%20CCAT50/runs/1xxzv4fc</a><br/>Synced 6 W&B file(s), 0 media file(s), 0 artifact file(s) and 0 other file(s)"
      ],
      "text/plain": [
       "<IPython.core.display.HTML object>"
      ]
     },
     "metadata": {},
     "output_type": "display_data"
    },
    {
     "data": {
      "text/html": [
       "Find logs at: <code>/scratch/data_jz17d/wandb_tmp/wandb/run-20221111_164246-1xxzv4fc/logs</code>"
      ],
      "text/plain": [
       "<IPython.core.display.HTML object>"
      ]
     },
     "metadata": {},
     "output_type": "display_data"
    },
    {
     "data": {
      "text/html": [
       "Successfully finished last run (ID:1xxzv4fc). Initializing new run:<br/>"
      ],
      "text/plain": [
       "<IPython.core.display.HTML object>"
      ]
     },
     "metadata": {},
     "output_type": "display_data"
    },
    {
     "name": "stdout",
     "output_type": "stream",
     "text": [
      "huggingface/tokenizers: The current process just got forked, after parallelism has already been used. Disabling parallelism to avoid deadlocks...\n",
      "To disable this warning, you can either:\n",
      "\t- Avoid using `tokenizers` before the fork if possible\n",
      "\t- Explicitly set the environment variable TOKENIZERS_PARALLELISM=(true | false)\n"
     ]
    },
    {
     "data": {
      "application/vnd.jupyter.widget-view+json": {
       "model_id": "a3a9d833d2874152a6995ddb3c226fde",
       "version_major": 2,
       "version_minor": 0
      },
      "text/plain": [
       "VBox(children=(Label(value='Waiting for wandb.init()...\\r'), FloatProgress(value=0.03334208329518636, max=1.0)…"
      ]
     },
     "metadata": {},
     "output_type": "display_data"
    },
    {
     "data": {
      "text/html": [
       "wandb version 0.13.5 is available!  To upgrade, please run:\n",
       " $ pip install wandb --upgrade"
      ],
      "text/plain": [
       "<IPython.core.display.HTML object>"
      ]
     },
     "metadata": {},
     "output_type": "display_data"
    },
    {
     "data": {
      "text/html": [
       "Tracking run with wandb version 0.13.3"
      ],
      "text/plain": [
       "<IPython.core.display.HTML object>"
      ]
     },
     "metadata": {},
     "output_type": "display_data"
    },
    {
     "data": {
      "text/html": [
       "Run data is saved locally in <code>/scratch/data_jz17d/wandb_tmp/wandb/run-20221111_164436-1osqrawz</code>"
      ],
      "text/plain": [
       "<IPython.core.display.HTML object>"
      ]
     },
     "metadata": {},
     "output_type": "display_data"
    },
    {
     "data": {
      "text/html": [
       "Syncing run <strong><a href=\"https://wandb.ai/fsu-dsc-cil/POS%20CCAT50/runs/1osqrawz\" target=\"_blank\">author_0,1_run_0</a></strong> to <a href=\"https://wandb.ai/fsu-dsc-cil/POS%20CCAT50\" target=\"_blank\">Weights & Biases</a> (<a href=\"https://wandb.me/run\" target=\"_blank\">docs</a>)<br/>"
      ],
      "text/plain": [
       "<IPython.core.display.HTML object>"
      ]
     },
     "metadata": {},
     "output_type": "display_data"
    },
    {
     "name": "stderr",
     "output_type": "stream",
     "text": [
      "/home/jz17d/anaconda3/envs/torch/lib/python3.9/site-packages/transformers/optimization.py:306: FutureWarning: This implementation of AdamW is deprecated and will be removed in a future version. Use the PyTorch implementation torch.optim.AdamW instead, or set `no_deprecation_warning=True` to disable this warning\n",
      "  warnings.warn(\n",
      "***** Running training *****\n",
      "  Num examples = 1379\n",
      "  Num Epochs = 50\n",
      "  Instantaneous batch size per device = 128\n",
      "  Total train batch size (w. parallel, distributed & accumulation) = 128\n",
      "  Gradient Accumulation steps = 1\n",
      "  Total optimization steps = 550\n",
      "Automatic Weights & Biases logging enabled, to disable set os.environ[\"WANDB_DISABLED\"] = \"true\"\n"
     ]
    },
    {
     "data": {
      "text/html": [
       "\n",
       "    <div>\n",
       "      \n",
       "      <progress value='550' max='550' style='width:300px; height:20px; vertical-align: middle;'></progress>\n",
       "      [550/550 00:52, Epoch 50/50]\n",
       "    </div>\n",
       "    <table border=\"1\" class=\"dataframe\">\n",
       "  <thead>\n",
       " <tr style=\"text-align: left;\">\n",
       "      <th>Epoch</th>\n",
       "      <th>Training Loss</th>\n",
       "      <th>Validation Loss</th>\n",
       "    </tr>\n",
       "  </thead>\n",
       "  <tbody>\n",
       "    <tr>\n",
       "      <td>1</td>\n",
       "      <td>0.692800</td>\n",
       "      <td>0.692404</td>\n",
       "    </tr>\n",
       "    <tr>\n",
       "      <td>2</td>\n",
       "      <td>0.692600</td>\n",
       "      <td>0.692090</td>\n",
       "    </tr>\n",
       "    <tr>\n",
       "      <td>3</td>\n",
       "      <td>0.692600</td>\n",
       "      <td>0.691767</td>\n",
       "    </tr>\n",
       "    <tr>\n",
       "      <td>4</td>\n",
       "      <td>0.692400</td>\n",
       "      <td>0.691521</td>\n",
       "    </tr>\n",
       "    <tr>\n",
       "      <td>5</td>\n",
       "      <td>0.692200</td>\n",
       "      <td>0.691280</td>\n",
       "    </tr>\n",
       "    <tr>\n",
       "      <td>6</td>\n",
       "      <td>0.692100</td>\n",
       "      <td>0.691037</td>\n",
       "    </tr>\n",
       "    <tr>\n",
       "      <td>7</td>\n",
       "      <td>0.692000</td>\n",
       "      <td>0.690827</td>\n",
       "    </tr>\n",
       "    <tr>\n",
       "      <td>8</td>\n",
       "      <td>0.691600</td>\n",
       "      <td>0.690570</td>\n",
       "    </tr>\n",
       "    <tr>\n",
       "      <td>9</td>\n",
       "      <td>0.691700</td>\n",
       "      <td>0.690347</td>\n",
       "    </tr>\n",
       "    <tr>\n",
       "      <td>10</td>\n",
       "      <td>0.691500</td>\n",
       "      <td>0.690112</td>\n",
       "    </tr>\n",
       "    <tr>\n",
       "      <td>11</td>\n",
       "      <td>0.691700</td>\n",
       "      <td>0.689914</td>\n",
       "    </tr>\n",
       "    <tr>\n",
       "      <td>12</td>\n",
       "      <td>0.691700</td>\n",
       "      <td>0.689722</td>\n",
       "    </tr>\n",
       "    <tr>\n",
       "      <td>13</td>\n",
       "      <td>0.691200</td>\n",
       "      <td>0.689584</td>\n",
       "    </tr>\n",
       "    <tr>\n",
       "      <td>14</td>\n",
       "      <td>0.691300</td>\n",
       "      <td>0.689427</td>\n",
       "    </tr>\n",
       "    <tr>\n",
       "      <td>15</td>\n",
       "      <td>0.691300</td>\n",
       "      <td>0.689257</td>\n",
       "    </tr>\n",
       "    <tr>\n",
       "      <td>16</td>\n",
       "      <td>0.690800</td>\n",
       "      <td>0.689143</td>\n",
       "    </tr>\n",
       "    <tr>\n",
       "      <td>17</td>\n",
       "      <td>0.691100</td>\n",
       "      <td>0.688947</td>\n",
       "    </tr>\n",
       "    <tr>\n",
       "      <td>18</td>\n",
       "      <td>0.691000</td>\n",
       "      <td>0.688805</td>\n",
       "    </tr>\n",
       "    <tr>\n",
       "      <td>19</td>\n",
       "      <td>0.690800</td>\n",
       "      <td>0.688660</td>\n",
       "    </tr>\n",
       "    <tr>\n",
       "      <td>20</td>\n",
       "      <td>0.690800</td>\n",
       "      <td>0.688560</td>\n",
       "    </tr>\n",
       "    <tr>\n",
       "      <td>21</td>\n",
       "      <td>0.690800</td>\n",
       "      <td>0.688423</td>\n",
       "    </tr>\n",
       "    <tr>\n",
       "      <td>22</td>\n",
       "      <td>0.690700</td>\n",
       "      <td>0.688295</td>\n",
       "    </tr>\n",
       "    <tr>\n",
       "      <td>23</td>\n",
       "      <td>0.690600</td>\n",
       "      <td>0.688182</td>\n",
       "    </tr>\n",
       "    <tr>\n",
       "      <td>24</td>\n",
       "      <td>0.690600</td>\n",
       "      <td>0.688071</td>\n",
       "    </tr>\n",
       "    <tr>\n",
       "      <td>25</td>\n",
       "      <td>0.690600</td>\n",
       "      <td>0.687964</td>\n",
       "    </tr>\n",
       "    <tr>\n",
       "      <td>26</td>\n",
       "      <td>0.690800</td>\n",
       "      <td>0.687866</td>\n",
       "    </tr>\n",
       "    <tr>\n",
       "      <td>27</td>\n",
       "      <td>0.690800</td>\n",
       "      <td>0.687793</td>\n",
       "    </tr>\n",
       "    <tr>\n",
       "      <td>28</td>\n",
       "      <td>0.690600</td>\n",
       "      <td>0.687721</td>\n",
       "    </tr>\n",
       "    <tr>\n",
       "      <td>29</td>\n",
       "      <td>0.690500</td>\n",
       "      <td>0.687645</td>\n",
       "    </tr>\n",
       "    <tr>\n",
       "      <td>30</td>\n",
       "      <td>0.690500</td>\n",
       "      <td>0.687587</td>\n",
       "    </tr>\n",
       "    <tr>\n",
       "      <td>31</td>\n",
       "      <td>0.690300</td>\n",
       "      <td>0.687494</td>\n",
       "    </tr>\n",
       "    <tr>\n",
       "      <td>32</td>\n",
       "      <td>0.690300</td>\n",
       "      <td>0.687434</td>\n",
       "    </tr>\n",
       "    <tr>\n",
       "      <td>33</td>\n",
       "      <td>0.690300</td>\n",
       "      <td>0.687368</td>\n",
       "    </tr>\n",
       "    <tr>\n",
       "      <td>34</td>\n",
       "      <td>0.690400</td>\n",
       "      <td>0.687301</td>\n",
       "    </tr>\n",
       "    <tr>\n",
       "      <td>35</td>\n",
       "      <td>0.690500</td>\n",
       "      <td>0.687242</td>\n",
       "    </tr>\n",
       "    <tr>\n",
       "      <td>36</td>\n",
       "      <td>0.690100</td>\n",
       "      <td>0.687203</td>\n",
       "    </tr>\n",
       "    <tr>\n",
       "      <td>37</td>\n",
       "      <td>0.690200</td>\n",
       "      <td>0.687160</td>\n",
       "    </tr>\n",
       "    <tr>\n",
       "      <td>38</td>\n",
       "      <td>0.690400</td>\n",
       "      <td>0.687108</td>\n",
       "    </tr>\n",
       "    <tr>\n",
       "      <td>39</td>\n",
       "      <td>0.690000</td>\n",
       "      <td>0.687068</td>\n",
       "    </tr>\n",
       "    <tr>\n",
       "      <td>40</td>\n",
       "      <td>0.690500</td>\n",
       "      <td>0.687022</td>\n",
       "    </tr>\n",
       "    <tr>\n",
       "      <td>41</td>\n",
       "      <td>0.690400</td>\n",
       "      <td>0.687002</td>\n",
       "    </tr>\n",
       "    <tr>\n",
       "      <td>42</td>\n",
       "      <td>0.690100</td>\n",
       "      <td>0.686981</td>\n",
       "    </tr>\n",
       "    <tr>\n",
       "      <td>43</td>\n",
       "      <td>0.690300</td>\n",
       "      <td>0.686955</td>\n",
       "    </tr>\n",
       "    <tr>\n",
       "      <td>44</td>\n",
       "      <td>0.690100</td>\n",
       "      <td>0.686935</td>\n",
       "    </tr>\n",
       "    <tr>\n",
       "      <td>45</td>\n",
       "      <td>0.690300</td>\n",
       "      <td>0.686915</td>\n",
       "    </tr>\n",
       "    <tr>\n",
       "      <td>46</td>\n",
       "      <td>0.690300</td>\n",
       "      <td>0.686907</td>\n",
       "    </tr>\n",
       "    <tr>\n",
       "      <td>47</td>\n",
       "      <td>0.689800</td>\n",
       "      <td>0.686894</td>\n",
       "    </tr>\n",
       "    <tr>\n",
       "      <td>48</td>\n",
       "      <td>0.690100</td>\n",
       "      <td>0.686883</td>\n",
       "    </tr>\n",
       "    <tr>\n",
       "      <td>49</td>\n",
       "      <td>0.690200</td>\n",
       "      <td>0.686879</td>\n",
       "    </tr>\n",
       "    <tr>\n",
       "      <td>50</td>\n",
       "      <td>0.690300</td>\n",
       "      <td>0.686878</td>\n",
       "    </tr>\n",
       "  </tbody>\n",
       "</table><p>"
      ],
      "text/plain": [
       "<IPython.core.display.HTML object>"
      ]
     },
     "metadata": {},
     "output_type": "display_data"
    },
    {
     "name": "stderr",
     "output_type": "stream",
     "text": [
      "***** Running Evaluation *****\n",
      "  Num examples = 344\n",
      "  Batch size = 128\n",
      "Saving model checkpoint to /scratch/data_jz17d/result/POS_CCAT50/author_0,1_run_0/checkpoint-11\n",
      "Configuration saved in /scratch/data_jz17d/result/POS_CCAT50/author_0,1_run_0/checkpoint-11/config.json\n",
      "Model weights saved in /scratch/data_jz17d/result/POS_CCAT50/author_0,1_run_0/checkpoint-11/pytorch_model.bin\n",
      "tokenizer config file saved in /scratch/data_jz17d/result/POS_CCAT50/author_0,1_run_0/checkpoint-11/tokenizer_config.json\n",
      "Special tokens file saved in /scratch/data_jz17d/result/POS_CCAT50/author_0,1_run_0/checkpoint-11/special_tokens_map.json\n",
      "Deleting older checkpoint [/scratch/data_jz17d/result/POS_CCAT50/author_0,1_run_0/checkpoint-539] due to args.save_total_limit\n",
      "***** Running Evaluation *****\n",
      "  Num examples = 344\n",
      "  Batch size = 128\n",
      "Saving model checkpoint to /scratch/data_jz17d/result/POS_CCAT50/author_0,1_run_0/checkpoint-22\n",
      "Configuration saved in /scratch/data_jz17d/result/POS_CCAT50/author_0,1_run_0/checkpoint-22/config.json\n",
      "Model weights saved in /scratch/data_jz17d/result/POS_CCAT50/author_0,1_run_0/checkpoint-22/pytorch_model.bin\n",
      "tokenizer config file saved in /scratch/data_jz17d/result/POS_CCAT50/author_0,1_run_0/checkpoint-22/tokenizer_config.json\n",
      "Special tokens file saved in /scratch/data_jz17d/result/POS_CCAT50/author_0,1_run_0/checkpoint-22/special_tokens_map.json\n",
      "Deleting older checkpoint [/scratch/data_jz17d/result/POS_CCAT50/author_0,1_run_0/checkpoint-550] due to args.save_total_limit\n",
      "***** Running Evaluation *****\n",
      "  Num examples = 344\n",
      "  Batch size = 128\n",
      "Saving model checkpoint to /scratch/data_jz17d/result/POS_CCAT50/author_0,1_run_0/checkpoint-33\n",
      "Configuration saved in /scratch/data_jz17d/result/POS_CCAT50/author_0,1_run_0/checkpoint-33/config.json\n",
      "Model weights saved in /scratch/data_jz17d/result/POS_CCAT50/author_0,1_run_0/checkpoint-33/pytorch_model.bin\n",
      "tokenizer config file saved in /scratch/data_jz17d/result/POS_CCAT50/author_0,1_run_0/checkpoint-33/tokenizer_config.json\n",
      "Special tokens file saved in /scratch/data_jz17d/result/POS_CCAT50/author_0,1_run_0/checkpoint-33/special_tokens_map.json\n",
      "Deleting older checkpoint [/scratch/data_jz17d/result/POS_CCAT50/author_0,1_run_0/checkpoint-11] due to args.save_total_limit\n",
      "***** Running Evaluation *****\n",
      "  Num examples = 344\n",
      "  Batch size = 128\n",
      "Saving model checkpoint to /scratch/data_jz17d/result/POS_CCAT50/author_0,1_run_0/checkpoint-44\n",
      "Configuration saved in /scratch/data_jz17d/result/POS_CCAT50/author_0,1_run_0/checkpoint-44/config.json\n",
      "Model weights saved in /scratch/data_jz17d/result/POS_CCAT50/author_0,1_run_0/checkpoint-44/pytorch_model.bin\n",
      "tokenizer config file saved in /scratch/data_jz17d/result/POS_CCAT50/author_0,1_run_0/checkpoint-44/tokenizer_config.json\n",
      "Special tokens file saved in /scratch/data_jz17d/result/POS_CCAT50/author_0,1_run_0/checkpoint-44/special_tokens_map.json\n",
      "Deleting older checkpoint [/scratch/data_jz17d/result/POS_CCAT50/author_0,1_run_0/checkpoint-22] due to args.save_total_limit\n",
      "***** Running Evaluation *****\n",
      "  Num examples = 344\n",
      "  Batch size = 128\n",
      "Saving model checkpoint to /scratch/data_jz17d/result/POS_CCAT50/author_0,1_run_0/checkpoint-55\n",
      "Configuration saved in /scratch/data_jz17d/result/POS_CCAT50/author_0,1_run_0/checkpoint-55/config.json\n",
      "Model weights saved in /scratch/data_jz17d/result/POS_CCAT50/author_0,1_run_0/checkpoint-55/pytorch_model.bin\n",
      "tokenizer config file saved in /scratch/data_jz17d/result/POS_CCAT50/author_0,1_run_0/checkpoint-55/tokenizer_config.json\n",
      "Special tokens file saved in /scratch/data_jz17d/result/POS_CCAT50/author_0,1_run_0/checkpoint-55/special_tokens_map.json\n",
      "Deleting older checkpoint [/scratch/data_jz17d/result/POS_CCAT50/author_0,1_run_0/checkpoint-33] due to args.save_total_limit\n",
      "***** Running Evaluation *****\n",
      "  Num examples = 344\n",
      "  Batch size = 128\n",
      "Saving model checkpoint to /scratch/data_jz17d/result/POS_CCAT50/author_0,1_run_0/checkpoint-66\n",
      "Configuration saved in /scratch/data_jz17d/result/POS_CCAT50/author_0,1_run_0/checkpoint-66/config.json\n",
      "Model weights saved in /scratch/data_jz17d/result/POS_CCAT50/author_0,1_run_0/checkpoint-66/pytorch_model.bin\n",
      "tokenizer config file saved in /scratch/data_jz17d/result/POS_CCAT50/author_0,1_run_0/checkpoint-66/tokenizer_config.json\n",
      "Special tokens file saved in /scratch/data_jz17d/result/POS_CCAT50/author_0,1_run_0/checkpoint-66/special_tokens_map.json\n",
      "Deleting older checkpoint [/scratch/data_jz17d/result/POS_CCAT50/author_0,1_run_0/checkpoint-44] due to args.save_total_limit\n",
      "***** Running Evaluation *****\n",
      "  Num examples = 344\n",
      "  Batch size = 128\n",
      "Saving model checkpoint to /scratch/data_jz17d/result/POS_CCAT50/author_0,1_run_0/checkpoint-77\n",
      "Configuration saved in /scratch/data_jz17d/result/POS_CCAT50/author_0,1_run_0/checkpoint-77/config.json\n",
      "Model weights saved in /scratch/data_jz17d/result/POS_CCAT50/author_0,1_run_0/checkpoint-77/pytorch_model.bin\n",
      "tokenizer config file saved in /scratch/data_jz17d/result/POS_CCAT50/author_0,1_run_0/checkpoint-77/tokenizer_config.json\n",
      "Special tokens file saved in /scratch/data_jz17d/result/POS_CCAT50/author_0,1_run_0/checkpoint-77/special_tokens_map.json\n",
      "Deleting older checkpoint [/scratch/data_jz17d/result/POS_CCAT50/author_0,1_run_0/checkpoint-55] due to args.save_total_limit\n",
      "***** Running Evaluation *****\n",
      "  Num examples = 344\n",
      "  Batch size = 128\n",
      "Saving model checkpoint to /scratch/data_jz17d/result/POS_CCAT50/author_0,1_run_0/checkpoint-88\n",
      "Configuration saved in /scratch/data_jz17d/result/POS_CCAT50/author_0,1_run_0/checkpoint-88/config.json\n",
      "Model weights saved in /scratch/data_jz17d/result/POS_CCAT50/author_0,1_run_0/checkpoint-88/pytorch_model.bin\n",
      "tokenizer config file saved in /scratch/data_jz17d/result/POS_CCAT50/author_0,1_run_0/checkpoint-88/tokenizer_config.json\n",
      "Special tokens file saved in /scratch/data_jz17d/result/POS_CCAT50/author_0,1_run_0/checkpoint-88/special_tokens_map.json\n",
      "Deleting older checkpoint [/scratch/data_jz17d/result/POS_CCAT50/author_0,1_run_0/checkpoint-66] due to args.save_total_limit\n",
      "***** Running Evaluation *****\n",
      "  Num examples = 344\n",
      "  Batch size = 128\n",
      "Saving model checkpoint to /scratch/data_jz17d/result/POS_CCAT50/author_0,1_run_0/checkpoint-99\n",
      "Configuration saved in /scratch/data_jz17d/result/POS_CCAT50/author_0,1_run_0/checkpoint-99/config.json\n",
      "Model weights saved in /scratch/data_jz17d/result/POS_CCAT50/author_0,1_run_0/checkpoint-99/pytorch_model.bin\n",
      "tokenizer config file saved in /scratch/data_jz17d/result/POS_CCAT50/author_0,1_run_0/checkpoint-99/tokenizer_config.json\n",
      "Special tokens file saved in /scratch/data_jz17d/result/POS_CCAT50/author_0,1_run_0/checkpoint-99/special_tokens_map.json\n",
      "Deleting older checkpoint [/scratch/data_jz17d/result/POS_CCAT50/author_0,1_run_0/checkpoint-77] due to args.save_total_limit\n",
      "***** Running Evaluation *****\n",
      "  Num examples = 344\n",
      "  Batch size = 128\n",
      "Saving model checkpoint to /scratch/data_jz17d/result/POS_CCAT50/author_0,1_run_0/checkpoint-110\n",
      "Configuration saved in /scratch/data_jz17d/result/POS_CCAT50/author_0,1_run_0/checkpoint-110/config.json\n",
      "Model weights saved in /scratch/data_jz17d/result/POS_CCAT50/author_0,1_run_0/checkpoint-110/pytorch_model.bin\n",
      "tokenizer config file saved in /scratch/data_jz17d/result/POS_CCAT50/author_0,1_run_0/checkpoint-110/tokenizer_config.json\n",
      "Special tokens file saved in /scratch/data_jz17d/result/POS_CCAT50/author_0,1_run_0/checkpoint-110/special_tokens_map.json\n",
      "Deleting older checkpoint [/scratch/data_jz17d/result/POS_CCAT50/author_0,1_run_0/checkpoint-88] due to args.save_total_limit\n",
      "***** Running Evaluation *****\n",
      "  Num examples = 344\n",
      "  Batch size = 128\n",
      "Saving model checkpoint to /scratch/data_jz17d/result/POS_CCAT50/author_0,1_run_0/checkpoint-121\n",
      "Configuration saved in /scratch/data_jz17d/result/POS_CCAT50/author_0,1_run_0/checkpoint-121/config.json\n",
      "Model weights saved in /scratch/data_jz17d/result/POS_CCAT50/author_0,1_run_0/checkpoint-121/pytorch_model.bin\n",
      "tokenizer config file saved in /scratch/data_jz17d/result/POS_CCAT50/author_0,1_run_0/checkpoint-121/tokenizer_config.json\n",
      "Special tokens file saved in /scratch/data_jz17d/result/POS_CCAT50/author_0,1_run_0/checkpoint-121/special_tokens_map.json\n",
      "Deleting older checkpoint [/scratch/data_jz17d/result/POS_CCAT50/author_0,1_run_0/checkpoint-99] due to args.save_total_limit\n"
     ]
    },
    {
     "name": "stderr",
     "output_type": "stream",
     "text": [
      "***** Running Evaluation *****\n",
      "  Num examples = 344\n",
      "  Batch size = 128\n",
      "Saving model checkpoint to /scratch/data_jz17d/result/POS_CCAT50/author_0,1_run_0/checkpoint-132\n",
      "Configuration saved in /scratch/data_jz17d/result/POS_CCAT50/author_0,1_run_0/checkpoint-132/config.json\n",
      "Model weights saved in /scratch/data_jz17d/result/POS_CCAT50/author_0,1_run_0/checkpoint-132/pytorch_model.bin\n",
      "tokenizer config file saved in /scratch/data_jz17d/result/POS_CCAT50/author_0,1_run_0/checkpoint-132/tokenizer_config.json\n",
      "Special tokens file saved in /scratch/data_jz17d/result/POS_CCAT50/author_0,1_run_0/checkpoint-132/special_tokens_map.json\n",
      "Deleting older checkpoint [/scratch/data_jz17d/result/POS_CCAT50/author_0,1_run_0/checkpoint-110] due to args.save_total_limit\n",
      "***** Running Evaluation *****\n",
      "  Num examples = 344\n",
      "  Batch size = 128\n",
      "Saving model checkpoint to /scratch/data_jz17d/result/POS_CCAT50/author_0,1_run_0/checkpoint-143\n",
      "Configuration saved in /scratch/data_jz17d/result/POS_CCAT50/author_0,1_run_0/checkpoint-143/config.json\n",
      "Model weights saved in /scratch/data_jz17d/result/POS_CCAT50/author_0,1_run_0/checkpoint-143/pytorch_model.bin\n",
      "tokenizer config file saved in /scratch/data_jz17d/result/POS_CCAT50/author_0,1_run_0/checkpoint-143/tokenizer_config.json\n",
      "Special tokens file saved in /scratch/data_jz17d/result/POS_CCAT50/author_0,1_run_0/checkpoint-143/special_tokens_map.json\n",
      "Deleting older checkpoint [/scratch/data_jz17d/result/POS_CCAT50/author_0,1_run_0/checkpoint-121] due to args.save_total_limit\n",
      "***** Running Evaluation *****\n",
      "  Num examples = 344\n",
      "  Batch size = 128\n",
      "Saving model checkpoint to /scratch/data_jz17d/result/POS_CCAT50/author_0,1_run_0/checkpoint-154\n",
      "Configuration saved in /scratch/data_jz17d/result/POS_CCAT50/author_0,1_run_0/checkpoint-154/config.json\n",
      "Model weights saved in /scratch/data_jz17d/result/POS_CCAT50/author_0,1_run_0/checkpoint-154/pytorch_model.bin\n",
      "tokenizer config file saved in /scratch/data_jz17d/result/POS_CCAT50/author_0,1_run_0/checkpoint-154/tokenizer_config.json\n",
      "Special tokens file saved in /scratch/data_jz17d/result/POS_CCAT50/author_0,1_run_0/checkpoint-154/special_tokens_map.json\n",
      "Deleting older checkpoint [/scratch/data_jz17d/result/POS_CCAT50/author_0,1_run_0/checkpoint-132] due to args.save_total_limit\n",
      "***** Running Evaluation *****\n",
      "  Num examples = 344\n",
      "  Batch size = 128\n",
      "Saving model checkpoint to /scratch/data_jz17d/result/POS_CCAT50/author_0,1_run_0/checkpoint-165\n",
      "Configuration saved in /scratch/data_jz17d/result/POS_CCAT50/author_0,1_run_0/checkpoint-165/config.json\n",
      "Model weights saved in /scratch/data_jz17d/result/POS_CCAT50/author_0,1_run_0/checkpoint-165/pytorch_model.bin\n",
      "tokenizer config file saved in /scratch/data_jz17d/result/POS_CCAT50/author_0,1_run_0/checkpoint-165/tokenizer_config.json\n",
      "Special tokens file saved in /scratch/data_jz17d/result/POS_CCAT50/author_0,1_run_0/checkpoint-165/special_tokens_map.json\n",
      "Deleting older checkpoint [/scratch/data_jz17d/result/POS_CCAT50/author_0,1_run_0/checkpoint-143] due to args.save_total_limit\n",
      "***** Running Evaluation *****\n",
      "  Num examples = 344\n",
      "  Batch size = 128\n",
      "Saving model checkpoint to /scratch/data_jz17d/result/POS_CCAT50/author_0,1_run_0/checkpoint-176\n",
      "Configuration saved in /scratch/data_jz17d/result/POS_CCAT50/author_0,1_run_0/checkpoint-176/config.json\n",
      "Model weights saved in /scratch/data_jz17d/result/POS_CCAT50/author_0,1_run_0/checkpoint-176/pytorch_model.bin\n",
      "tokenizer config file saved in /scratch/data_jz17d/result/POS_CCAT50/author_0,1_run_0/checkpoint-176/tokenizer_config.json\n",
      "Special tokens file saved in /scratch/data_jz17d/result/POS_CCAT50/author_0,1_run_0/checkpoint-176/special_tokens_map.json\n",
      "Deleting older checkpoint [/scratch/data_jz17d/result/POS_CCAT50/author_0,1_run_0/checkpoint-154] due to args.save_total_limit\n",
      "***** Running Evaluation *****\n",
      "  Num examples = 344\n",
      "  Batch size = 128\n",
      "Saving model checkpoint to /scratch/data_jz17d/result/POS_CCAT50/author_0,1_run_0/checkpoint-187\n",
      "Configuration saved in /scratch/data_jz17d/result/POS_CCAT50/author_0,1_run_0/checkpoint-187/config.json\n",
      "Model weights saved in /scratch/data_jz17d/result/POS_CCAT50/author_0,1_run_0/checkpoint-187/pytorch_model.bin\n",
      "tokenizer config file saved in /scratch/data_jz17d/result/POS_CCAT50/author_0,1_run_0/checkpoint-187/tokenizer_config.json\n",
      "Special tokens file saved in /scratch/data_jz17d/result/POS_CCAT50/author_0,1_run_0/checkpoint-187/special_tokens_map.json\n",
      "Deleting older checkpoint [/scratch/data_jz17d/result/POS_CCAT50/author_0,1_run_0/checkpoint-165] due to args.save_total_limit\n",
      "***** Running Evaluation *****\n",
      "  Num examples = 344\n",
      "  Batch size = 128\n",
      "Saving model checkpoint to /scratch/data_jz17d/result/POS_CCAT50/author_0,1_run_0/checkpoint-198\n",
      "Configuration saved in /scratch/data_jz17d/result/POS_CCAT50/author_0,1_run_0/checkpoint-198/config.json\n",
      "Model weights saved in /scratch/data_jz17d/result/POS_CCAT50/author_0,1_run_0/checkpoint-198/pytorch_model.bin\n",
      "tokenizer config file saved in /scratch/data_jz17d/result/POS_CCAT50/author_0,1_run_0/checkpoint-198/tokenizer_config.json\n",
      "Special tokens file saved in /scratch/data_jz17d/result/POS_CCAT50/author_0,1_run_0/checkpoint-198/special_tokens_map.json\n",
      "Deleting older checkpoint [/scratch/data_jz17d/result/POS_CCAT50/author_0,1_run_0/checkpoint-176] due to args.save_total_limit\n",
      "***** Running Evaluation *****\n",
      "  Num examples = 344\n",
      "  Batch size = 128\n",
      "Saving model checkpoint to /scratch/data_jz17d/result/POS_CCAT50/author_0,1_run_0/checkpoint-209\n",
      "Configuration saved in /scratch/data_jz17d/result/POS_CCAT50/author_0,1_run_0/checkpoint-209/config.json\n",
      "Model weights saved in /scratch/data_jz17d/result/POS_CCAT50/author_0,1_run_0/checkpoint-209/pytorch_model.bin\n",
      "tokenizer config file saved in /scratch/data_jz17d/result/POS_CCAT50/author_0,1_run_0/checkpoint-209/tokenizer_config.json\n",
      "Special tokens file saved in /scratch/data_jz17d/result/POS_CCAT50/author_0,1_run_0/checkpoint-209/special_tokens_map.json\n",
      "Deleting older checkpoint [/scratch/data_jz17d/result/POS_CCAT50/author_0,1_run_0/checkpoint-187] due to args.save_total_limit\n",
      "***** Running Evaluation *****\n",
      "  Num examples = 344\n",
      "  Batch size = 128\n",
      "Saving model checkpoint to /scratch/data_jz17d/result/POS_CCAT50/author_0,1_run_0/checkpoint-220\n",
      "Configuration saved in /scratch/data_jz17d/result/POS_CCAT50/author_0,1_run_0/checkpoint-220/config.json\n",
      "Model weights saved in /scratch/data_jz17d/result/POS_CCAT50/author_0,1_run_0/checkpoint-220/pytorch_model.bin\n",
      "tokenizer config file saved in /scratch/data_jz17d/result/POS_CCAT50/author_0,1_run_0/checkpoint-220/tokenizer_config.json\n",
      "Special tokens file saved in /scratch/data_jz17d/result/POS_CCAT50/author_0,1_run_0/checkpoint-220/special_tokens_map.json\n",
      "Deleting older checkpoint [/scratch/data_jz17d/result/POS_CCAT50/author_0,1_run_0/checkpoint-198] due to args.save_total_limit\n",
      "***** Running Evaluation *****\n",
      "  Num examples = 344\n",
      "  Batch size = 128\n",
      "Saving model checkpoint to /scratch/data_jz17d/result/POS_CCAT50/author_0,1_run_0/checkpoint-231\n",
      "Configuration saved in /scratch/data_jz17d/result/POS_CCAT50/author_0,1_run_0/checkpoint-231/config.json\n",
      "Model weights saved in /scratch/data_jz17d/result/POS_CCAT50/author_0,1_run_0/checkpoint-231/pytorch_model.bin\n",
      "tokenizer config file saved in /scratch/data_jz17d/result/POS_CCAT50/author_0,1_run_0/checkpoint-231/tokenizer_config.json\n",
      "Special tokens file saved in /scratch/data_jz17d/result/POS_CCAT50/author_0,1_run_0/checkpoint-231/special_tokens_map.json\n",
      "Deleting older checkpoint [/scratch/data_jz17d/result/POS_CCAT50/author_0,1_run_0/checkpoint-209] due to args.save_total_limit\n",
      "***** Running Evaluation *****\n",
      "  Num examples = 344\n",
      "  Batch size = 128\n",
      "Saving model checkpoint to /scratch/data_jz17d/result/POS_CCAT50/author_0,1_run_0/checkpoint-242\n",
      "Configuration saved in /scratch/data_jz17d/result/POS_CCAT50/author_0,1_run_0/checkpoint-242/config.json\n",
      "Model weights saved in /scratch/data_jz17d/result/POS_CCAT50/author_0,1_run_0/checkpoint-242/pytorch_model.bin\n",
      "tokenizer config file saved in /scratch/data_jz17d/result/POS_CCAT50/author_0,1_run_0/checkpoint-242/tokenizer_config.json\n",
      "Special tokens file saved in /scratch/data_jz17d/result/POS_CCAT50/author_0,1_run_0/checkpoint-242/special_tokens_map.json\n"
     ]
    },
    {
     "name": "stderr",
     "output_type": "stream",
     "text": [
      "Deleting older checkpoint [/scratch/data_jz17d/result/POS_CCAT50/author_0,1_run_0/checkpoint-220] due to args.save_total_limit\n",
      "***** Running Evaluation *****\n",
      "  Num examples = 344\n",
      "  Batch size = 128\n",
      "Saving model checkpoint to /scratch/data_jz17d/result/POS_CCAT50/author_0,1_run_0/checkpoint-253\n",
      "Configuration saved in /scratch/data_jz17d/result/POS_CCAT50/author_0,1_run_0/checkpoint-253/config.json\n",
      "Model weights saved in /scratch/data_jz17d/result/POS_CCAT50/author_0,1_run_0/checkpoint-253/pytorch_model.bin\n",
      "tokenizer config file saved in /scratch/data_jz17d/result/POS_CCAT50/author_0,1_run_0/checkpoint-253/tokenizer_config.json\n",
      "Special tokens file saved in /scratch/data_jz17d/result/POS_CCAT50/author_0,1_run_0/checkpoint-253/special_tokens_map.json\n",
      "Deleting older checkpoint [/scratch/data_jz17d/result/POS_CCAT50/author_0,1_run_0/checkpoint-231] due to args.save_total_limit\n",
      "***** Running Evaluation *****\n",
      "  Num examples = 344\n",
      "  Batch size = 128\n",
      "Saving model checkpoint to /scratch/data_jz17d/result/POS_CCAT50/author_0,1_run_0/checkpoint-264\n",
      "Configuration saved in /scratch/data_jz17d/result/POS_CCAT50/author_0,1_run_0/checkpoint-264/config.json\n",
      "Model weights saved in /scratch/data_jz17d/result/POS_CCAT50/author_0,1_run_0/checkpoint-264/pytorch_model.bin\n",
      "tokenizer config file saved in /scratch/data_jz17d/result/POS_CCAT50/author_0,1_run_0/checkpoint-264/tokenizer_config.json\n",
      "Special tokens file saved in /scratch/data_jz17d/result/POS_CCAT50/author_0,1_run_0/checkpoint-264/special_tokens_map.json\n",
      "Deleting older checkpoint [/scratch/data_jz17d/result/POS_CCAT50/author_0,1_run_0/checkpoint-242] due to args.save_total_limit\n",
      "***** Running Evaluation *****\n",
      "  Num examples = 344\n",
      "  Batch size = 128\n",
      "Saving model checkpoint to /scratch/data_jz17d/result/POS_CCAT50/author_0,1_run_0/checkpoint-275\n",
      "Configuration saved in /scratch/data_jz17d/result/POS_CCAT50/author_0,1_run_0/checkpoint-275/config.json\n",
      "Model weights saved in /scratch/data_jz17d/result/POS_CCAT50/author_0,1_run_0/checkpoint-275/pytorch_model.bin\n",
      "tokenizer config file saved in /scratch/data_jz17d/result/POS_CCAT50/author_0,1_run_0/checkpoint-275/tokenizer_config.json\n",
      "Special tokens file saved in /scratch/data_jz17d/result/POS_CCAT50/author_0,1_run_0/checkpoint-275/special_tokens_map.json\n",
      "Deleting older checkpoint [/scratch/data_jz17d/result/POS_CCAT50/author_0,1_run_0/checkpoint-253] due to args.save_total_limit\n",
      "***** Running Evaluation *****\n",
      "  Num examples = 344\n",
      "  Batch size = 128\n",
      "Saving model checkpoint to /scratch/data_jz17d/result/POS_CCAT50/author_0,1_run_0/checkpoint-286\n",
      "Configuration saved in /scratch/data_jz17d/result/POS_CCAT50/author_0,1_run_0/checkpoint-286/config.json\n",
      "Model weights saved in /scratch/data_jz17d/result/POS_CCAT50/author_0,1_run_0/checkpoint-286/pytorch_model.bin\n",
      "tokenizer config file saved in /scratch/data_jz17d/result/POS_CCAT50/author_0,1_run_0/checkpoint-286/tokenizer_config.json\n",
      "Special tokens file saved in /scratch/data_jz17d/result/POS_CCAT50/author_0,1_run_0/checkpoint-286/special_tokens_map.json\n",
      "Deleting older checkpoint [/scratch/data_jz17d/result/POS_CCAT50/author_0,1_run_0/checkpoint-264] due to args.save_total_limit\n",
      "***** Running Evaluation *****\n",
      "  Num examples = 344\n",
      "  Batch size = 128\n",
      "Saving model checkpoint to /scratch/data_jz17d/result/POS_CCAT50/author_0,1_run_0/checkpoint-297\n",
      "Configuration saved in /scratch/data_jz17d/result/POS_CCAT50/author_0,1_run_0/checkpoint-297/config.json\n",
      "Model weights saved in /scratch/data_jz17d/result/POS_CCAT50/author_0,1_run_0/checkpoint-297/pytorch_model.bin\n",
      "tokenizer config file saved in /scratch/data_jz17d/result/POS_CCAT50/author_0,1_run_0/checkpoint-297/tokenizer_config.json\n",
      "Special tokens file saved in /scratch/data_jz17d/result/POS_CCAT50/author_0,1_run_0/checkpoint-297/special_tokens_map.json\n",
      "Deleting older checkpoint [/scratch/data_jz17d/result/POS_CCAT50/author_0,1_run_0/checkpoint-275] due to args.save_total_limit\n",
      "***** Running Evaluation *****\n",
      "  Num examples = 344\n",
      "  Batch size = 128\n",
      "Saving model checkpoint to /scratch/data_jz17d/result/POS_CCAT50/author_0,1_run_0/checkpoint-308\n",
      "Configuration saved in /scratch/data_jz17d/result/POS_CCAT50/author_0,1_run_0/checkpoint-308/config.json\n",
      "Model weights saved in /scratch/data_jz17d/result/POS_CCAT50/author_0,1_run_0/checkpoint-308/pytorch_model.bin\n",
      "tokenizer config file saved in /scratch/data_jz17d/result/POS_CCAT50/author_0,1_run_0/checkpoint-308/tokenizer_config.json\n",
      "Special tokens file saved in /scratch/data_jz17d/result/POS_CCAT50/author_0,1_run_0/checkpoint-308/special_tokens_map.json\n",
      "Deleting older checkpoint [/scratch/data_jz17d/result/POS_CCAT50/author_0,1_run_0/checkpoint-286] due to args.save_total_limit\n",
      "***** Running Evaluation *****\n",
      "  Num examples = 344\n",
      "  Batch size = 128\n",
      "Saving model checkpoint to /scratch/data_jz17d/result/POS_CCAT50/author_0,1_run_0/checkpoint-319\n",
      "Configuration saved in /scratch/data_jz17d/result/POS_CCAT50/author_0,1_run_0/checkpoint-319/config.json\n",
      "Model weights saved in /scratch/data_jz17d/result/POS_CCAT50/author_0,1_run_0/checkpoint-319/pytorch_model.bin\n",
      "tokenizer config file saved in /scratch/data_jz17d/result/POS_CCAT50/author_0,1_run_0/checkpoint-319/tokenizer_config.json\n",
      "Special tokens file saved in /scratch/data_jz17d/result/POS_CCAT50/author_0,1_run_0/checkpoint-319/special_tokens_map.json\n",
      "Deleting older checkpoint [/scratch/data_jz17d/result/POS_CCAT50/author_0,1_run_0/checkpoint-297] due to args.save_total_limit\n",
      "***** Running Evaluation *****\n",
      "  Num examples = 344\n",
      "  Batch size = 128\n",
      "Saving model checkpoint to /scratch/data_jz17d/result/POS_CCAT50/author_0,1_run_0/checkpoint-330\n",
      "Configuration saved in /scratch/data_jz17d/result/POS_CCAT50/author_0,1_run_0/checkpoint-330/config.json\n",
      "Model weights saved in /scratch/data_jz17d/result/POS_CCAT50/author_0,1_run_0/checkpoint-330/pytorch_model.bin\n",
      "tokenizer config file saved in /scratch/data_jz17d/result/POS_CCAT50/author_0,1_run_0/checkpoint-330/tokenizer_config.json\n",
      "Special tokens file saved in /scratch/data_jz17d/result/POS_CCAT50/author_0,1_run_0/checkpoint-330/special_tokens_map.json\n",
      "Deleting older checkpoint [/scratch/data_jz17d/result/POS_CCAT50/author_0,1_run_0/checkpoint-308] due to args.save_total_limit\n",
      "***** Running Evaluation *****\n",
      "  Num examples = 344\n",
      "  Batch size = 128\n",
      "Saving model checkpoint to /scratch/data_jz17d/result/POS_CCAT50/author_0,1_run_0/checkpoint-341\n",
      "Configuration saved in /scratch/data_jz17d/result/POS_CCAT50/author_0,1_run_0/checkpoint-341/config.json\n",
      "Model weights saved in /scratch/data_jz17d/result/POS_CCAT50/author_0,1_run_0/checkpoint-341/pytorch_model.bin\n",
      "tokenizer config file saved in /scratch/data_jz17d/result/POS_CCAT50/author_0,1_run_0/checkpoint-341/tokenizer_config.json\n",
      "Special tokens file saved in /scratch/data_jz17d/result/POS_CCAT50/author_0,1_run_0/checkpoint-341/special_tokens_map.json\n",
      "Deleting older checkpoint [/scratch/data_jz17d/result/POS_CCAT50/author_0,1_run_0/checkpoint-319] due to args.save_total_limit\n",
      "***** Running Evaluation *****\n",
      "  Num examples = 344\n",
      "  Batch size = 128\n",
      "Saving model checkpoint to /scratch/data_jz17d/result/POS_CCAT50/author_0,1_run_0/checkpoint-352\n",
      "Configuration saved in /scratch/data_jz17d/result/POS_CCAT50/author_0,1_run_0/checkpoint-352/config.json\n",
      "Model weights saved in /scratch/data_jz17d/result/POS_CCAT50/author_0,1_run_0/checkpoint-352/pytorch_model.bin\n",
      "tokenizer config file saved in /scratch/data_jz17d/result/POS_CCAT50/author_0,1_run_0/checkpoint-352/tokenizer_config.json\n",
      "Special tokens file saved in /scratch/data_jz17d/result/POS_CCAT50/author_0,1_run_0/checkpoint-352/special_tokens_map.json\n",
      "Deleting older checkpoint [/scratch/data_jz17d/result/POS_CCAT50/author_0,1_run_0/checkpoint-330] due to args.save_total_limit\n",
      "***** Running Evaluation *****\n",
      "  Num examples = 344\n",
      "  Batch size = 128\n",
      "Saving model checkpoint to /scratch/data_jz17d/result/POS_CCAT50/author_0,1_run_0/checkpoint-363\n",
      "Configuration saved in /scratch/data_jz17d/result/POS_CCAT50/author_0,1_run_0/checkpoint-363/config.json\n",
      "Model weights saved in /scratch/data_jz17d/result/POS_CCAT50/author_0,1_run_0/checkpoint-363/pytorch_model.bin\n",
      "tokenizer config file saved in /scratch/data_jz17d/result/POS_CCAT50/author_0,1_run_0/checkpoint-363/tokenizer_config.json\n"
     ]
    },
    {
     "name": "stderr",
     "output_type": "stream",
     "text": [
      "Special tokens file saved in /scratch/data_jz17d/result/POS_CCAT50/author_0,1_run_0/checkpoint-363/special_tokens_map.json\n",
      "Deleting older checkpoint [/scratch/data_jz17d/result/POS_CCAT50/author_0,1_run_0/checkpoint-341] due to args.save_total_limit\n",
      "***** Running Evaluation *****\n",
      "  Num examples = 344\n",
      "  Batch size = 128\n",
      "Saving model checkpoint to /scratch/data_jz17d/result/POS_CCAT50/author_0,1_run_0/checkpoint-374\n",
      "Configuration saved in /scratch/data_jz17d/result/POS_CCAT50/author_0,1_run_0/checkpoint-374/config.json\n",
      "Model weights saved in /scratch/data_jz17d/result/POS_CCAT50/author_0,1_run_0/checkpoint-374/pytorch_model.bin\n",
      "tokenizer config file saved in /scratch/data_jz17d/result/POS_CCAT50/author_0,1_run_0/checkpoint-374/tokenizer_config.json\n",
      "Special tokens file saved in /scratch/data_jz17d/result/POS_CCAT50/author_0,1_run_0/checkpoint-374/special_tokens_map.json\n",
      "Deleting older checkpoint [/scratch/data_jz17d/result/POS_CCAT50/author_0,1_run_0/checkpoint-352] due to args.save_total_limit\n",
      "***** Running Evaluation *****\n",
      "  Num examples = 344\n",
      "  Batch size = 128\n",
      "Saving model checkpoint to /scratch/data_jz17d/result/POS_CCAT50/author_0,1_run_0/checkpoint-385\n",
      "Configuration saved in /scratch/data_jz17d/result/POS_CCAT50/author_0,1_run_0/checkpoint-385/config.json\n",
      "Model weights saved in /scratch/data_jz17d/result/POS_CCAT50/author_0,1_run_0/checkpoint-385/pytorch_model.bin\n",
      "tokenizer config file saved in /scratch/data_jz17d/result/POS_CCAT50/author_0,1_run_0/checkpoint-385/tokenizer_config.json\n",
      "Special tokens file saved in /scratch/data_jz17d/result/POS_CCAT50/author_0,1_run_0/checkpoint-385/special_tokens_map.json\n",
      "Deleting older checkpoint [/scratch/data_jz17d/result/POS_CCAT50/author_0,1_run_0/checkpoint-363] due to args.save_total_limit\n",
      "***** Running Evaluation *****\n",
      "  Num examples = 344\n",
      "  Batch size = 128\n",
      "Saving model checkpoint to /scratch/data_jz17d/result/POS_CCAT50/author_0,1_run_0/checkpoint-396\n",
      "Configuration saved in /scratch/data_jz17d/result/POS_CCAT50/author_0,1_run_0/checkpoint-396/config.json\n",
      "Model weights saved in /scratch/data_jz17d/result/POS_CCAT50/author_0,1_run_0/checkpoint-396/pytorch_model.bin\n",
      "tokenizer config file saved in /scratch/data_jz17d/result/POS_CCAT50/author_0,1_run_0/checkpoint-396/tokenizer_config.json\n",
      "Special tokens file saved in /scratch/data_jz17d/result/POS_CCAT50/author_0,1_run_0/checkpoint-396/special_tokens_map.json\n",
      "Deleting older checkpoint [/scratch/data_jz17d/result/POS_CCAT50/author_0,1_run_0/checkpoint-374] due to args.save_total_limit\n",
      "***** Running Evaluation *****\n",
      "  Num examples = 344\n",
      "  Batch size = 128\n",
      "Saving model checkpoint to /scratch/data_jz17d/result/POS_CCAT50/author_0,1_run_0/checkpoint-407\n",
      "Configuration saved in /scratch/data_jz17d/result/POS_CCAT50/author_0,1_run_0/checkpoint-407/config.json\n",
      "Model weights saved in /scratch/data_jz17d/result/POS_CCAT50/author_0,1_run_0/checkpoint-407/pytorch_model.bin\n",
      "tokenizer config file saved in /scratch/data_jz17d/result/POS_CCAT50/author_0,1_run_0/checkpoint-407/tokenizer_config.json\n",
      "Special tokens file saved in /scratch/data_jz17d/result/POS_CCAT50/author_0,1_run_0/checkpoint-407/special_tokens_map.json\n",
      "Deleting older checkpoint [/scratch/data_jz17d/result/POS_CCAT50/author_0,1_run_0/checkpoint-385] due to args.save_total_limit\n",
      "***** Running Evaluation *****\n",
      "  Num examples = 344\n",
      "  Batch size = 128\n",
      "Saving model checkpoint to /scratch/data_jz17d/result/POS_CCAT50/author_0,1_run_0/checkpoint-418\n",
      "Configuration saved in /scratch/data_jz17d/result/POS_CCAT50/author_0,1_run_0/checkpoint-418/config.json\n",
      "Model weights saved in /scratch/data_jz17d/result/POS_CCAT50/author_0,1_run_0/checkpoint-418/pytorch_model.bin\n",
      "tokenizer config file saved in /scratch/data_jz17d/result/POS_CCAT50/author_0,1_run_0/checkpoint-418/tokenizer_config.json\n",
      "Special tokens file saved in /scratch/data_jz17d/result/POS_CCAT50/author_0,1_run_0/checkpoint-418/special_tokens_map.json\n",
      "Deleting older checkpoint [/scratch/data_jz17d/result/POS_CCAT50/author_0,1_run_0/checkpoint-396] due to args.save_total_limit\n",
      "***** Running Evaluation *****\n",
      "  Num examples = 344\n",
      "  Batch size = 128\n",
      "Saving model checkpoint to /scratch/data_jz17d/result/POS_CCAT50/author_0,1_run_0/checkpoint-429\n",
      "Configuration saved in /scratch/data_jz17d/result/POS_CCAT50/author_0,1_run_0/checkpoint-429/config.json\n",
      "Model weights saved in /scratch/data_jz17d/result/POS_CCAT50/author_0,1_run_0/checkpoint-429/pytorch_model.bin\n",
      "tokenizer config file saved in /scratch/data_jz17d/result/POS_CCAT50/author_0,1_run_0/checkpoint-429/tokenizer_config.json\n",
      "Special tokens file saved in /scratch/data_jz17d/result/POS_CCAT50/author_0,1_run_0/checkpoint-429/special_tokens_map.json\n",
      "Deleting older checkpoint [/scratch/data_jz17d/result/POS_CCAT50/author_0,1_run_0/checkpoint-407] due to args.save_total_limit\n",
      "***** Running Evaluation *****\n",
      "  Num examples = 344\n",
      "  Batch size = 128\n",
      "Saving model checkpoint to /scratch/data_jz17d/result/POS_CCAT50/author_0,1_run_0/checkpoint-440\n",
      "Configuration saved in /scratch/data_jz17d/result/POS_CCAT50/author_0,1_run_0/checkpoint-440/config.json\n",
      "Model weights saved in /scratch/data_jz17d/result/POS_CCAT50/author_0,1_run_0/checkpoint-440/pytorch_model.bin\n",
      "tokenizer config file saved in /scratch/data_jz17d/result/POS_CCAT50/author_0,1_run_0/checkpoint-440/tokenizer_config.json\n",
      "Special tokens file saved in /scratch/data_jz17d/result/POS_CCAT50/author_0,1_run_0/checkpoint-440/special_tokens_map.json\n",
      "Deleting older checkpoint [/scratch/data_jz17d/result/POS_CCAT50/author_0,1_run_0/checkpoint-418] due to args.save_total_limit\n",
      "***** Running Evaluation *****\n",
      "  Num examples = 344\n",
      "  Batch size = 128\n",
      "Saving model checkpoint to /scratch/data_jz17d/result/POS_CCAT50/author_0,1_run_0/checkpoint-451\n",
      "Configuration saved in /scratch/data_jz17d/result/POS_CCAT50/author_0,1_run_0/checkpoint-451/config.json\n",
      "Model weights saved in /scratch/data_jz17d/result/POS_CCAT50/author_0,1_run_0/checkpoint-451/pytorch_model.bin\n",
      "tokenizer config file saved in /scratch/data_jz17d/result/POS_CCAT50/author_0,1_run_0/checkpoint-451/tokenizer_config.json\n",
      "Special tokens file saved in /scratch/data_jz17d/result/POS_CCAT50/author_0,1_run_0/checkpoint-451/special_tokens_map.json\n",
      "Deleting older checkpoint [/scratch/data_jz17d/result/POS_CCAT50/author_0,1_run_0/checkpoint-429] due to args.save_total_limit\n",
      "***** Running Evaluation *****\n",
      "  Num examples = 344\n",
      "  Batch size = 128\n",
      "Saving model checkpoint to /scratch/data_jz17d/result/POS_CCAT50/author_0,1_run_0/checkpoint-462\n",
      "Configuration saved in /scratch/data_jz17d/result/POS_CCAT50/author_0,1_run_0/checkpoint-462/config.json\n",
      "Model weights saved in /scratch/data_jz17d/result/POS_CCAT50/author_0,1_run_0/checkpoint-462/pytorch_model.bin\n",
      "tokenizer config file saved in /scratch/data_jz17d/result/POS_CCAT50/author_0,1_run_0/checkpoint-462/tokenizer_config.json\n",
      "Special tokens file saved in /scratch/data_jz17d/result/POS_CCAT50/author_0,1_run_0/checkpoint-462/special_tokens_map.json\n",
      "Deleting older checkpoint [/scratch/data_jz17d/result/POS_CCAT50/author_0,1_run_0/checkpoint-440] due to args.save_total_limit\n",
      "***** Running Evaluation *****\n",
      "  Num examples = 344\n",
      "  Batch size = 128\n",
      "Saving model checkpoint to /scratch/data_jz17d/result/POS_CCAT50/author_0,1_run_0/checkpoint-473\n",
      "Configuration saved in /scratch/data_jz17d/result/POS_CCAT50/author_0,1_run_0/checkpoint-473/config.json\n",
      "Model weights saved in /scratch/data_jz17d/result/POS_CCAT50/author_0,1_run_0/checkpoint-473/pytorch_model.bin\n",
      "tokenizer config file saved in /scratch/data_jz17d/result/POS_CCAT50/author_0,1_run_0/checkpoint-473/tokenizer_config.json\n",
      "Special tokens file saved in /scratch/data_jz17d/result/POS_CCAT50/author_0,1_run_0/checkpoint-473/special_tokens_map.json\n",
      "Deleting older checkpoint [/scratch/data_jz17d/result/POS_CCAT50/author_0,1_run_0/checkpoint-451] due to args.save_total_limit\n",
      "***** Running Evaluation *****\n",
      "  Num examples = 344\n",
      "  Batch size = 128\n",
      "Saving model checkpoint to /scratch/data_jz17d/result/POS_CCAT50/author_0,1_run_0/checkpoint-484\n",
      "Configuration saved in /scratch/data_jz17d/result/POS_CCAT50/author_0,1_run_0/checkpoint-484/config.json\n",
      "Model weights saved in /scratch/data_jz17d/result/POS_CCAT50/author_0,1_run_0/checkpoint-484/pytorch_model.bin\n"
     ]
    },
    {
     "name": "stderr",
     "output_type": "stream",
     "text": [
      "tokenizer config file saved in /scratch/data_jz17d/result/POS_CCAT50/author_0,1_run_0/checkpoint-484/tokenizer_config.json\n",
      "Special tokens file saved in /scratch/data_jz17d/result/POS_CCAT50/author_0,1_run_0/checkpoint-484/special_tokens_map.json\n",
      "Deleting older checkpoint [/scratch/data_jz17d/result/POS_CCAT50/author_0,1_run_0/checkpoint-462] due to args.save_total_limit\n",
      "***** Running Evaluation *****\n",
      "  Num examples = 344\n",
      "  Batch size = 128\n",
      "Saving model checkpoint to /scratch/data_jz17d/result/POS_CCAT50/author_0,1_run_0/checkpoint-495\n",
      "Configuration saved in /scratch/data_jz17d/result/POS_CCAT50/author_0,1_run_0/checkpoint-495/config.json\n",
      "Model weights saved in /scratch/data_jz17d/result/POS_CCAT50/author_0,1_run_0/checkpoint-495/pytorch_model.bin\n",
      "tokenizer config file saved in /scratch/data_jz17d/result/POS_CCAT50/author_0,1_run_0/checkpoint-495/tokenizer_config.json\n",
      "Special tokens file saved in /scratch/data_jz17d/result/POS_CCAT50/author_0,1_run_0/checkpoint-495/special_tokens_map.json\n",
      "Deleting older checkpoint [/scratch/data_jz17d/result/POS_CCAT50/author_0,1_run_0/checkpoint-473] due to args.save_total_limit\n",
      "***** Running Evaluation *****\n",
      "  Num examples = 344\n",
      "  Batch size = 128\n",
      "Saving model checkpoint to /scratch/data_jz17d/result/POS_CCAT50/author_0,1_run_0/checkpoint-506\n",
      "Configuration saved in /scratch/data_jz17d/result/POS_CCAT50/author_0,1_run_0/checkpoint-506/config.json\n",
      "Model weights saved in /scratch/data_jz17d/result/POS_CCAT50/author_0,1_run_0/checkpoint-506/pytorch_model.bin\n",
      "tokenizer config file saved in /scratch/data_jz17d/result/POS_CCAT50/author_0,1_run_0/checkpoint-506/tokenizer_config.json\n",
      "Special tokens file saved in /scratch/data_jz17d/result/POS_CCAT50/author_0,1_run_0/checkpoint-506/special_tokens_map.json\n",
      "Deleting older checkpoint [/scratch/data_jz17d/result/POS_CCAT50/author_0,1_run_0/checkpoint-484] due to args.save_total_limit\n",
      "***** Running Evaluation *****\n",
      "  Num examples = 344\n",
      "  Batch size = 128\n",
      "Saving model checkpoint to /scratch/data_jz17d/result/POS_CCAT50/author_0,1_run_0/checkpoint-517\n",
      "Configuration saved in /scratch/data_jz17d/result/POS_CCAT50/author_0,1_run_0/checkpoint-517/config.json\n",
      "Model weights saved in /scratch/data_jz17d/result/POS_CCAT50/author_0,1_run_0/checkpoint-517/pytorch_model.bin\n",
      "tokenizer config file saved in /scratch/data_jz17d/result/POS_CCAT50/author_0,1_run_0/checkpoint-517/tokenizer_config.json\n",
      "Special tokens file saved in /scratch/data_jz17d/result/POS_CCAT50/author_0,1_run_0/checkpoint-517/special_tokens_map.json\n",
      "Deleting older checkpoint [/scratch/data_jz17d/result/POS_CCAT50/author_0,1_run_0/checkpoint-495] due to args.save_total_limit\n",
      "***** Running Evaluation *****\n",
      "  Num examples = 344\n",
      "  Batch size = 128\n",
      "Saving model checkpoint to /scratch/data_jz17d/result/POS_CCAT50/author_0,1_run_0/checkpoint-528\n",
      "Configuration saved in /scratch/data_jz17d/result/POS_CCAT50/author_0,1_run_0/checkpoint-528/config.json\n",
      "Model weights saved in /scratch/data_jz17d/result/POS_CCAT50/author_0,1_run_0/checkpoint-528/pytorch_model.bin\n",
      "tokenizer config file saved in /scratch/data_jz17d/result/POS_CCAT50/author_0,1_run_0/checkpoint-528/tokenizer_config.json\n",
      "Special tokens file saved in /scratch/data_jz17d/result/POS_CCAT50/author_0,1_run_0/checkpoint-528/special_tokens_map.json\n",
      "Deleting older checkpoint [/scratch/data_jz17d/result/POS_CCAT50/author_0,1_run_0/checkpoint-506] due to args.save_total_limit\n",
      "***** Running Evaluation *****\n",
      "  Num examples = 344\n",
      "  Batch size = 128\n",
      "Saving model checkpoint to /scratch/data_jz17d/result/POS_CCAT50/author_0,1_run_0/checkpoint-539\n",
      "Configuration saved in /scratch/data_jz17d/result/POS_CCAT50/author_0,1_run_0/checkpoint-539/config.json\n",
      "Model weights saved in /scratch/data_jz17d/result/POS_CCAT50/author_0,1_run_0/checkpoint-539/pytorch_model.bin\n",
      "tokenizer config file saved in /scratch/data_jz17d/result/POS_CCAT50/author_0,1_run_0/checkpoint-539/tokenizer_config.json\n",
      "Special tokens file saved in /scratch/data_jz17d/result/POS_CCAT50/author_0,1_run_0/checkpoint-539/special_tokens_map.json\n",
      "Deleting older checkpoint [/scratch/data_jz17d/result/POS_CCAT50/author_0,1_run_0/checkpoint-517] due to args.save_total_limit\n",
      "***** Running Evaluation *****\n",
      "  Num examples = 344\n",
      "  Batch size = 128\n",
      "Saving model checkpoint to /scratch/data_jz17d/result/POS_CCAT50/author_0,1_run_0/checkpoint-550\n",
      "Configuration saved in /scratch/data_jz17d/result/POS_CCAT50/author_0,1_run_0/checkpoint-550/config.json\n",
      "Model weights saved in /scratch/data_jz17d/result/POS_CCAT50/author_0,1_run_0/checkpoint-550/pytorch_model.bin\n",
      "tokenizer config file saved in /scratch/data_jz17d/result/POS_CCAT50/author_0,1_run_0/checkpoint-550/tokenizer_config.json\n",
      "Special tokens file saved in /scratch/data_jz17d/result/POS_CCAT50/author_0,1_run_0/checkpoint-550/special_tokens_map.json\n",
      "Deleting older checkpoint [/scratch/data_jz17d/result/POS_CCAT50/author_0,1_run_0/checkpoint-528] due to args.save_total_limit\n",
      "\n",
      "\n",
      "Training completed. Do not forget to share your model on huggingface.co/models =)\n",
      "\n",
      "\n",
      "/tmp/ipykernel_126464/668988492.py:89: FutureWarning: load_metric is deprecated and will be removed in the next major version of datasets. Use 'evaluate.load' instead, from the new library 🤗 Evaluate: https://huggingface.co/docs/evaluate\n",
      "  metric = datasets.load_metric('accuracy')\n"
     ]
    },
    {
     "ename": "NameError",
     "evalue": "name 'device' is not defined",
     "output_type": "error",
     "traceback": [
      "\u001b[0;31m---------------------------------------------------------------------------\u001b[0m",
      "\u001b[0;31mNameError\u001b[0m                                 Traceback (most recent call last)",
      "\u001b[0;32m/tmp/ipykernel_126464/668988492.py\u001b[0m in \u001b[0;36m<module>\u001b[0;34m\u001b[0m\n\u001b[1;32m     90\u001b[0m     \u001b[0;32mfor\u001b[0m \u001b[0mx\u001b[0m \u001b[0;32min\u001b[0m \u001b[0mtrainer\u001b[0m\u001b[0;34m.\u001b[0m\u001b[0mget_eval_dataloader\u001b[0m\u001b[0;34m(\u001b[0m\u001b[0mtest_dataset\u001b[0m\u001b[0;34m)\u001b[0m\u001b[0;34m:\u001b[0m\u001b[0;34m\u001b[0m\u001b[0;34m\u001b[0m\u001b[0m\n\u001b[1;32m     91\u001b[0m         \u001b[0mlabels\u001b[0m \u001b[0;34m=\u001b[0m \u001b[0mx\u001b[0m\u001b[0;34m[\u001b[0m\u001b[0;34m'labels'\u001b[0m\u001b[0;34m]\u001b[0m\u001b[0;34m\u001b[0m\u001b[0;34m\u001b[0m\u001b[0m\n\u001b[0;32m---> 92\u001b[0;31m         \u001b[0mx\u001b[0m \u001b[0;34m=\u001b[0m \u001b[0mnested_to\u001b[0m\u001b[0;34m(\u001b[0m\u001b[0mx\u001b[0m\u001b[0;34m,\u001b[0m \u001b[0mdevice\u001b[0m\u001b[0;34m)\u001b[0m\u001b[0;34m\u001b[0m\u001b[0;34m\u001b[0m\u001b[0m\n\u001b[0m\u001b[1;32m     93\u001b[0m         \u001b[0mmodel_predictions\u001b[0m \u001b[0;34m=\u001b[0m \u001b[0mmodel\u001b[0m\u001b[0;34m(\u001b[0m\u001b[0;34m**\u001b[0m\u001b[0mx\u001b[0m\u001b[0;34m)\u001b[0m\u001b[0;34m\u001b[0m\u001b[0;34m\u001b[0m\u001b[0m\n\u001b[1;32m     94\u001b[0m         \u001b[0mmetric\u001b[0m\u001b[0;34m.\u001b[0m\u001b[0madd_batch\u001b[0m\u001b[0;34m(\u001b[0m\u001b[0mpredictions\u001b[0m\u001b[0;34m=\u001b[0m\u001b[0mmodel_predictions\u001b[0m\u001b[0;34m.\u001b[0m\u001b[0mlogits\u001b[0m\u001b[0;34m.\u001b[0m\u001b[0margmax\u001b[0m\u001b[0;34m(\u001b[0m\u001b[0maxis\u001b[0m\u001b[0;34m=\u001b[0m\u001b[0;34m-\u001b[0m\u001b[0;36m1\u001b[0m\u001b[0;34m)\u001b[0m\u001b[0;34m.\u001b[0m\u001b[0mcpu\u001b[0m\u001b[0;34m(\u001b[0m\u001b[0;34m)\u001b[0m\u001b[0;34m.\u001b[0m\u001b[0mdetach\u001b[0m\u001b[0;34m(\u001b[0m\u001b[0;34m)\u001b[0m\u001b[0;34m.\u001b[0m\u001b[0mnumpy\u001b[0m\u001b[0;34m(\u001b[0m\u001b[0;34m)\u001b[0m\u001b[0;34m,\u001b[0m \u001b[0mreferences\u001b[0m\u001b[0;34m=\u001b[0m\u001b[0mlabels\u001b[0m\u001b[0;34m)\u001b[0m\u001b[0;34m\u001b[0m\u001b[0;34m\u001b[0m\u001b[0m\n",
      "\u001b[0;31mNameError\u001b[0m: name 'device' is not defined"
     ]
    }
   ],
   "source": [
    "epochs = 50\n",
    "batchsize = 128\n",
    "num_labels = 2\n",
    "freeze_bert = 3\n",
    "save_folder = '../../data/CCAT50/processed/'\n",
    "\n",
    "# num_authors_to_pick = 2 # useless when specifying picked authors\n",
    "NUM_SENT = [1,2,3]\n",
    "PICKED_AUTHORS = ['0,1', '2,3', '4,5']\n",
    "LR = [3e-5, 5e-5, 8e-5]\n",
    "\n",
    "NUM_SENT, PICKED_AUTHORS, LR = np.meshgrid(NUM_SENT, PICKED_AUTHORS, LR)\n",
    "NUM_SENT, PICKED_AUTHORS, LR = NUM_SENT.flatten(), PICKED_AUTHORS.flatten(), LR.flatten()\n",
    "\n",
    "num_runs = len(NUM_SENT)\n",
    "\n",
    "for i_run in trange(num_runs):\n",
    "    \n",
    "    \n",
    "    num_sent_per_text = NUM_SENT[i_run]\n",
    "    picked_author_ids = PICKED_AUTHORS[i_run]\n",
    "    picked_author_ids = list(map(int,picked_author_ids.split(',')))\n",
    "    lr = LR[i_run]\n",
    "    \n",
    "    df, file_name = create_dataset(df_ccat, picked_author_ids = picked_author_ids, num_sent_per_text = num_sent_per_text, save_folder = save_folder)\n",
    "    \n",
    "    le = preprocessing.LabelEncoder()\n",
    "    le.fit(df['author'])\n",
    "    train_dataset = Dataset.from_csv(f'{save_folder}/{file_name}').shuffle()\n",
    "    train_dataset = train_dataset.map(tokenize, batched=True)\n",
    "    train_dataset = train_dataset.remove_columns(['text'])\n",
    "    train_dataset = train_dataset.remove_columns(['author'])\n",
    "    \n",
    "    df, file_name = create_dataset(df_ccat_val, picked_author_ids = picked_author_ids, num_sent_per_text = num_sent_per_text, save_folder = save_folder)\n",
    "    test_dataset = Dataset.from_csv(f'{save_folder}/{file_name}').shuffle()\n",
    "    test_dataset = test_dataset.map(tokenize, batched=True)\n",
    "    test_dataset = test_dataset.remove_columns(['text'])\n",
    "    test_dataset = test_dataset.remove_columns(['author'])\n",
    "    \n",
    "    model = AutoModelForSequenceClassification.from_pretrained('/scratch/data_jz17d/result/pos_mlm_corenlp/pos_mlm_8/checkpoint-155000/', local_files_only=True, num_labels=num_labels)\n",
    "    model = freeze_model(model, freeze_bert)\n",
    "    \n",
    "    # trainer config\n",
    "    str_author = ','.join(map(str, picked_author_ids))\n",
    "    training_args = TrainingArguments(\n",
    "        learning_rate=lr,\n",
    "        output_dir= f\"/scratch/data_jz17d/result/POS_CCAT50/author_{str_author}_run_{i_run}\",\n",
    "        overwrite_output_dir=True,\n",
    "        num_train_epochs=epochs,\n",
    "        per_device_train_batch_size=batchsize,\n",
    "        per_device_eval_batch_size=batchsize,\n",
    "        evaluation_strategy=IntervalStrategy.EPOCH,\n",
    "        logging_strategy=IntervalStrategy.EPOCH,\n",
    "        save_strategy=IntervalStrategy.EPOCH,\n",
    "#         save_steps=control_steps,\n",
    "#         logging_steps=control_steps,\n",
    "#         eval_steps=control_steps,\n",
    "#         metric_for_best_model='accuracy',\n",
    "        save_total_limit=2,\n",
    "        prediction_loss_only=True,\n",
    "#         remove_unused_columns=False,\n",
    "#         report_to='wandb',\n",
    "        )\n",
    "    \n",
    "    # wandb config\n",
    "    wconfig = {}\n",
    "    wconfig['num_sent_per_text'] = num_sent_per_text\n",
    "    wconfig['picked_author_ids'] = str_author\n",
    "    wconfig['lr'] = lr\n",
    "    run = wandb.init(project=\"POS CCAT50\", \n",
    "                     entity=\"fsu-dsc-cil\", \n",
    "                     dir='/scratch/data_jz17d/wandb_tmp/', \n",
    "                     config=wconfig,\n",
    "                     name=f'author_{str_author}_run_{i_run}',\n",
    "                     reinit=True)\n",
    "\n",
    "    trainer = Trainer(\n",
    "        model=model,\n",
    "        args=training_args,\n",
    "        tokenizer=tokenizer,\n",
    "        data_collator=data_collator,\n",
    "        train_dataset=train_dataset,\n",
    "        eval_dataset=test_dataset,\n",
    "        compute_metrics=compute_metrics,\n",
    "    )\n",
    "    trainer.train()\n",
    "    \n",
    "    # end of training evaluation\n",
    "    metric = datasets.load_metric('accuracy')\n",
    "    for x in trainer.get_eval_dataloader(test_dataset):\n",
    "        labels = x['labels']\n",
    "        x = nested_to(x, device)\n",
    "        model_predictions = model(**x)\n",
    "        metric.add_batch(predictions=model_predictions.logits.argmax(axis=-1).cpu().detach().numpy(), references=labels)\n",
    "    accuracy = metric.compute()\n",
    "    wandb.log({'accuracy':accuracy})  \n",
    "    \n",
    "    run.finish()"
   ]
  },
  {
   "cell_type": "code",
   "execution_count": null,
   "id": "c6aca876",
   "metadata": {},
   "outputs": [],
   "source": []
  }
 ],
 "metadata": {
  "kernelspec": {
   "display_name": "Python 3 (ipykernel)",
   "language": "python",
   "name": "python3"
  }
 },
 "nbformat": 4,
 "nbformat_minor": 5
}
