{
 "cells": [
  {
   "cell_type": "markdown",
   "id": "da3e41bb",
   "metadata": {},
   "source": [
    "<h1>Table of Contents<span class=\"tocSkip\"></span></h1>\n",
    "<div class=\"toc\"><ul class=\"toc-item\"><li><span><a href=\"#unfreeze,-with-pooler,-limit-30000\" data-toc-modified-id=\"unfreeze,-with-pooler,-limit-30000-1\"><span class=\"toc-item-num\">1&nbsp;&nbsp;</span>unfreeze, with pooler, limit 30000</a></span></li><li><span><a href=\"#unfreeze,-without-pooler,-limit-30000\" data-toc-modified-id=\"unfreeze,-without-pooler,-limit-30000-2\"><span class=\"toc-item-num\">2&nbsp;&nbsp;</span>unfreeze, without pooler, limit 30000</a></span></li><li><span><a href=\"#freeze-6,-without-pooler,-limit-30000\" data-toc-modified-id=\"freeze-6,-without-pooler,-limit-30000-3\"><span class=\"toc-item-num\">3&nbsp;&nbsp;</span>freeze 6, without pooler, limit 30000</a></span></li></ul></div>"
   ]
  },
  {
   "cell_type": "code",
   "execution_count": null,
   "id": "3c2c6997",
   "metadata": {},
   "outputs": [],
   "source": [
    "%run ./multitask_style_learning_utils.ipynb"
   ]
  },
  {
   "cell_type": "markdown",
   "id": "049076e1",
   "metadata": {},
   "source": [
    "# unfreeze, with pooler, limit 30000"
   ]
  },
  {
   "cell_type": "code",
   "execution_count": null,
   "id": "db220b2c",
   "metadata": {},
   "outputs": [
    {
     "name": "stderr",
     "output_type": "stream",
     "text": [
      "Some weights of the model checkpoint at bert-base-uncased were not used when initializing BertModel: ['cls.predictions.transform.LayerNorm.weight', 'cls.predictions.transform.dense.bias', 'cls.predictions.bias', 'cls.predictions.decoder.weight', 'cls.predictions.transform.dense.weight', 'cls.seq_relationship.weight', 'cls.predictions.transform.LayerNorm.bias', 'cls.seq_relationship.bias']\n",
      "- This IS expected if you are initializing BertModel from the checkpoint of a model trained on another task or with another architecture (e.g. initializing a BertForSequenceClassification model from a BertForPreTraining model).\n",
      "- This IS NOT expected if you are initializing BertModel from the checkpoint of a model that you expect to be exactly identical (initializing a BertForSequenceClassification model from a BertForSequenceClassification model).\n"
     ]
    },
    {
     "data": {
      "application/vnd.jupyter.widget-view+json": {
       "model_id": "6da8ad7483d14aa493bd06a56eb6c8cf",
       "version_major": 2,
       "version_minor": 0
      },
      "text/plain": [
       "  0%|          | 0/9380 [00:00<?, ?it/s]"
      ]
     },
     "metadata": {},
     "output_type": "display_data"
    }
   ],
   "source": [
    "selected_tasks = [\n",
    "#                   'PASTEL_country', # 33224\n",
    "                  'SARC', # 205645\n",
    "#                   'SarcasmGhosh', # 39780\n",
    "                  'ShortHumor', # 37801\n",
    "#                   'ShortJokeKaggle', # 406682\n",
    "#                   'ShortRomance', # 1902\n",
    "#                   'TroFi', # 3335\n",
    "#                   'VUA', # 15157\n",
    "                 ] \n",
    "training_args = TrainingArgs(selected_tasks=selected_tasks,\n",
    "                             base_model_name='bert-base-uncased',\n",
    "                             freeze_bert=False,\n",
    "                             use_pooler=True,\n",
    "                             num_epoch=5,\n",
    "                             data_limit=30000,\n",
    "                            )\n",
    "\n",
    "model = init_model(training_args)\n",
    "freeze_model(model, training_args.freeze_bert)\n",
    "df_evaluation, df_loss_per_step, model = train_model(model, training_args)\n",
    "\n",
    "eval_dataloader = MultiTaskTestDataLoader(training_args, split='dev')\n",
    "attn_entropy, head_importance, preds, labels = compute_heads_importance(model, eval_dataloader, training_args)\n",
    "\n",
    "imshow(attn_entropy)\n",
    "imshow(head_importance)\n"
   ]
  },
  {
   "cell_type": "markdown",
   "id": "cb317dd3",
   "metadata": {},
   "source": [
    "# unfreeze, without pooler, limit 30000"
   ]
  },
  {
   "cell_type": "code",
   "execution_count": null,
   "id": "ee829fde",
   "metadata": {},
   "outputs": [],
   "source": [
    "selected_tasks = [\n",
    "#                   'PASTEL_country', # 33224\n",
    "                  'SARC', # 205645\n",
    "#                   'SarcasmGhosh', # 39780\n",
    "                  'ShortHumor', # 37801\n",
    "#                   'ShortJokeKaggle', # 406682\n",
    "#                   'ShortRomance', # 1902\n",
    "#                   'TroFi', # 3335\n",
    "#                   'VUA', # 15157\n",
    "                 ] \n",
    "training_args = TrainingArgs(selected_tasks=selected_tasks,\n",
    "                             base_model_name='bert-base-uncased',\n",
    "                             freeze_bert=False,\n",
    "                             use_pooler=False,\n",
    "                             num_epoch=5,\n",
    "                             data_limit=30000,\n",
    "                            )\n",
    "\n",
    "model = init_model(training_args)\n",
    "freeze_model(model, training_args.freeze_bert)\n",
    "df_evaluation, df_loss_per_step, model = train_model(model, training_args)\n",
    "\n",
    "eval_dataloader = MultiTaskTestDataLoader(training_args, split='dev')\n",
    "attn_entropy, head_importance, preds, labels = compute_heads_importance(model, eval_dataloader, training_args)\n",
    "\n",
    "imshow(attn_entropy)\n",
    "imshow(head_importance)\n"
   ]
  },
  {
   "cell_type": "markdown",
   "id": "a7bca7ee",
   "metadata": {},
   "source": [
    "# freeze 6, without pooler, limit 30000"
   ]
  },
  {
   "cell_type": "code",
   "execution_count": null,
   "id": "93910e47",
   "metadata": {},
   "outputs": [],
   "source": [
    "selected_tasks = [\n",
    "#                   'PASTEL_country', # 33224\n",
    "                  'SARC', # 205645\n",
    "#                   'SarcasmGhosh', # 39780\n",
    "                  'ShortHumor', # 37801\n",
    "#                   'ShortJokeKaggle', # 406682\n",
    "#                   'ShortRomance', # 1902\n",
    "#                   'TroFi', # 3335\n",
    "#                   'VUA', # 15157\n",
    "                 ] \n",
    "training_args = TrainingArgs(selected_tasks=selected_tasks,\n",
    "                             base_model_name='bert-base-uncased',\n",
    "                             freeze_bert=6,\n",
    "                             use_pooler=False,\n",
    "                             num_epoch=5,\n",
    "                             data_limit=30000,\n",
    "                            )\n",
    "\n",
    "model = init_model(training_args)\n",
    "freeze_model(model, training_args.freeze_bert)\n",
    "df_evaluation, df_loss_per_step, model = train_model(model, training_args)\n",
    "\n",
    "eval_dataloader = MultiTaskTestDataLoader(training_args, split='dev')\n",
    "attn_entropy, head_importance, preds, labels = compute_heads_importance(model, eval_dataloader, training_args)\n",
    "\n",
    "imshow(attn_entropy)\n",
    "imshow(head_importance)\n"
   ]
  }
 ],
 "metadata": {
  "kernelspec": {
   "display_name": "Python 3 (ipykernel)",
   "language": "python",
   "name": "python3"
  }
 },
 "nbformat": 4,
 "nbformat_minor": 5
}
