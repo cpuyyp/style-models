{
 "cells": [
  {
   "cell_type": "markdown",
   "id": "c02a391f",
   "metadata": {},
   "source": [
    "<h1>Table of Contents<span class=\"tocSkip\"></span></h1>\n",
    "<div class=\"toc\"><ul class=\"toc-item\"><li><span><a href=\"#unfreeze,-with-pooler,-limit-30000\" data-toc-modified-id=\"unfreeze,-with-pooler,-limit-30000-1\"><span class=\"toc-item-num\">1&nbsp;&nbsp;</span>unfreeze, with pooler, limit 30000</a></span></li><li><span><a href=\"#unfreeze,-without-pooler,-limit-30000\" data-toc-modified-id=\"unfreeze,-without-pooler,-limit-30000-2\"><span class=\"toc-item-num\">2&nbsp;&nbsp;</span>unfreeze, without pooler, limit 30000</a></span></li><li><span><a href=\"#freeze-6,-without-pooler,-limit-30000\" data-toc-modified-id=\"freeze-6,-without-pooler,-limit-30000-3\"><span class=\"toc-item-num\">3&nbsp;&nbsp;</span>freeze 6, without pooler, limit 30000</a></span></li></ul></div>"
   ]
  },
  {
   "cell_type": "code",
   "execution_count": null,
   "id": "bc895754",
   "metadata": {},
   "outputs": [],
   "source": [
    "%run ./multitask_style_learning_utils.ipynb"
   ]
  },
  {
   "cell_type": "markdown",
   "id": "674658b8",
   "metadata": {},
   "source": [
    "# unfreeze, with pooler, limit 30000"
   ]
  },
  {
   "cell_type": "code",
   "execution_count": null,
   "id": "2e84c603",
   "metadata": {},
   "outputs": [
    {
     "name": "stderr",
     "output_type": "stream",
     "text": [
      "Some weights of the model checkpoint at bert-base-uncased were not used when initializing BertModel: ['cls.predictions.transform.dense.bias', 'cls.predictions.transform.dense.weight', 'cls.predictions.decoder.weight', 'cls.predictions.bias', 'cls.predictions.transform.LayerNorm.weight', 'cls.predictions.transform.LayerNorm.bias', 'cls.seq_relationship.weight', 'cls.seq_relationship.bias']\n",
      "- This IS expected if you are initializing BertModel from the checkpoint of a model trained on another task or with another architecture (e.g. initializing a BertForSequenceClassification model from a BertForPreTraining model).\n",
      "- This IS NOT expected if you are initializing BertModel from the checkpoint of a model that you expect to be exactly identical (initializing a BertForSequenceClassification model from a BertForSequenceClassification model).\n"
     ]
    },
    {
     "data": {
      "application/vnd.jupyter.widget-view+json": {
       "model_id": "7eaabfef20a1482688ea16020376605a",
       "version_major": 2,
       "version_minor": 0
      },
      "text/plain": [
       "  0%|          | 0/9380 [00:00<?, ?it/s]"
      ]
     },
     "metadata": {},
     "output_type": "display_data"
    },
    {
     "data": {
      "application/vnd.jupyter.widget-view+json": {
       "model_id": "",
       "version_major": 2,
       "version_minor": 0
      },
      "text/plain": [
       "  0%|          | 0/1876 [00:00<?, ?it/s]"
      ]
     },
     "metadata": {},
     "output_type": "display_data"
    },
    {
     "data": {
      "application/vnd.jupyter.widget-view+json": {
       "model_id": "",
       "version_major": 2,
       "version_minor": 0
      },
      "text/plain": [
       "  0%|          | 0/1000 [00:00<?, ?it/s]"
      ]
     },
     "metadata": {},
     "output_type": "display_data"
    },
    {
     "data": {
      "application/vnd.jupyter.widget-view+json": {
       "model_id": "",
       "version_major": 2,
       "version_minor": 0
      },
      "text/plain": [
       "  0%|          | 0/1876 [00:00<?, ?it/s]"
      ]
     },
     "metadata": {},
     "output_type": "display_data"
    },
    {
     "data": {
      "application/vnd.jupyter.widget-view+json": {
       "model_id": "",
       "version_major": 2,
       "version_minor": 0
      },
      "text/plain": [
       "  0%|          | 0/1000 [00:00<?, ?it/s]"
      ]
     },
     "metadata": {},
     "output_type": "display_data"
    },
    {
     "data": {
      "application/vnd.jupyter.widget-view+json": {
       "model_id": "",
       "version_major": 2,
       "version_minor": 0
      },
      "text/plain": [
       "  0%|          | 0/1876 [00:00<?, ?it/s]"
      ]
     },
     "metadata": {},
     "output_type": "display_data"
    },
    {
     "data": {
      "application/vnd.jupyter.widget-view+json": {
       "model_id": "",
       "version_major": 2,
       "version_minor": 0
      },
      "text/plain": [
       "  0%|          | 0/1000 [00:00<?, ?it/s]"
      ]
     },
     "metadata": {},
     "output_type": "display_data"
    },
    {
     "data": {
      "application/vnd.jupyter.widget-view+json": {
       "model_id": "",
       "version_major": 2,
       "version_minor": 0
      },
      "text/plain": [
       "  0%|          | 0/1876 [00:00<?, ?it/s]"
      ]
     },
     "metadata": {},
     "output_type": "display_data"
    },
    {
     "data": {
      "application/vnd.jupyter.widget-view+json": {
       "model_id": "",
       "version_major": 2,
       "version_minor": 0
      },
      "text/plain": [
       "  0%|          | 0/1000 [00:00<?, ?it/s]"
      ]
     },
     "metadata": {},
     "output_type": "display_data"
    },
    {
     "data": {
      "application/vnd.jupyter.widget-view+json": {
       "model_id": "",
       "version_major": 2,
       "version_minor": 0
      },
      "text/plain": [
       "  0%|          | 0/1876 [00:00<?, ?it/s]"
      ]
     },
     "metadata": {},
     "output_type": "display_data"
    },
    {
     "data": {
      "application/vnd.jupyter.widget-view+json": {
       "model_id": "",
       "version_major": 2,
       "version_minor": 0
      },
      "text/plain": [
       "  0%|          | 0/1000 [00:00<?, ?it/s]"
      ]
     },
     "metadata": {},
     "output_type": "display_data"
    },
    {
     "data": {
      "text/html": [
       "<div>\n",
       "<style scoped>\n",
       "    .dataframe tbody tr th:only-of-type {\n",
       "        vertical-align: middle;\n",
       "    }\n",
       "\n",
       "    .dataframe tbody tr th {\n",
       "        vertical-align: top;\n",
       "    }\n",
       "\n",
       "    .dataframe thead th {\n",
       "        text-align: right;\n",
       "    }\n",
       "</style>\n",
       "<table border=\"1\" class=\"dataframe\">\n",
       "  <thead>\n",
       "    <tr style=\"text-align: right;\">\n",
       "      <th></th>\n",
       "      <th>i_epoch</th>\n",
       "      <th>train_loss</th>\n",
       "      <th>train_loss_SARC</th>\n",
       "      <th>train_loss_ShortHumor</th>\n",
       "      <th>train_acc</th>\n",
       "      <th>train_acc_SARC</th>\n",
       "      <th>train_acc_ShortHumor</th>\n",
       "      <th>val_loss</th>\n",
       "      <th>val_loss_SARC</th>\n",
       "      <th>val_loss_ShortHumor</th>\n",
       "      <th>val_acc</th>\n",
       "      <th>val_acc_SARC</th>\n",
       "      <th>val_acc_ShortHumor</th>\n",
       "    </tr>\n",
       "  </thead>\n",
       "  <tbody>\n",
       "    <tr>\n",
       "      <th>0</th>\n",
       "      <td>0.0</td>\n",
       "      <td>0.585565</td>\n",
       "      <td>0.537931</td>\n",
       "      <td>0.047634</td>\n",
       "      <td>0.863050</td>\n",
       "      <td>0.740000</td>\n",
       "      <td>0.986100</td>\n",
       "      <td>0.749543</td>\n",
       "      <td>0.606571</td>\n",
       "      <td>0.142972</td>\n",
       "      <td>0.681362</td>\n",
       "      <td>0.663733</td>\n",
       "      <td>0.948058</td>\n",
       "    </tr>\n",
       "    <tr>\n",
       "      <th>1</th>\n",
       "      <td>1.0</td>\n",
       "      <td>0.495469</td>\n",
       "      <td>0.482098</td>\n",
       "      <td>0.013371</td>\n",
       "      <td>0.892100</td>\n",
       "      <td>0.788033</td>\n",
       "      <td>0.996167</td>\n",
       "      <td>1.028772</td>\n",
       "      <td>0.851719</td>\n",
       "      <td>0.177053</td>\n",
       "      <td>0.652253</td>\n",
       "      <td>0.632433</td>\n",
       "      <td>0.952093</td>\n",
       "    </tr>\n",
       "    <tr>\n",
       "      <th>2</th>\n",
       "      <td>2.0</td>\n",
       "      <td>0.218864</td>\n",
       "      <td>0.214230</td>\n",
       "      <td>0.004634</td>\n",
       "      <td>0.957150</td>\n",
       "      <td>0.915867</td>\n",
       "      <td>0.998433</td>\n",
       "      <td>1.142322</td>\n",
       "      <td>0.965179</td>\n",
       "      <td>0.177143</td>\n",
       "      <td>0.671200</td>\n",
       "      <td>0.652167</td>\n",
       "      <td>0.959153</td>\n",
       "    </tr>\n",
       "    <tr>\n",
       "      <th>3</th>\n",
       "      <td>3.0</td>\n",
       "      <td>0.074475</td>\n",
       "      <td>0.073378</td>\n",
       "      <td>0.001097</td>\n",
       "      <td>0.988100</td>\n",
       "      <td>0.976500</td>\n",
       "      <td>0.999700</td>\n",
       "      <td>1.316744</td>\n",
       "      <td>1.108894</td>\n",
       "      <td>0.207850</td>\n",
       "      <td>0.687959</td>\n",
       "      <td>0.669867</td>\n",
       "      <td>0.961674</td>\n",
       "    </tr>\n",
       "    <tr>\n",
       "      <th>4</th>\n",
       "      <td>4.0</td>\n",
       "      <td>0.028884</td>\n",
       "      <td>0.028439</td>\n",
       "      <td>0.000444</td>\n",
       "      <td>0.995783</td>\n",
       "      <td>0.991633</td>\n",
       "      <td>0.999933</td>\n",
       "      <td>1.455237</td>\n",
       "      <td>1.253992</td>\n",
       "      <td>0.201244</td>\n",
       "      <td>0.696432</td>\n",
       "      <td>0.679133</td>\n",
       "      <td>0.958144</td>\n",
       "    </tr>\n",
       "  </tbody>\n",
       "</table>\n",
       "</div>"
      ],
      "text/plain": [
       "   i_epoch  train_loss  train_loss_SARC  train_loss_ShortHumor  train_acc  \\\n",
       "0      0.0    0.585565         0.537931               0.047634   0.863050   \n",
       "1      1.0    0.495469         0.482098               0.013371   0.892100   \n",
       "2      2.0    0.218864         0.214230               0.004634   0.957150   \n",
       "3      3.0    0.074475         0.073378               0.001097   0.988100   \n",
       "4      4.0    0.028884         0.028439               0.000444   0.995783   \n",
       "\n",
       "   train_acc_SARC  train_acc_ShortHumor  val_loss  val_loss_SARC  \\\n",
       "0        0.740000              0.986100  0.749543       0.606571   \n",
       "1        0.788033              0.996167  1.028772       0.851719   \n",
       "2        0.915867              0.998433  1.142322       0.965179   \n",
       "3        0.976500              0.999700  1.316744       1.108894   \n",
       "4        0.991633              0.999933  1.455237       1.253992   \n",
       "\n",
       "   val_loss_ShortHumor   val_acc  val_acc_SARC  val_acc_ShortHumor  \n",
       "0             0.142972  0.681362      0.663733            0.948058  \n",
       "1             0.177053  0.652253      0.632433            0.952093  \n",
       "2             0.177143  0.671200      0.652167            0.959153  \n",
       "3             0.207850  0.687959      0.669867            0.961674  \n",
       "4             0.201244  0.696432      0.679133            0.958144  "
      ]
     },
     "metadata": {},
     "output_type": "display_data"
    },
    {
     "data": {
      "application/vnd.jupyter.widget-view+json": {
       "model_id": "af6b45f1245f4b9b8292a21cbd743be2",
       "version_major": 2,
       "version_minor": 0
      },
      "text/plain": [
       "Iteration:   0%|          | 0/1000 [00:00<?, ?it/s]"
      ]
     },
     "metadata": {},
     "output_type": "display_data"
    },
    {
     "data": {
      "image/png": "[encoded data removed]",
      "text/plain": [
       "<Figure size 432x288 with 1 Axes>"
      ]
     },
     "metadata": {
      "needs_background": "light"
     },
     "output_type": "display_data"
    },
    {
     "data": {
      "image/png": "[encoded data removed]",
      "text/plain": [
       "<Figure size 432x288 with 1 Axes>"
      ]
     },
     "metadata": {
      "needs_background": "light"
     },
     "output_type": "display_data"
    }
   ],
   "source": [
    "selected_tasks = [\n",
    "#                   'PASTEL_country', # 33224\n",
    "                  'SARC', # 205645\n",
    "#                   'SarcasmGhosh', # 39780\n",
    "                  'ShortHumor', # 37801\n",
    "#                   'ShortJokeKaggle', # 406682\n",
    "#                   'ShortRomance', # 1902\n",
    "#                   'TroFi', # 3335\n",
    "#                   'VUA', # 15157\n",
    "                 ] \n",
    "training_args = TrainingArgs(selected_tasks=selected_tasks,\n",
    "                             base_model_name='bert-base-uncased',\n",
    "                             freeze_bert=False,\n",
    "                             use_pooler=True,\n",
    "                             num_epoch=5,\n",
    "                             data_limit=30000,\n",
    "                            )\n",
    "\n",
    "model = init_model(training_args)\n",
    "freeze_model(model, training_args.freeze_bert)\n",
    "df_evaluation, df_loss_per_step, model = train_model(model, training_args)\n",
    "\n",
    "eval_dataloader = MultiTaskTestDataLoader(training_args, split='dev')\n",
    "attn_entropy, head_importance, preds, labels = compute_heads_importance(model, eval_dataloader, training_args)\n",
    "\n",
    "imshow(attn_entropy)\n",
    "imshow(head_importance)\n"
   ]
  },
  {
   "cell_type": "markdown",
   "id": "f887c311",
   "metadata": {},
   "source": [
    "# unfreeze, without pooler, limit 30000"
   ]
  },
  {
   "cell_type": "code",
   "execution_count": null,
   "id": "beeb5b95",
   "metadata": {},
   "outputs": [
    {
     "name": "stderr",
     "output_type": "stream",
     "text": [
      "Some weights of the model checkpoint at bert-base-uncased were not used when initializing BertModel: ['cls.predictions.transform.dense.bias', 'cls.predictions.transform.dense.weight', 'cls.predictions.decoder.weight', 'cls.predictions.bias', 'cls.predictions.transform.LayerNorm.weight', 'cls.predictions.transform.LayerNorm.bias', 'cls.seq_relationship.weight', 'cls.seq_relationship.bias']\n",
      "- This IS expected if you are initializing BertModel from the checkpoint of a model trained on another task or with another architecture (e.g. initializing a BertForSequenceClassification model from a BertForPreTraining model).\n",
      "- This IS NOT expected if you are initializing BertModel from the checkpoint of a model that you expect to be exactly identical (initializing a BertForSequenceClassification model from a BertForSequenceClassification model).\n"
     ]
    },
    {
     "data": {
      "application/vnd.jupyter.widget-view+json": {
       "model_id": "c70b969255084781ba7e201fb0ce4227",
       "version_major": 2,
       "version_minor": 0
      },
      "text/plain": [
       "  0%|          | 0/9380 [00:00<?, ?it/s]"
      ]
     },
     "metadata": {},
     "output_type": "display_data"
    },
    {
     "data": {
      "application/vnd.jupyter.widget-view+json": {
       "model_id": "",
       "version_major": 2,
       "version_minor": 0
      },
      "text/plain": [
       "  0%|          | 0/1876 [00:00<?, ?it/s]"
      ]
     },
     "metadata": {},
     "output_type": "display_data"
    },
    {
     "data": {
      "application/vnd.jupyter.widget-view+json": {
       "model_id": "",
       "version_major": 2,
       "version_minor": 0
      },
      "text/plain": [
       "  0%|          | 0/1000 [00:00<?, ?it/s]"
      ]
     },
     "metadata": {},
     "output_type": "display_data"
    },
    {
     "data": {
      "application/vnd.jupyter.widget-view+json": {
       "model_id": "",
       "version_major": 2,
       "version_minor": 0
      },
      "text/plain": [
       "  0%|          | 0/1876 [00:00<?, ?it/s]"
      ]
     },
     "metadata": {},
     "output_type": "display_data"
    },
    {
     "data": {
      "application/vnd.jupyter.widget-view+json": {
       "model_id": "",
       "version_major": 2,
       "version_minor": 0
      },
      "text/plain": [
       "  0%|          | 0/1000 [00:00<?, ?it/s]"
      ]
     },
     "metadata": {},
     "output_type": "display_data"
    },
    {
     "data": {
      "application/vnd.jupyter.widget-view+json": {
       "model_id": "",
       "version_major": 2,
       "version_minor": 0
      },
      "text/plain": [
       "  0%|          | 0/1876 [00:00<?, ?it/s]"
      ]
     },
     "metadata": {},
     "output_type": "display_data"
    },
    {
     "data": {
      "application/vnd.jupyter.widget-view+json": {
       "model_id": "",
       "version_major": 2,
       "version_minor": 0
      },
      "text/plain": [
       "  0%|          | 0/1000 [00:00<?, ?it/s]"
      ]
     },
     "metadata": {},
     "output_type": "display_data"
    },
    {
     "data": {
      "application/vnd.jupyter.widget-view+json": {
       "model_id": "",
       "version_major": 2,
       "version_minor": 0
      },
      "text/plain": [
       "  0%|          | 0/1876 [00:00<?, ?it/s]"
      ]
     },
     "metadata": {},
     "output_type": "display_data"
    },
    {
     "data": {
      "application/vnd.jupyter.widget-view+json": {
       "model_id": "",
       "version_major": 2,
       "version_minor": 0
      },
      "text/plain": [
       "  0%|          | 0/1000 [00:00<?, ?it/s]"
      ]
     },
     "metadata": {},
     "output_type": "display_data"
    },
    {
     "data": {
      "application/vnd.jupyter.widget-view+json": {
       "model_id": "",
       "version_major": 2,
       "version_minor": 0
      },
      "text/plain": [
       "  0%|          | 0/1876 [00:00<?, ?it/s]"
      ]
     },
     "metadata": {},
     "output_type": "display_data"
    },
    {
     "data": {
      "application/vnd.jupyter.widget-view+json": {
       "model_id": "",
       "version_major": 2,
       "version_minor": 0
      },
      "text/plain": [
       "  0%|          | 0/1000 [00:00<?, ?it/s]"
      ]
     },
     "metadata": {},
     "output_type": "display_data"
    },
    {
     "data": {
      "text/html": [
       "<div>\n",
       "<style scoped>\n",
       "    .dataframe tbody tr th:only-of-type {\n",
       "        vertical-align: middle;\n",
       "    }\n",
       "\n",
       "    .dataframe tbody tr th {\n",
       "        vertical-align: top;\n",
       "    }\n",
       "\n",
       "    .dataframe thead th {\n",
       "        text-align: right;\n",
       "    }\n",
       "</style>\n",
       "<table border=\"1\" class=\"dataframe\">\n",
       "  <thead>\n",
       "    <tr style=\"text-align: right;\">\n",
       "      <th></th>\n",
       "      <th>i_epoch</th>\n",
       "      <th>train_loss</th>\n",
       "      <th>train_loss_SARC</th>\n",
       "      <th>train_loss_ShortHumor</th>\n",
       "      <th>train_acc</th>\n",
       "      <th>train_acc_SARC</th>\n",
       "      <th>train_acc_ShortHumor</th>\n",
       "      <th>val_loss</th>\n",
       "      <th>val_loss_SARC</th>\n",
       "      <th>val_loss_ShortHumor</th>\n",
       "      <th>val_acc</th>\n",
       "      <th>val_acc_SARC</th>\n",
       "      <th>val_acc_ShortHumor</th>\n",
       "    </tr>\n",
       "  </thead>\n",
       "  <tbody>\n",
       "    <tr>\n",
       "      <th>0</th>\n",
       "      <td>0.0</td>\n",
       "      <td>0.521765</td>\n",
       "      <td>0.474408</td>\n",
       "      <td>0.047356</td>\n",
       "      <td>0.885267</td>\n",
       "      <td>0.782733</td>\n",
       "      <td>0.987800</td>\n",
       "      <td>0.716502</td>\n",
       "      <td>0.581705</td>\n",
       "      <td>0.134797</td>\n",
       "      <td>0.709815</td>\n",
       "      <td>0.694200</td>\n",
       "      <td>0.946041</td>\n",
       "    </tr>\n",
       "    <tr>\n",
       "      <th>1</th>\n",
       "      <td>1.0</td>\n",
       "      <td>0.284448</td>\n",
       "      <td>0.275808</td>\n",
       "      <td>0.008640</td>\n",
       "      <td>0.946917</td>\n",
       "      <td>0.896300</td>\n",
       "      <td>0.997533</td>\n",
       "      <td>0.793078</td>\n",
       "      <td>0.654193</td>\n",
       "      <td>0.138885</td>\n",
       "      <td>0.700935</td>\n",
       "      <td>0.683933</td>\n",
       "      <td>0.958144</td>\n",
       "    </tr>\n",
       "    <tr>\n",
       "      <th>2</th>\n",
       "      <td>2.0</td>\n",
       "      <td>0.185385</td>\n",
       "      <td>0.178247</td>\n",
       "      <td>0.007138</td>\n",
       "      <td>0.963133</td>\n",
       "      <td>0.928367</td>\n",
       "      <td>0.997900</td>\n",
       "      <td>1.368234</td>\n",
       "      <td>1.146125</td>\n",
       "      <td>0.222109</td>\n",
       "      <td>0.666323</td>\n",
       "      <td>0.647667</td>\n",
       "      <td>0.948563</td>\n",
       "    </tr>\n",
       "    <tr>\n",
       "      <th>3</th>\n",
       "      <td>3.0</td>\n",
       "      <td>0.058270</td>\n",
       "      <td>0.057153</td>\n",
       "      <td>0.001117</td>\n",
       "      <td>0.989967</td>\n",
       "      <td>0.980133</td>\n",
       "      <td>0.999800</td>\n",
       "      <td>1.521820</td>\n",
       "      <td>1.329631</td>\n",
       "      <td>0.192189</td>\n",
       "      <td>0.678485</td>\n",
       "      <td>0.660167</td>\n",
       "      <td>0.955623</td>\n",
       "    </tr>\n",
       "    <tr>\n",
       "      <th>4</th>\n",
       "      <td>4.0</td>\n",
       "      <td>0.017020</td>\n",
       "      <td>0.016548</td>\n",
       "      <td>0.000472</td>\n",
       "      <td>0.997567</td>\n",
       "      <td>0.995167</td>\n",
       "      <td>0.999967</td>\n",
       "      <td>1.520382</td>\n",
       "      <td>1.330641</td>\n",
       "      <td>0.189741</td>\n",
       "      <td>0.701216</td>\n",
       "      <td>0.684100</td>\n",
       "      <td>0.960161</td>\n",
       "    </tr>\n",
       "  </tbody>\n",
       "</table>\n",
       "</div>"
      ],
      "text/plain": [
       "   i_epoch  train_loss  train_loss_SARC  train_loss_ShortHumor  train_acc  \\\n",
       "0      0.0    0.521765         0.474408               0.047356   0.885267   \n",
       "1      1.0    0.284448         0.275808               0.008640   0.946917   \n",
       "2      2.0    0.185385         0.178247               0.007138   0.963133   \n",
       "3      3.0    0.058270         0.057153               0.001117   0.989967   \n",
       "4      4.0    0.017020         0.016548               0.000472   0.997567   \n",
       "\n",
       "   train_acc_SARC  train_acc_ShortHumor  val_loss  val_loss_SARC  \\\n",
       "0        0.782733              0.987800  0.716502       0.581705   \n",
       "1        0.896300              0.997533  0.793078       0.654193   \n",
       "2        0.928367              0.997900  1.368234       1.146125   \n",
       "3        0.980133              0.999800  1.521820       1.329631   \n",
       "4        0.995167              0.999967  1.520382       1.330641   \n",
       "\n",
       "   val_loss_ShortHumor   val_acc  val_acc_SARC  val_acc_ShortHumor  \n",
       "0             0.134797  0.709815      0.694200            0.946041  \n",
       "1             0.138885  0.700935      0.683933            0.958144  \n",
       "2             0.222109  0.666323      0.647667            0.948563  \n",
       "3             0.192189  0.678485      0.660167            0.955623  \n",
       "4             0.189741  0.701216      0.684100            0.960161  "
      ]
     },
     "metadata": {},
     "output_type": "display_data"
    },
    {
     "data": {
      "application/vnd.jupyter.widget-view+json": {
       "model_id": "371b329afb114b4fa38afa31ba567a9d",
       "version_major": 2,
       "version_minor": 0
      },
      "text/plain": [
       "Iteration:   0%|          | 0/1000 [00:00<?, ?it/s]"
      ]
     },
     "metadata": {},
     "output_type": "display_data"
    },
    {
     "data": {
      "image/png": "[encoded data removed]",
      "text/plain": [
       "<Figure size 432x288 with 1 Axes>"
      ]
     },
     "metadata": {
      "needs_background": "light"
     },
     "output_type": "display_data"
    },
    {
     "data": {
      "image/png": "[encoded data removed]",
      "text/plain": [
       "<Figure size 432x288 with 1 Axes>"
      ]
     },
     "metadata": {
      "needs_background": "light"
     },
     "output_type": "display_data"
    }
   ],
   "source": [
    "selected_tasks = [\n",
    "#                   'PASTEL_country', # 33224\n",
    "                  'SARC', # 205645\n",
    "#                   'SarcasmGhosh', # 39780\n",
    "                  'ShortHumor', # 37801\n",
    "#                   'ShortJokeKaggle', # 406682\n",
    "#                   'ShortRomance', # 1902\n",
    "#                   'TroFi', # 3335\n",
    "#                   'VUA', # 15157\n",
    "                 ] \n",
    "training_args = TrainingArgs(selected_tasks=selected_tasks,\n",
    "                             base_model_name='bert-base-uncased',\n",
    "                             freeze_bert=False,\n",
    "                             use_pooler=False,\n",
    "                             num_epoch=5,\n",
    "                             data_limit=30000,\n",
    "                            )\n",
    "\n",
    "model = init_model(training_args)\n",
    "freeze_model(model, training_args.freeze_bert)\n",
    "df_evaluation, df_loss_per_step, model = train_model(model, training_args)\n",
    "\n",
    "eval_dataloader = MultiTaskTestDataLoader(training_args, split='dev')\n",
    "attn_entropy, head_importance, preds, labels = compute_heads_importance(model, eval_dataloader, training_args)\n",
    "\n",
    "imshow(attn_entropy)\n",
    "imshow(head_importance)\n"
   ]
  },
  {
   "cell_type": "markdown",
   "id": "97ffe016",
   "metadata": {},
   "source": [
    "# freeze 6, without pooler, limit 30000"
   ]
  },
  {
   "cell_type": "code",
   "execution_count": null,
   "id": "cbd37faf",
   "metadata": {},
   "outputs": [
    {
     "name": "stderr",
     "output_type": "stream",
     "text": [
      "Some weights of the model checkpoint at bert-base-uncased were not used when initializing BertModel: ['cls.predictions.transform.dense.bias', 'cls.predictions.transform.dense.weight', 'cls.predictions.decoder.weight', 'cls.predictions.bias', 'cls.predictions.transform.LayerNorm.weight', 'cls.predictions.transform.LayerNorm.bias', 'cls.seq_relationship.weight', 'cls.seq_relationship.bias']\n",
      "- This IS expected if you are initializing BertModel from the checkpoint of a model trained on another task or with another architecture (e.g. initializing a BertForSequenceClassification model from a BertForPreTraining model).\n",
      "- This IS NOT expected if you are initializing BertModel from the checkpoint of a model that you expect to be exactly identical (initializing a BertForSequenceClassification model from a BertForSequenceClassification model).\n"
     ]
    },
    {
     "data": {
      "application/vnd.jupyter.widget-view+json": {
       "model_id": "cbc58e54744f4789b64363c083d4ca4e",
       "version_major": 2,
       "version_minor": 0
      },
      "text/plain": [
       "  0%|          | 0/9380 [00:00<?, ?it/s]"
      ]
     },
     "metadata": {},
     "output_type": "display_data"
    },
    {
     "data": {
      "application/vnd.jupyter.widget-view+json": {
       "model_id": "",
       "version_major": 2,
       "version_minor": 0
      },
      "text/plain": [
       "  0%|          | 0/1876 [00:00<?, ?it/s]"
      ]
     },
     "metadata": {},
     "output_type": "display_data"
    },
    {
     "data": {
      "application/vnd.jupyter.widget-view+json": {
       "model_id": "",
       "version_major": 2,
       "version_minor": 0
      },
      "text/plain": [
       "  0%|          | 0/1000 [00:00<?, ?it/s]"
      ]
     },
     "metadata": {},
     "output_type": "display_data"
    },
    {
     "data": {
      "application/vnd.jupyter.widget-view+json": {
       "model_id": "",
       "version_major": 2,
       "version_minor": 0
      },
      "text/plain": [
       "  0%|          | 0/1876 [00:00<?, ?it/s]"
      ]
     },
     "metadata": {},
     "output_type": "display_data"
    },
    {
     "data": {
      "application/vnd.jupyter.widget-view+json": {
       "model_id": "",
       "version_major": 2,
       "version_minor": 0
      },
      "text/plain": [
       "  0%|          | 0/1000 [00:00<?, ?it/s]"
      ]
     },
     "metadata": {},
     "output_type": "display_data"
    },
    {
     "data": {
      "application/vnd.jupyter.widget-view+json": {
       "model_id": "",
       "version_major": 2,
       "version_minor": 0
      },
      "text/plain": [
       "  0%|          | 0/1876 [00:00<?, ?it/s]"
      ]
     },
     "metadata": {},
     "output_type": "display_data"
    },
    {
     "data": {
      "application/vnd.jupyter.widget-view+json": {
       "model_id": "",
       "version_major": 2,
       "version_minor": 0
      },
      "text/plain": [
       "  0%|          | 0/1000 [00:00<?, ?it/s]"
      ]
     },
     "metadata": {},
     "output_type": "display_data"
    },
    {
     "data": {
      "application/vnd.jupyter.widget-view+json": {
       "model_id": "",
       "version_major": 2,
       "version_minor": 0
      },
      "text/plain": [
       "  0%|          | 0/1876 [00:00<?, ?it/s]"
      ]
     },
     "metadata": {},
     "output_type": "display_data"
    },
    {
     "data": {
      "application/vnd.jupyter.widget-view+json": {
       "model_id": "",
       "version_major": 2,
       "version_minor": 0
      },
      "text/plain": [
       "  0%|          | 0/1000 [00:00<?, ?it/s]"
      ]
     },
     "metadata": {},
     "output_type": "display_data"
    },
    {
     "data": {
      "application/vnd.jupyter.widget-view+json": {
       "model_id": "",
       "version_major": 2,
       "version_minor": 0
      },
      "text/plain": [
       "  0%|          | 0/1876 [00:00<?, ?it/s]"
      ]
     },
     "metadata": {},
     "output_type": "display_data"
    },
    {
     "data": {
      "application/vnd.jupyter.widget-view+json": {
       "model_id": "",
       "version_major": 2,
       "version_minor": 0
      },
      "text/plain": [
       "  0%|          | 0/1000 [00:00<?, ?it/s]"
      ]
     },
     "metadata": {},
     "output_type": "display_data"
    },
    {
     "data": {
      "text/html": [
       "<div>\n",
       "<style scoped>\n",
       "    .dataframe tbody tr th:only-of-type {\n",
       "        vertical-align: middle;\n",
       "    }\n",
       "\n",
       "    .dataframe tbody tr th {\n",
       "        vertical-align: top;\n",
       "    }\n",
       "\n",
       "    .dataframe thead th {\n",
       "        text-align: right;\n",
       "    }\n",
       "</style>\n",
       "<table border=\"1\" class=\"dataframe\">\n",
       "  <thead>\n",
       "    <tr style=\"text-align: right;\">\n",
       "      <th></th>\n",
       "      <th>i_epoch</th>\n",
       "      <th>train_loss</th>\n",
       "      <th>train_loss_SARC</th>\n",
       "      <th>train_loss_ShortHumor</th>\n",
       "      <th>train_acc</th>\n",
       "      <th>train_acc_SARC</th>\n",
       "      <th>train_acc_ShortHumor</th>\n",
       "      <th>val_loss</th>\n",
       "      <th>val_loss_SARC</th>\n",
       "      <th>val_loss_ShortHumor</th>\n",
       "      <th>val_acc</th>\n",
       "      <th>val_acc_SARC</th>\n",
       "      <th>val_acc_ShortHumor</th>\n",
       "    </tr>\n",
       "  </thead>\n",
       "  <tbody>\n",
       "    <tr>\n",
       "      <th>0</th>\n",
       "      <td>0.0</td>\n",
       "      <td>0.562430</td>\n",
       "      <td>0.506279</td>\n",
       "      <td>0.056151</td>\n",
       "      <td>0.875867</td>\n",
       "      <td>0.767100</td>\n",
       "      <td>0.984633</td>\n",
       "      <td>0.727885</td>\n",
       "      <td>0.586557</td>\n",
       "      <td>0.141329</td>\n",
       "      <td>0.699841</td>\n",
       "      <td>0.683667</td>\n",
       "      <td>0.944529</td>\n",
       "    </tr>\n",
       "    <tr>\n",
       "      <th>1</th>\n",
       "      <td>1.0</td>\n",
       "      <td>0.360403</td>\n",
       "      <td>0.346138</td>\n",
       "      <td>0.014265</td>\n",
       "      <td>0.923267</td>\n",
       "      <td>0.851233</td>\n",
       "      <td>0.995300</td>\n",
       "      <td>0.836634</td>\n",
       "      <td>0.637814</td>\n",
       "      <td>0.198820</td>\n",
       "      <td>0.705218</td>\n",
       "      <td>0.689300</td>\n",
       "      <td>0.946041</td>\n",
       "    </tr>\n",
       "    <tr>\n",
       "      <th>2</th>\n",
       "      <td>2.0</td>\n",
       "      <td>0.195055</td>\n",
       "      <td>0.191138</td>\n",
       "      <td>0.003918</td>\n",
       "      <td>0.963600</td>\n",
       "      <td>0.928267</td>\n",
       "      <td>0.998933</td>\n",
       "      <td>1.003808</td>\n",
       "      <td>0.812032</td>\n",
       "      <td>0.191776</td>\n",
       "      <td>0.687459</td>\n",
       "      <td>0.670033</td>\n",
       "      <td>0.951084</td>\n",
       "    </tr>\n",
       "    <tr>\n",
       "      <th>3</th>\n",
       "      <td>3.0</td>\n",
       "      <td>0.078533</td>\n",
       "      <td>0.077616</td>\n",
       "      <td>0.000916</td>\n",
       "      <td>0.987450</td>\n",
       "      <td>0.975000</td>\n",
       "      <td>0.999900</td>\n",
       "      <td>1.169520</td>\n",
       "      <td>0.986937</td>\n",
       "      <td>0.182582</td>\n",
       "      <td>0.695182</td>\n",
       "      <td>0.677733</td>\n",
       "      <td>0.959153</td>\n",
       "    </tr>\n",
       "    <tr>\n",
       "      <th>4</th>\n",
       "      <td>4.0</td>\n",
       "      <td>0.036286</td>\n",
       "      <td>0.035676</td>\n",
       "      <td>0.000610</td>\n",
       "      <td>0.994983</td>\n",
       "      <td>0.990000</td>\n",
       "      <td>0.999967</td>\n",
       "      <td>1.343575</td>\n",
       "      <td>1.151132</td>\n",
       "      <td>0.192443</td>\n",
       "      <td>0.701216</td>\n",
       "      <td>0.684400</td>\n",
       "      <td>0.955623</td>\n",
       "    </tr>\n",
       "  </tbody>\n",
       "</table>\n",
       "</div>"
      ],
      "text/plain": [
       "   i_epoch  train_loss  train_loss_SARC  train_loss_ShortHumor  train_acc  \\\n",
       "0      0.0    0.562430         0.506279               0.056151   0.875867   \n",
       "1      1.0    0.360403         0.346138               0.014265   0.923267   \n",
       "2      2.0    0.195055         0.191138               0.003918   0.963600   \n",
       "3      3.0    0.078533         0.077616               0.000916   0.987450   \n",
       "4      4.0    0.036286         0.035676               0.000610   0.994983   \n",
       "\n",
       "   train_acc_SARC  train_acc_ShortHumor  val_loss  val_loss_SARC  \\\n",
       "0        0.767100              0.984633  0.727885       0.586557   \n",
       "1        0.851233              0.995300  0.836634       0.637814   \n",
       "2        0.928267              0.998933  1.003808       0.812032   \n",
       "3        0.975000              0.999900  1.169520       0.986937   \n",
       "4        0.990000              0.999967  1.343575       1.151132   \n",
       "\n",
       "   val_loss_ShortHumor   val_acc  val_acc_SARC  val_acc_ShortHumor  \n",
       "0             0.141329  0.699841      0.683667            0.944529  \n",
       "1             0.198820  0.705218      0.689300            0.946041  \n",
       "2             0.191776  0.687459      0.670033            0.951084  \n",
       "3             0.182582  0.695182      0.677733            0.959153  \n",
       "4             0.192443  0.701216      0.684400            0.955623  "
      ]
     },
     "metadata": {},
     "output_type": "display_data"
    },
    {
     "data": {
      "application/vnd.jupyter.widget-view+json": {
       "model_id": "bfb28fa9f6204748a08c8e4e16311389",
       "version_major": 2,
       "version_minor": 0
      },
      "text/plain": [
       "Iteration:   0%|          | 0/1000 [00:00<?, ?it/s]"
      ]
     },
     "metadata": {},
     "output_type": "display_data"
    },
    {
     "data": {
      "image/png": "[encoded data removed]",
      "text/plain": [
       "<Figure size 432x288 with 1 Axes>"
      ]
     },
     "metadata": {
      "needs_background": "light"
     },
     "output_type": "display_data"
    },
    {
     "data": {
      "image/png": "[encoded data removed]",
      "text/plain": [
       "<Figure size 432x288 with 1 Axes>"
      ]
     },
     "metadata": {
      "needs_background": "light"
     },
     "output_type": "display_data"
    }
   ],
   "source": [
    "selected_tasks = [\n",
    "#                   'PASTEL_country', # 33224\n",
    "                  'SARC', # 205645\n",
    "#                   'SarcasmGhosh', # 39780\n",
    "                  'ShortHumor', # 37801\n",
    "#                   'ShortJokeKaggle', # 406682\n",
    "#                   'ShortRomance', # 1902\n",
    "#                   'TroFi', # 3335\n",
    "#                   'VUA', # 15157\n",
    "                 ] \n",
    "training_args = TrainingArgs(selected_tasks=selected_tasks,\n",
    "                             base_model_name='bert-base-uncased',\n",
    "                             freeze_bert=6,\n",
    "                             use_pooler=False,\n",
    "                             num_epoch=5,\n",
    "                             data_limit=30000,\n",
    "                            )\n",
    "\n",
    "model = init_model(training_args)\n",
    "freeze_model(model, training_args.freeze_bert)\n",
    "df_evaluation, df_loss_per_step, model = train_model(model, training_args)\n",
    "\n",
    "eval_dataloader = MultiTaskTestDataLoader(training_args, split='dev')\n",
    "attn_entropy, head_importance, preds, labels = compute_heads_importance(model, eval_dataloader, training_args)\n",
    "\n",
    "imshow(attn_entropy)\n",
    "imshow(head_importance)\n"
   ]
  }
 ],
 "metadata": {
  "kernelspec": {
   "display_name": "Python 3 (ipykernel)",
   "language": "python",
   "name": "python3"
  }
 },
 "nbformat": 4,
 "nbformat_minor": 5
}
