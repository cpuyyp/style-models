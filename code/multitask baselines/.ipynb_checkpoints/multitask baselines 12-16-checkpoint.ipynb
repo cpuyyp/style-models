{
 "cells": [
  {
   "cell_type": "markdown",
   "id": "f5f8ce9b",
   "metadata": {
    "toc": true
   },
   "source": [
    "<h1>Table of Contents<span class=\"tocSkip\"></span></h1>\n",
    "<div class=\"toc\"><ul class=\"toc-item\"><li><span><a href=\"#imports-and-functions\" data-toc-modified-id=\"imports-and-functions-1\"><span class=\"toc-item-num\">1&nbsp;&nbsp;</span>imports and functions</a></span></li><li><span><a href=\"#experiments\" data-toc-modified-id=\"experiments-2\"><span class=\"toc-item-num\">2&nbsp;&nbsp;</span>experiments</a></span><ul class=\"toc-item\"><li><span><a href=\"#0\" data-toc-modified-id=\"0-2.1\"><span class=\"toc-item-num\">2.1&nbsp;&nbsp;</span>0</a></span></li><li><span><a href=\"#1\" data-toc-modified-id=\"1-2.2\"><span class=\"toc-item-num\">2.2&nbsp;&nbsp;</span>1</a></span></li><li><span><a href=\"#2\" data-toc-modified-id=\"2-2.3\"><span class=\"toc-item-num\">2.3&nbsp;&nbsp;</span>2</a></span></li></ul></li></ul></div>"
   ]
  },
  {
   "cell_type": "markdown",
   "id": "ffabe0a0",
   "metadata": {},
   "source": [
    "# imports and functions"
   ]
  },
  {
   "cell_type": "code",
   "execution_count": null,
   "id": "901c5aa7",
   "metadata": {},
   "outputs": [],
   "source": [
    "import collections\n",
    "import pandas as pd\n",
    "import os\n",
    "import sys\n",
    "import json\n",
    "import matplotlib.pyplot as plt\n",
    "from tqdm.auto import tqdm, trange\n",
    "\n",
    "import numpy as np\n",
    "import torch\n",
    "import torch.nn as nn\n",
    "import torch.nn.functional as F\n",
    "from torch.utils.data import Dataset, DataLoader\n",
    "from torch import optim\n",
    "from torch.optim import lr_scheduler\n",
    "# import torchmetrics\n",
    "\n",
    "import datasets\n",
    "from datasets import load_metric\n",
    "from transformers import AutoConfig, AutoTokenizer, BertModel, RobertaModel\n",
    "from transformers import BertForSequenceClassification\n",
    "from transformers import TrainingArguments, Trainer\n",
    "\n",
    "from sklearn.metrics import mean_squared_error, accuracy_score, precision_recall_fscore_support\n"
   ]
  },
  {
   "cell_type": "code",
   "execution_count": null,
   "id": "1f77a72f",
   "metadata": {},
   "outputs": [],
   "source": [
    "# https://github.com/huggingface/transformers/issues/5486\n",
    "# os.environ[\"TOKENIZERS_PARALLELISM\"] = \"false\"\n",
    "os.environ[\"TOKENIZERS_PARALLELISM\"] = \"true\""
   ]
  },
  {
   "cell_type": "code",
   "execution_count": null,
   "id": "5336c72c",
   "metadata": {},
   "outputs": [],
   "source": [
    "device = torch.device(\"cuda\" if torch.cuda.is_available() else \"cpu\")\n",
    "device"
   ]
  },
  {
   "cell_type": "code",
   "execution_count": null,
   "id": "fa7cb7f0",
   "metadata": {},
   "outputs": [],
   "source": [
    "with open('../data/xslue/tasks.json', 'r') as f:\n",
    "    tasks = json.load(f)\n",
    "tasks"
   ]
  },
  {
   "cell_type": "code",
   "execution_count": null,
   "id": "2f9092e3",
   "metadata": {},
   "outputs": [],
   "source": [
    "class MyDataset(Dataset): \n",
    "    # currently it's a Mapping-style dataset. Not sure if a Iterable-style dataset will be better\n",
    "    def __init__(self, tsv_file):\n",
    "        self.tokenizer = AutoTokenizer.from_pretrained(\"bert-base-uncased\")\n",
    "        self.df = pd.read_csv(tsv_file, sep='\\t')\n",
    "        self.df = self.df.dropna()\n",
    "        self.df = self.df.reset_index(drop=True)\n",
    "        self.encodings = self.tokenizer(self.df['text'].tolist(), truncation=True, padding=True, max_length=128)\n",
    "        if self.df['label'].dtype == 'float64':\n",
    "            self.df['label'] = self.df['label'].astype('float32')\n",
    "        self.labels = self.df['label'].tolist()\n",
    "    def __len__(self):\n",
    "        return len(self.df)\n",
    "\n",
    "    def __getitem__(self, idx):\n",
    "        if torch.is_tensor(idx):\n",
    "            idx = idx.tolist()\n",
    "        item = {k: torch.tensor(v[idx]) for k, v in self.encodings.items()}\n",
    "        item[\"labels\"] = torch.tensor([self.labels[idx]])\n",
    "        return item\n"
   ]
  },
  {
   "cell_type": "code",
   "execution_count": null,
   "id": "a7ec8dc4",
   "metadata": {},
   "outputs": [],
   "source": [
    "pearsonr = load_metric(\"pearsonr\")\n",
    "spearmanr = load_metric(\"spearmanr\")"
   ]
  },
  {
   "cell_type": "code",
   "execution_count": null,
   "id": "c57e779d",
   "metadata": {},
   "outputs": [],
   "source": [
    "# GPU memory usage: 6617 - 6680mb with bs 32\n",
    "# bs 64 gives OOM\n",
    "# bs 48 GPU memory 7894\n",
    "batch_size = 32"
   ]
  },
  {
   "cell_type": "code",
   "execution_count": null,
   "id": "44297cb3",
   "metadata": {},
   "outputs": [],
   "source": [
    "def train_baseline(task, freeze_bert=False):\n",
    "    torch.cuda.empty_cache()\n",
    "    model = None\n",
    "    trainer = None \n",
    "    num_labels = tasks[task]\n",
    "    \n",
    "    data_folder = '../../data/xslue'\n",
    "    train_dataset = MyDataset(f'{data_folder}/processed/train/{task}.tsv')\n",
    "    test_dataset = MyDataset(f'{data_folder}/processed/test/{task}.tsv')\n",
    "    valid_dataset = MyDataset(f'{data_folder}/processed/dev/{task}.tsv')\n",
    "    \n",
    "    singletaskbert = BertForSequenceClassification.from_pretrained(\"bert-base-uncased\", num_labels=num_labels) \n",
    "    if freeze_bert:\n",
    "        for param in singletaskbert.bert.parameters():\n",
    "            param.requires_grad = False\n",
    "    result_folder = '../../result'\n",
    "    training_args = TrainingArguments(\n",
    "        output_dir=f'{result_folder}/baselines/{task+'_freezed' if freeze_bert else task}',   # output directory\n",
    "        num_train_epochs=5,              # total number of training epochs\n",
    "        per_device_train_batch_size=batch_size,  # batch size per device during training\n",
    "        per_device_eval_batch_size=batch_size,   # batch size for evaluation\n",
    "        warmup_steps=500,                # number of warmup steps for learning rate scheduler\n",
    "        weight_decay=0.01,               # strength of weight decay\n",
    "        logging_dir=f'{result_folder}/baselines/{task+'_freezed' if freeze_bert else task}/logs',  # directory for storing logs\n",
    "#         logging_first_step = True, \n",
    "#         logging_steps=500,               # log & save weights each logging_steps\n",
    "#         save_steps=500,\n",
    "        evaluation_strategy=\"epoch\",     # evaluate each `logging_steps`\n",
    "        save_total_limit = 1,\n",
    "        save_strategy = 'epoch',\n",
    "        load_best_model_at_end=True, # decide on loss\n",
    "    )\n",
    "    \n",
    "    if num_labels == 1:\n",
    "        def compute_metrics(pred):\n",
    "            predictions, labels = pred\n",
    "            rmse = mean_squared_error(labels, predictions, squared=False)\n",
    "            return {\"rmse\": rmse}\n",
    "    elif num_labels == 2:\n",
    "        def compute_metrics(pred):\n",
    "            labels = pred.label_ids\n",
    "            preds = pred.predictions.argmax(-1)\n",
    "            precision, recall, f1, _ = precision_recall_fscore_support(labels, preds, average='binary')\n",
    "            acc = accuracy_score(labels, preds)\n",
    "            return {\n",
    "                'accuracy': acc,\n",
    "                'f1': f1,\n",
    "                'precision': precision,\n",
    "                'recall': recall\n",
    "            }\n",
    "    else:\n",
    "        def compute_metrics(pred):\n",
    "            labels = pred.label_ids\n",
    "            preds = pred.predictions.argmax(-1)\n",
    "            precision, recall, f1, _ = precision_recall_fscore_support(labels, preds, average='macro')\n",
    "            acc = accuracy_score(labels, preds)\n",
    "            return {\n",
    "                'accuracy': acc,\n",
    "                'f1': f1,\n",
    "                'precision': precision,\n",
    "                'recall': recall\n",
    "            }\n",
    "    \n",
    "    trainer = Trainer(\n",
    "        model=singletaskbert,   # the instantiated Transformers model to be trained\n",
    "        args=training_args,                  # training arguments, defined above\n",
    "        train_dataset=train_dataset,         # training dataset\n",
    "        eval_dataset=valid_dataset,          # evaluation dataset\n",
    "#         test_dataset=test_dataset,            # test dataset\n",
    "        compute_metrics=compute_metrics,     # the callback that computes metrics of interest\n",
    "    )\n",
    "    trainer.train()"
   ]
  },
  {
   "cell_type": "markdown",
   "id": "eff2f130",
   "metadata": {},
   "source": [
    "# experiments"
   ]
  },
  {
   "cell_type": "markdown",
   "id": "fc7c2d20",
   "metadata": {},
   "source": [
    "## 0"
   ]
  },
  {
   "cell_type": "code",
   "execution_count": null,
   "id": "6156b973",
   "metadata": {},
   "outputs": [],
   "source": [
    "task = list(tasks.keys())[7]\n",
    "train_baseline(task)"
   ]
  },
  {
   "cell_type": "code",
   "execution_count": null,
   "id": "6e9a7f94",
   "metadata": {},
   "outputs": [],
   "source": [
    "task = list(tasks.keys())[7]\n",
    "train_baseline(task, freeze_bert=True)"
   ]
  },
  {
   "cell_type": "markdown",
   "id": "a8c6bc29",
   "metadata": {},
   "source": [
    "## 1"
   ]
  },
  {
   "cell_type": "code",
   "execution_count": null,
   "id": "d866dfb8",
   "metadata": {},
   "outputs": [],
   "source": [
    "task = list(tasks.keys())[7]\n",
    "train_baseline(task)"
   ]
  },
  {
   "cell_type": "code",
   "execution_count": null,
   "id": "c5114190",
   "metadata": {},
   "outputs": [],
   "source": [
    "task = list(tasks.keys())[7]\n",
    "train_baseline(task, freeze_bert=True)"
   ]
  },
  {
   "cell_type": "markdown",
   "id": "0c991520",
   "metadata": {},
   "source": [
    "## 2"
   ]
  },
  {
   "cell_type": "code",
   "execution_count": null,
   "id": "625a4d6a",
   "metadata": {},
   "outputs": [],
   "source": [
    "task = list(tasks.keys())[7]\n",
    "train_baseline(task)"
   ]
  },
  {
   "cell_type": "code",
   "execution_count": null,
   "id": "44dc3523",
   "metadata": {},
   "outputs": [],
   "source": [
    "task = list(tasks.keys())[7]\n",
    "train_baseline(task, freeze_bert=True)"
   ]
  },
  {
   "cell_type": "code",
   "execution_count": null,
   "id": "95047cf1",
   "metadata": {},
   "outputs": [],
   "source": []
  }
 ],
 "metadata": {
  "kernelspec": {
   "display_name": "Python 3 (ipykernel)",
   "language": "python",
   "name": "python3"
  },
  "language_info": {
   "codemirror_mode": {
    "name": "ipython",
    "version": 3
   },
   "file_extension": ".py",
   "mimetype": "text/x-python",
   "name": "python",
   "nbconvert_exporter": "python",
   "pygments_lexer": "ipython3",
   "version": "3.9.7"
  },
  "toc": {
   "base_numbering": 1,
   "nav_menu": {},
   "number_sections": true,
   "sideBar": true,
   "skip_h1_title": false,
   "title_cell": "Table of Contents",
   "title_sidebar": "Contents",
   "toc_cell": true,
   "toc_position": {},
   "toc_section_display": true,
   "toc_window_display": true
  }
 },
 "nbformat": 4,
 "nbformat_minor": 5
}
