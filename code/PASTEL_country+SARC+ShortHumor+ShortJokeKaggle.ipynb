{
 "cells": [
  {
   "cell_type": "markdown",
   "id": "dccc8bbd",
   "metadata": {},
   "source": [
    "<h1>Table of Contents<span class=\"tocSkip\"></span></h1>\n",
    "<div class=\"toc\"><ul class=\"toc-item\"><li><span><a href=\"#unfreeze,-with-pooler,-limit-30000\" data-toc-modified-id=\"unfreeze,-with-pooler,-limit-30000-1\"><span class=\"toc-item-num\">1&nbsp;&nbsp;</span>unfreeze, with pooler, limit 30000</a></span></li><li><span><a href=\"#unfreeze,-without-pooler,-limit-30000\" data-toc-modified-id=\"unfreeze,-without-pooler,-limit-30000-2\"><span class=\"toc-item-num\">2&nbsp;&nbsp;</span>unfreeze, without pooler, limit 30000</a></span></li></ul></div>"
   ]
  },
  {
   "cell_type": "code",
   "execution_count": null,
   "id": "9f4e42ea",
   "metadata": {},
   "outputs": [],
   "source": [
    "%run ./multitask_style_learning_utils.ipynb"
   ]
  },
  {
   "cell_type": "markdown",
   "id": "c6c70125",
   "metadata": {},
   "source": [
    "# unfreeze, with pooler, limit 30000"
   ]
  },
  {
   "cell_type": "code",
   "execution_count": null,
   "id": "04cdae66",
   "metadata": {},
   "outputs": [
    {
     "name": "stderr",
     "output_type": "stream",
     "text": [
      "Some weights of the model checkpoint at bert-base-uncased were not used when initializing BertModel: ['cls.predictions.decoder.weight', 'cls.seq_relationship.bias', 'cls.predictions.transform.LayerNorm.bias', 'cls.seq_relationship.weight', 'cls.predictions.transform.dense.bias', 'cls.predictions.transform.dense.weight', 'cls.predictions.transform.LayerNorm.weight', 'cls.predictions.bias']\n",
      "- This IS expected if you are initializing BertModel from the checkpoint of a model trained on another task or with another architecture (e.g. initializing a BertForSequenceClassification model from a BertForPreTraining model).\n",
      "- This IS NOT expected if you are initializing BertModel from the checkpoint of a model that you expect to be exactly identical (initializing a BertForSequenceClassification model from a BertForSequenceClassification model).\n"
     ]
    },
    {
     "data": {
      "application/vnd.jupyter.widget-view+json": {
       "model_id": "1a03332ae48645b4a008d5b239842c06",
       "version_major": 2,
       "version_minor": 0
      },
      "text/plain": [
       "  0%|          | 0/18760 [00:00<?, ?it/s]"
      ]
     },
     "metadata": {},
     "output_type": "display_data"
    },
    {
     "data": {
      "application/vnd.jupyter.widget-view+json": {
       "model_id": "",
       "version_major": 2,
       "version_minor": 0
      },
      "text/plain": [
       "  0%|          | 0/3752 [00:00<?, ?it/s]"
      ]
     },
     "metadata": {},
     "output_type": "display_data"
    },
    {
     "data": {
      "application/vnd.jupyter.widget-view+json": {
       "model_id": "",
       "version_major": 2,
       "version_minor": 0
      },
      "text/plain": [
       "  0%|          | 0/1834 [00:00<?, ?it/s]"
      ]
     },
     "metadata": {},
     "output_type": "display_data"
    },
    {
     "data": {
      "application/vnd.jupyter.widget-view+json": {
       "model_id": "",
       "version_major": 2,
       "version_minor": 0
      },
      "text/plain": [
       "  0%|          | 0/3752 [00:00<?, ?it/s]"
      ]
     },
     "metadata": {},
     "output_type": "display_data"
    },
    {
     "data": {
      "application/vnd.jupyter.widget-view+json": {
       "model_id": "",
       "version_major": 2,
       "version_minor": 0
      },
      "text/plain": [
       "  0%|          | 0/1834 [00:00<?, ?it/s]"
      ]
     },
     "metadata": {},
     "output_type": "display_data"
    },
    {
     "data": {
      "application/vnd.jupyter.widget-view+json": {
       "model_id": "",
       "version_major": 2,
       "version_minor": 0
      },
      "text/plain": [
       "  0%|          | 0/3752 [00:00<?, ?it/s]"
      ]
     },
     "metadata": {},
     "output_type": "display_data"
    },
    {
     "data": {
      "application/vnd.jupyter.widget-view+json": {
       "model_id": "",
       "version_major": 2,
       "version_minor": 0
      },
      "text/plain": [
       "  0%|          | 0/1834 [00:00<?, ?it/s]"
      ]
     },
     "metadata": {},
     "output_type": "display_data"
    },
    {
     "data": {
      "application/vnd.jupyter.widget-view+json": {
       "model_id": "",
       "version_major": 2,
       "version_minor": 0
      },
      "text/plain": [
       "  0%|          | 0/3752 [00:00<?, ?it/s]"
      ]
     },
     "metadata": {},
     "output_type": "display_data"
    },
    {
     "data": {
      "application/vnd.jupyter.widget-view+json": {
       "model_id": "",
       "version_major": 2,
       "version_minor": 0
      },
      "text/plain": [
       "  0%|          | 0/1834 [00:00<?, ?it/s]"
      ]
     },
     "metadata": {},
     "output_type": "display_data"
    },
    {
     "data": {
      "application/vnd.jupyter.widget-view+json": {
       "model_id": "",
       "version_major": 2,
       "version_minor": 0
      },
      "text/plain": [
       "  0%|          | 0/3752 [00:00<?, ?it/s]"
      ]
     },
     "metadata": {},
     "output_type": "display_data"
    },
    {
     "data": {
      "application/vnd.jupyter.widget-view+json": {
       "model_id": "",
       "version_major": 2,
       "version_minor": 0
      },
      "text/plain": [
       "  0%|          | 0/1834 [00:00<?, ?it/s]"
      ]
     },
     "metadata": {},
     "output_type": "display_data"
    },
    {
     "data": {
      "text/html": [
       "<div>\n",
       "<style scoped>\n",
       "    .dataframe tbody tr th:only-of-type {\n",
       "        vertical-align: middle;\n",
       "    }\n",
       "\n",
       "    .dataframe tbody tr th {\n",
       "        vertical-align: top;\n",
       "    }\n",
       "\n",
       "    .dataframe thead th {\n",
       "        text-align: right;\n",
       "    }\n",
       "</style>\n",
       "<table border=\"1\" class=\"dataframe\">\n",
       "  <thead>\n",
       "    <tr style=\"text-align: right;\">\n",
       "      <th></th>\n",
       "      <th>i_epoch</th>\n",
       "      <th>train_loss</th>\n",
       "      <th>train_loss_PASTEL_country</th>\n",
       "      <th>train_loss_SARC</th>\n",
       "      <th>train_loss_ShortHumor</th>\n",
       "      <th>train_loss_ShortJokeKaggle</th>\n",
       "      <th>train_acc</th>\n",
       "      <th>train_acc_PASTEL_country</th>\n",
       "      <th>train_acc_SARC</th>\n",
       "      <th>train_acc_ShortHumor</th>\n",
       "      <th>...</th>\n",
       "      <th>val_loss</th>\n",
       "      <th>val_loss_PASTEL_country</th>\n",
       "      <th>val_loss_SARC</th>\n",
       "      <th>val_loss_ShortHumor</th>\n",
       "      <th>val_loss_ShortJokeKaggle</th>\n",
       "      <th>val_acc</th>\n",
       "      <th>val_acc_PASTEL_country</th>\n",
       "      <th>val_acc_SARC</th>\n",
       "      <th>val_acc_ShortHumor</th>\n",
       "      <th>val_acc_ShortJokeKaggle</th>\n",
       "    </tr>\n",
       "  </thead>\n",
       "  <tbody>\n",
       "    <tr>\n",
       "      <th>0</th>\n",
       "      <td>0.0</td>\n",
       "      <td>0.744227</td>\n",
       "      <td>0.084527</td>\n",
       "      <td>0.519993</td>\n",
       "      <td>0.069775</td>\n",
       "      <td>0.069932</td>\n",
       "      <td>0.922283</td>\n",
       "      <td>0.979000</td>\n",
       "      <td>0.745867</td>\n",
       "      <td>0.982000</td>\n",
       "      <td>...</td>\n",
       "      <td>0.962915</td>\n",
       "      <td>0.102099</td>\n",
       "      <td>0.595392</td>\n",
       "      <td>0.135535</td>\n",
       "      <td>0.129888</td>\n",
       "      <td>0.813668</td>\n",
       "      <td>0.976403</td>\n",
       "      <td>0.679367</td>\n",
       "      <td>0.947554</td>\n",
       "      <td>0.950826</td>\n",
       "    </tr>\n",
       "    <tr>\n",
       "      <th>1</th>\n",
       "      <td>1.0</td>\n",
       "      <td>0.420257</td>\n",
       "      <td>0.065383</td>\n",
       "      <td>0.322383</td>\n",
       "      <td>0.014191</td>\n",
       "      <td>0.018300</td>\n",
       "      <td>0.961750</td>\n",
       "      <td>0.986467</td>\n",
       "      <td>0.869633</td>\n",
       "      <td>0.995867</td>\n",
       "      <td>...</td>\n",
       "      <td>1.072451</td>\n",
       "      <td>0.113893</td>\n",
       "      <td>0.666157</td>\n",
       "      <td>0.149895</td>\n",
       "      <td>0.142506</td>\n",
       "      <td>0.814299</td>\n",
       "      <td>0.973272</td>\n",
       "      <td>0.679933</td>\n",
       "      <td>0.952093</td>\n",
       "      <td>0.951892</td>\n",
       "    </tr>\n",
       "    <tr>\n",
       "      <th>2</th>\n",
       "      <td>2.0</td>\n",
       "      <td>0.169656</td>\n",
       "      <td>0.017003</td>\n",
       "      <td>0.144920</td>\n",
       "      <td>0.003140</td>\n",
       "      <td>0.004594</td>\n",
       "      <td>0.987433</td>\n",
       "      <td>0.995600</td>\n",
       "      <td>0.956267</td>\n",
       "      <td>0.999067</td>\n",
       "      <td>...</td>\n",
       "      <td>1.269817</td>\n",
       "      <td>0.125721</td>\n",
       "      <td>0.780792</td>\n",
       "      <td>0.182143</td>\n",
       "      <td>0.181161</td>\n",
       "      <td>0.813378</td>\n",
       "      <td>0.973754</td>\n",
       "      <td>0.675400</td>\n",
       "      <td>0.957640</td>\n",
       "      <td>0.954957</td>\n",
       "    </tr>\n",
       "    <tr>\n",
       "      <th>3</th>\n",
       "      <td>3.0</td>\n",
       "      <td>0.063277</td>\n",
       "      <td>0.004832</td>\n",
       "      <td>0.055372</td>\n",
       "      <td>0.001807</td>\n",
       "      <td>0.001266</td>\n",
       "      <td>0.995308</td>\n",
       "      <td>0.998433</td>\n",
       "      <td>0.983367</td>\n",
       "      <td>0.999633</td>\n",
       "      <td>...</td>\n",
       "      <td>1.714471</td>\n",
       "      <td>0.172716</td>\n",
       "      <td>1.122024</td>\n",
       "      <td>0.211922</td>\n",
       "      <td>0.207809</td>\n",
       "      <td>0.809593</td>\n",
       "      <td>0.972068</td>\n",
       "      <td>0.668567</td>\n",
       "      <td>0.954110</td>\n",
       "      <td>0.954824</td>\n",
       "    </tr>\n",
       "    <tr>\n",
       "      <th>4</th>\n",
       "      <td>4.0</td>\n",
       "      <td>0.025814</td>\n",
       "      <td>0.001505</td>\n",
       "      <td>0.023412</td>\n",
       "      <td>0.000425</td>\n",
       "      <td>0.000472</td>\n",
       "      <td>0.998200</td>\n",
       "      <td>0.999833</td>\n",
       "      <td>0.993033</td>\n",
       "      <td>0.999967</td>\n",
       "      <td>...</td>\n",
       "      <td>1.897797</td>\n",
       "      <td>0.192570</td>\n",
       "      <td>1.289547</td>\n",
       "      <td>0.201092</td>\n",
       "      <td>0.214588</td>\n",
       "      <td>0.815390</td>\n",
       "      <td>0.973032</td>\n",
       "      <td>0.678400</td>\n",
       "      <td>0.958144</td>\n",
       "      <td>0.956290</td>\n",
       "    </tr>\n",
       "  </tbody>\n",
       "</table>\n",
       "<p>5 rows × 21 columns</p>\n",
       "</div>"
      ],
      "text/plain": [
       "   i_epoch  train_loss  train_loss_PASTEL_country  train_loss_SARC  \\\n",
       "0      0.0    0.744227                   0.084527         0.519993   \n",
       "1      1.0    0.420257                   0.065383         0.322383   \n",
       "2      2.0    0.169656                   0.017003         0.144920   \n",
       "3      3.0    0.063277                   0.004832         0.055372   \n",
       "4      4.0    0.025814                   0.001505         0.023412   \n",
       "\n",
       "   train_loss_ShortHumor  train_loss_ShortJokeKaggle  train_acc  \\\n",
       "0               0.069775                    0.069932   0.922283   \n",
       "1               0.014191                    0.018300   0.961750   \n",
       "2               0.003140                    0.004594   0.987433   \n",
       "3               0.001807                    0.001266   0.995308   \n",
       "4               0.000425                    0.000472   0.998200   \n",
       "\n",
       "   train_acc_PASTEL_country  train_acc_SARC  train_acc_ShortHumor  ...  \\\n",
       "0                  0.979000        0.745867              0.982000  ...   \n",
       "1                  0.986467        0.869633              0.995867  ...   \n",
       "2                  0.995600        0.956267              0.999067  ...   \n",
       "3                  0.998433        0.983367              0.999633  ...   \n",
       "4                  0.999833        0.993033              0.999967  ...   \n",
       "\n",
       "   val_loss  val_loss_PASTEL_country  val_loss_SARC  val_loss_ShortHumor  \\\n",
       "0  0.962915                 0.102099       0.595392             0.135535   \n",
       "1  1.072451                 0.113893       0.666157             0.149895   \n",
       "2  1.269817                 0.125721       0.780792             0.182143   \n",
       "3  1.714471                 0.172716       1.122024             0.211922   \n",
       "4  1.897797                 0.192570       1.289547             0.201092   \n",
       "\n",
       "   val_loss_ShortJokeKaggle   val_acc  val_acc_PASTEL_country  val_acc_SARC  \\\n",
       "0                  0.129888  0.813668                0.976403      0.679367   \n",
       "1                  0.142506  0.814299                0.973272      0.679933   \n",
       "2                  0.181161  0.813378                0.973754      0.675400   \n",
       "3                  0.207809  0.809593                0.972068      0.668567   \n",
       "4                  0.214588  0.815390                0.973032      0.678400   \n",
       "\n",
       "   val_acc_ShortHumor  val_acc_ShortJokeKaggle  \n",
       "0            0.947554                 0.950826  \n",
       "1            0.952093                 0.951892  \n",
       "2            0.957640                 0.954957  \n",
       "3            0.954110                 0.954824  \n",
       "4            0.958144                 0.956290  \n",
       "\n",
       "[5 rows x 21 columns]"
      ]
     },
     "metadata": {},
     "output_type": "display_data"
    },
    {
     "data": {
      "application/vnd.jupyter.widget-view+json": {
       "model_id": "a8e8aa17f301427ea505da7d84a5da54",
       "version_major": 2,
       "version_minor": 0
      },
      "text/plain": [
       "Iteration:   0%|          | 0/1834 [00:00<?, ?it/s]"
      ]
     },
     "metadata": {},
     "output_type": "display_data"
    },
    {
     "data": {
      "image/png": "[encoded data removed]",
      "text/plain": [
       "<Figure size 432x288 with 1 Axes>"
      ]
     },
     "metadata": {
      "needs_background": "light"
     },
     "output_type": "display_data"
    },
    {
     "data": {
      "image/png": "[encoded data removed]",
      "text/plain": [
       "<Figure size 432x288 with 1 Axes>"
      ]
     },
     "metadata": {
      "needs_background": "light"
     },
     "output_type": "display_data"
    }
   ],
   "source": [
    "selected_tasks = ['PASTEL_country', # 33224\n",
    "                  'SARC', # 205645\n",
    "#                   'SarcasmGhosh', # 39780\n",
    "                  'ShortHumor', # 37801\n",
    "                  'ShortJokeKaggle', # 406682\n",
    "#                   'ShortRomance', # 1902\n",
    "#                   'TroFi', # 3335\n",
    "#                   'VUA', # 15157\n",
    "                 ] \n",
    "training_args = TrainingArgs(selected_tasks=selected_tasks,\n",
    "                             base_model_name='bert-base-uncased',\n",
    "                             freeze_bert=False,\n",
    "                             use_pooler=True,\n",
    "                             num_epoch=5,\n",
    "                             data_limit=30000,\n",
    "                            )\n",
    "\n",
    "model = init_model(training_args)\n",
    "freeze_model(model, training_args.freeze_bert)\n",
    "df_evaluation, df_loss_per_step, model = train_model(model, training_args)\n",
    "\n",
    "eval_dataloader = MultiTaskTestDataLoader(training_args, split='dev')\n",
    "attn_entropy, head_importance, preds, labels = compute_heads_importance(model, eval_dataloader, training_args)\n",
    "\n",
    "imshow(attn_entropy)\n",
    "imshow(head_importance)\n"
   ]
  },
  {
   "cell_type": "markdown",
   "id": "bdaae56c",
   "metadata": {},
   "source": [
    "# unfreeze, without pooler, limit 30000"
   ]
  },
  {
   "cell_type": "code",
   "execution_count": null,
   "id": "ef212d3d",
   "metadata": {},
   "outputs": [
    {
     "name": "stderr",
     "output_type": "stream",
     "text": [
      "Some weights of the model checkpoint at bert-base-uncased were not used when initializing BertModel: ['cls.predictions.decoder.weight', 'cls.seq_relationship.bias', 'cls.predictions.transform.LayerNorm.bias', 'cls.seq_relationship.weight', 'cls.predictions.transform.dense.bias', 'cls.predictions.transform.dense.weight', 'cls.predictions.transform.LayerNorm.weight', 'cls.predictions.bias']\n",
      "- This IS expected if you are initializing BertModel from the checkpoint of a model trained on another task or with another architecture (e.g. initializing a BertForSequenceClassification model from a BertForPreTraining model).\n",
      "- This IS NOT expected if you are initializing BertModel from the checkpoint of a model that you expect to be exactly identical (initializing a BertForSequenceClassification model from a BertForSequenceClassification model).\n"
     ]
    },
    {
     "data": {
      "application/vnd.jupyter.widget-view+json": {
       "model_id": "cbae25a9cb564686969f4e372931090e",
       "version_major": 2,
       "version_minor": 0
      },
      "text/plain": [
       "  0%|          | 0/18760 [00:00<?, ?it/s]"
      ]
     },
     "metadata": {},
     "output_type": "display_data"
    },
    {
     "data": {
      "application/vnd.jupyter.widget-view+json": {
       "model_id": "",
       "version_major": 2,
       "version_minor": 0
      },
      "text/plain": [
       "  0%|          | 0/3752 [00:00<?, ?it/s]"
      ]
     },
     "metadata": {},
     "output_type": "display_data"
    },
    {
     "data": {
      "application/vnd.jupyter.widget-view+json": {
       "model_id": "",
       "version_major": 2,
       "version_minor": 0
      },
      "text/plain": [
       "  0%|          | 0/1834 [00:00<?, ?it/s]"
      ]
     },
     "metadata": {},
     "output_type": "display_data"
    },
    {
     "data": {
      "application/vnd.jupyter.widget-view+json": {
       "model_id": "",
       "version_major": 2,
       "version_minor": 0
      },
      "text/plain": [
       "  0%|          | 0/3752 [00:00<?, ?it/s]"
      ]
     },
     "metadata": {},
     "output_type": "display_data"
    },
    {
     "data": {
      "application/vnd.jupyter.widget-view+json": {
       "model_id": "",
       "version_major": 2,
       "version_minor": 0
      },
      "text/plain": [
       "  0%|          | 0/1834 [00:00<?, ?it/s]"
      ]
     },
     "metadata": {},
     "output_type": "display_data"
    },
    {
     "data": {
      "application/vnd.jupyter.widget-view+json": {
       "model_id": "",
       "version_major": 2,
       "version_minor": 0
      },
      "text/plain": [
       "  0%|          | 0/3752 [00:00<?, ?it/s]"
      ]
     },
     "metadata": {},
     "output_type": "display_data"
    },
    {
     "data": {
      "application/vnd.jupyter.widget-view+json": {
       "model_id": "",
       "version_major": 2,
       "version_minor": 0
      },
      "text/plain": [
       "  0%|          | 0/1834 [00:00<?, ?it/s]"
      ]
     },
     "metadata": {},
     "output_type": "display_data"
    },
    {
     "data": {
      "application/vnd.jupyter.widget-view+json": {
       "model_id": "",
       "version_major": 2,
       "version_minor": 0
      },
      "text/plain": [
       "  0%|          | 0/3752 [00:00<?, ?it/s]"
      ]
     },
     "metadata": {},
     "output_type": "display_data"
    },
    {
     "data": {
      "application/vnd.jupyter.widget-view+json": {
       "model_id": "",
       "version_major": 2,
       "version_minor": 0
      },
      "text/plain": [
       "  0%|          | 0/1834 [00:00<?, ?it/s]"
      ]
     },
     "metadata": {},
     "output_type": "display_data"
    },
    {
     "data": {
      "application/vnd.jupyter.widget-view+json": {
       "model_id": "",
       "version_major": 2,
       "version_minor": 0
      },
      "text/plain": [
       "  0%|          | 0/3752 [00:00<?, ?it/s]"
      ]
     },
     "metadata": {},
     "output_type": "display_data"
    },
    {
     "data": {
      "application/vnd.jupyter.widget-view+json": {
       "model_id": "",
       "version_major": 2,
       "version_minor": 0
      },
      "text/plain": [
       "  0%|          | 0/1834 [00:00<?, ?it/s]"
      ]
     },
     "metadata": {},
     "output_type": "display_data"
    },
    {
     "data": {
      "text/html": [
       "<div>\n",
       "<style scoped>\n",
       "    .dataframe tbody tr th:only-of-type {\n",
       "        vertical-align: middle;\n",
       "    }\n",
       "\n",
       "    .dataframe tbody tr th {\n",
       "        vertical-align: top;\n",
       "    }\n",
       "\n",
       "    .dataframe thead th {\n",
       "        text-align: right;\n",
       "    }\n",
       "</style>\n",
       "<table border=\"1\" class=\"dataframe\">\n",
       "  <thead>\n",
       "    <tr style=\"text-align: right;\">\n",
       "      <th></th>\n",
       "      <th>i_epoch</th>\n",
       "      <th>train_loss</th>\n",
       "      <th>train_loss_PASTEL_country</th>\n",
       "      <th>train_loss_SARC</th>\n",
       "      <th>train_loss_ShortHumor</th>\n",
       "      <th>train_loss_ShortJokeKaggle</th>\n",
       "      <th>train_acc</th>\n",
       "      <th>train_acc_PASTEL_country</th>\n",
       "      <th>train_acc_SARC</th>\n",
       "      <th>train_acc_ShortHumor</th>\n",
       "      <th>...</th>\n",
       "      <th>val_loss</th>\n",
       "      <th>val_loss_PASTEL_country</th>\n",
       "      <th>val_loss_SARC</th>\n",
       "      <th>val_loss_ShortHumor</th>\n",
       "      <th>val_loss_ShortJokeKaggle</th>\n",
       "      <th>val_acc</th>\n",
       "      <th>val_acc_PASTEL_country</th>\n",
       "      <th>val_acc_SARC</th>\n",
       "      <th>val_acc_ShortHumor</th>\n",
       "      <th>val_acc_ShortJokeKaggle</th>\n",
       "    </tr>\n",
       "  </thead>\n",
       "  <tbody>\n",
       "    <tr>\n",
       "      <th>0</th>\n",
       "      <td>0.0</td>\n",
       "      <td>0.722060</td>\n",
       "      <td>0.081134</td>\n",
       "      <td>0.498136</td>\n",
       "      <td>0.044343</td>\n",
       "      <td>0.098447</td>\n",
       "      <td>0.923517</td>\n",
       "      <td>0.979000</td>\n",
       "      <td>0.765833</td>\n",
       "      <td>0.987667</td>\n",
       "      <td>...</td>\n",
       "      <td>1.017275</td>\n",
       "      <td>0.106077</td>\n",
       "      <td>0.594613</td>\n",
       "      <td>0.128326</td>\n",
       "      <td>0.188259</td>\n",
       "      <td>0.806455</td>\n",
       "      <td>0.976403</td>\n",
       "      <td>0.681533</td>\n",
       "      <td>0.953606</td>\n",
       "      <td>0.928616</td>\n",
       "    </tr>\n",
       "    <tr>\n",
       "      <th>1</th>\n",
       "      <td>1.0</td>\n",
       "      <td>0.335099</td>\n",
       "      <td>0.037479</td>\n",
       "      <td>0.275145</td>\n",
       "      <td>0.008754</td>\n",
       "      <td>0.013720</td>\n",
       "      <td>0.968392</td>\n",
       "      <td>0.988067</td>\n",
       "      <td>0.892500</td>\n",
       "      <td>0.997433</td>\n",
       "      <td>...</td>\n",
       "      <td>1.122119</td>\n",
       "      <td>0.105964</td>\n",
       "      <td>0.693255</td>\n",
       "      <td>0.161483</td>\n",
       "      <td>0.161417</td>\n",
       "      <td>0.812270</td>\n",
       "      <td>0.976884</td>\n",
       "      <td>0.676067</td>\n",
       "      <td>0.955119</td>\n",
       "      <td>0.950826</td>\n",
       "    </tr>\n",
       "    <tr>\n",
       "      <th>2</th>\n",
       "      <td>2.0</td>\n",
       "      <td>0.166456</td>\n",
       "      <td>0.011500</td>\n",
       "      <td>0.147436</td>\n",
       "      <td>0.002300</td>\n",
       "      <td>0.005219</td>\n",
       "      <td>0.985525</td>\n",
       "      <td>0.996333</td>\n",
       "      <td>0.947633</td>\n",
       "      <td>0.999567</td>\n",
       "      <td>...</td>\n",
       "      <td>1.442424</td>\n",
       "      <td>0.148104</td>\n",
       "      <td>0.951466</td>\n",
       "      <td>0.155736</td>\n",
       "      <td>0.187118</td>\n",
       "      <td>0.802568</td>\n",
       "      <td>0.976162</td>\n",
       "      <td>0.656233</td>\n",
       "      <td>0.963691</td>\n",
       "      <td>0.951359</td>\n",
       "    </tr>\n",
       "    <tr>\n",
       "      <th>3</th>\n",
       "      <td>3.0</td>\n",
       "      <td>0.045390</td>\n",
       "      <td>0.002727</td>\n",
       "      <td>0.041067</td>\n",
       "      <td>0.000617</td>\n",
       "      <td>0.000979</td>\n",
       "      <td>0.996275</td>\n",
       "      <td>0.999467</td>\n",
       "      <td>0.986067</td>\n",
       "      <td>0.999933</td>\n",
       "      <td>...</td>\n",
       "      <td>1.836656</td>\n",
       "      <td>0.165177</td>\n",
       "      <td>1.309917</td>\n",
       "      <td>0.161997</td>\n",
       "      <td>0.199566</td>\n",
       "      <td>0.812747</td>\n",
       "      <td>0.975921</td>\n",
       "      <td>0.672433</td>\n",
       "      <td>0.968734</td>\n",
       "      <td>0.955890</td>\n",
       "    </tr>\n",
       "    <tr>\n",
       "      <th>4</th>\n",
       "      <td>4.0</td>\n",
       "      <td>0.017194</td>\n",
       "      <td>0.001465</td>\n",
       "      <td>0.014973</td>\n",
       "      <td>0.000382</td>\n",
       "      <td>0.000373</td>\n",
       "      <td>0.998717</td>\n",
       "      <td>0.999700</td>\n",
       "      <td>0.995200</td>\n",
       "      <td>0.999967</td>\n",
       "      <td>...</td>\n",
       "      <td>1.951732</td>\n",
       "      <td>0.180669</td>\n",
       "      <td>1.371566</td>\n",
       "      <td>0.177843</td>\n",
       "      <td>0.221655</td>\n",
       "      <td>0.813549</td>\n",
       "      <td>0.975439</td>\n",
       "      <td>0.674733</td>\n",
       "      <td>0.965708</td>\n",
       "      <td>0.955268</td>\n",
       "    </tr>\n",
       "  </tbody>\n",
       "</table>\n",
       "<p>5 rows × 21 columns</p>\n",
       "</div>"
      ],
      "text/plain": [
       "   i_epoch  train_loss  train_loss_PASTEL_country  train_loss_SARC  \\\n",
       "0      0.0    0.722060                   0.081134         0.498136   \n",
       "1      1.0    0.335099                   0.037479         0.275145   \n",
       "2      2.0    0.166456                   0.011500         0.147436   \n",
       "3      3.0    0.045390                   0.002727         0.041067   \n",
       "4      4.0    0.017194                   0.001465         0.014973   \n",
       "\n",
       "   train_loss_ShortHumor  train_loss_ShortJokeKaggle  train_acc  \\\n",
       "0               0.044343                    0.098447   0.923517   \n",
       "1               0.008754                    0.013720   0.968392   \n",
       "2               0.002300                    0.005219   0.985525   \n",
       "3               0.000617                    0.000979   0.996275   \n",
       "4               0.000382                    0.000373   0.998717   \n",
       "\n",
       "   train_acc_PASTEL_country  train_acc_SARC  train_acc_ShortHumor  ...  \\\n",
       "0                  0.979000        0.765833              0.987667  ...   \n",
       "1                  0.988067        0.892500              0.997433  ...   \n",
       "2                  0.996333        0.947633              0.999567  ...   \n",
       "3                  0.999467        0.986067              0.999933  ...   \n",
       "4                  0.999700        0.995200              0.999967  ...   \n",
       "\n",
       "   val_loss  val_loss_PASTEL_country  val_loss_SARC  val_loss_ShortHumor  \\\n",
       "0  1.017275                 0.106077       0.594613             0.128326   \n",
       "1  1.122119                 0.105964       0.693255             0.161483   \n",
       "2  1.442424                 0.148104       0.951466             0.155736   \n",
       "3  1.836656                 0.165177       1.309917             0.161997   \n",
       "4  1.951732                 0.180669       1.371566             0.177843   \n",
       "\n",
       "   val_loss_ShortJokeKaggle   val_acc  val_acc_PASTEL_country  val_acc_SARC  \\\n",
       "0                  0.188259  0.806455                0.976403      0.681533   \n",
       "1                  0.161417  0.812270                0.976884      0.676067   \n",
       "2                  0.187118  0.802568                0.976162      0.656233   \n",
       "3                  0.199566  0.812747                0.975921      0.672433   \n",
       "4                  0.221655  0.813549                0.975439      0.674733   \n",
       "\n",
       "   val_acc_ShortHumor  val_acc_ShortJokeKaggle  \n",
       "0            0.953606                 0.928616  \n",
       "1            0.955119                 0.950826  \n",
       "2            0.963691                 0.951359  \n",
       "3            0.968734                 0.955890  \n",
       "4            0.965708                 0.955268  \n",
       "\n",
       "[5 rows x 21 columns]"
      ]
     },
     "metadata": {},
     "output_type": "display_data"
    },
    {
     "data": {
      "application/vnd.jupyter.widget-view+json": {
       "model_id": "d3a481458d5047dfbefcc1491de7802a",
       "version_major": 2,
       "version_minor": 0
      },
      "text/plain": [
       "Iteration:   0%|          | 0/1834 [00:00<?, ?it/s]"
      ]
     },
     "metadata": {},
     "output_type": "display_data"
    },
    {
     "data": {
      "image/png": "[encoded data removed]",
      "text/plain": [
       "<Figure size 432x288 with 1 Axes>"
      ]
     },
     "metadata": {
      "needs_background": "light"
     },
     "output_type": "display_data"
    },
    {
     "data": {
      "image/png": "[encoded data removed]",
      "text/plain": [
       "<Figure size 432x288 with 1 Axes>"
      ]
     },
     "metadata": {
      "needs_background": "light"
     },
     "output_type": "display_data"
    }
   ],
   "source": [
    "selected_tasks = ['PASTEL_country', # 33224\n",
    "                  'SARC', # 205645\n",
    "#                   'SarcasmGhosh', # 39780\n",
    "                  'ShortHumor', # 37801\n",
    "                  'ShortJokeKaggle', # 406682\n",
    "#                   'ShortRomance', # 1902\n",
    "#                   'TroFi', # 3335\n",
    "#                   'VUA', # 15157\n",
    "                 ] \n",
    "training_args = TrainingArgs(selected_tasks=selected_tasks,\n",
    "                             base_model_name='bert-base-uncased',\n",
    "                             freeze_bert=False,\n",
    "                             use_pooler=False,\n",
    "                             num_epoch=5,\n",
    "                             data_limit=30000,\n",
    "                            )\n",
    "\n",
    "model = init_model(training_args)\n",
    "freeze_model(model, training_args.freeze_bert)\n",
    "df_evaluation, df_loss_per_step, model = train_model(model, training_args)\n",
    "\n",
    "eval_dataloader = MultiTaskTestDataLoader(training_args, split='dev')\n",
    "attn_entropy, head_importance, preds, labels = compute_heads_importance(model, eval_dataloader, training_args)\n",
    "\n",
    "imshow(attn_entropy)\n",
    "imshow(head_importance)\n"
   ]
  },
  {
   "cell_type": "code",
   "execution_count": null,
   "id": "202ca597",
   "metadata": {},
   "outputs": [],
   "source": []
  }
 ],
 "metadata": {
  "kernelspec": {
   "display_name": "Python 3 (ipykernel)",
   "language": "python",
   "name": "python3"
  }
 },
 "nbformat": 4,
 "nbformat_minor": 5
}
