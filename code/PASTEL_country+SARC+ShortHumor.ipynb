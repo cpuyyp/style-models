{
 "cells": [
  {
   "cell_type": "markdown",
   "id": "8d1061d7",
   "metadata": {},
   "source": [
    "<h1>Table of Contents<span class=\"tocSkip\"></span></h1>\n",
    "<div class=\"toc\"><ul class=\"toc-item\"><li><span><a href=\"#unfreeze,-with-pooler,-limit-30000\" data-toc-modified-id=\"unfreeze,-with-pooler,-limit-30000-1\"><span class=\"toc-item-num\">1&nbsp;&nbsp;</span>unfreeze, with pooler, limit 30000</a></span></li><li><span><a href=\"#unfreeze,-without-pooler,-limit-30000\" data-toc-modified-id=\"unfreeze,-without-pooler,-limit-30000-2\"><span class=\"toc-item-num\">2&nbsp;&nbsp;</span>unfreeze, without pooler, limit 30000</a></span></li><li><span><a href=\"#freeze-6,-without-pooler,-limit-30000\" data-toc-modified-id=\"freeze-6,-without-pooler,-limit-30000-3\"><span class=\"toc-item-num\">3&nbsp;&nbsp;</span>freeze 6, without pooler, limit 30000</a></span></li></ul></div>"
   ]
  },
  {
   "cell_type": "code",
   "execution_count": null,
   "id": "9fac58c8",
   "metadata": {},
   "outputs": [],
   "source": [
    "%run ./multitask_style_learning_utils.ipynb"
   ]
  },
  {
   "cell_type": "markdown",
   "id": "7726b3ec",
   "metadata": {},
   "source": [
    "# unfreeze, with pooler, limit 30000"
   ]
  },
  {
   "cell_type": "code",
   "execution_count": null,
   "id": "1479786e",
   "metadata": {},
   "outputs": [
    {
     "name": "stderr",
     "output_type": "stream",
     "text": [
      "Some weights of the model checkpoint at bert-base-uncased were not used when initializing BertModel: ['cls.predictions.transform.dense.weight', 'cls.predictions.transform.LayerNorm.weight', 'cls.predictions.decoder.weight', 'cls.seq_relationship.weight', 'cls.predictions.bias', 'cls.predictions.transform.LayerNorm.bias', 'cls.predictions.transform.dense.bias', 'cls.seq_relationship.bias']\n",
      "- This IS expected if you are initializing BertModel from the checkpoint of a model trained on another task or with another architecture (e.g. initializing a BertForSequenceClassification model from a BertForPreTraining model).\n",
      "- This IS NOT expected if you are initializing BertModel from the checkpoint of a model that you expect to be exactly identical (initializing a BertForSequenceClassification model from a BertForSequenceClassification model).\n"
     ]
    },
    {
     "data": {
      "application/vnd.jupyter.widget-view+json": {
       "model_id": "b720caf1de8e4fce942ded1b20acf119",
       "version_major": 2,
       "version_minor": 0
      },
      "text/plain": [
       "  0%|          | 0/14070 [00:00<?, ?it/s]"
      ]
     },
     "metadata": {},
     "output_type": "display_data"
    },
    {
     "data": {
      "application/vnd.jupyter.widget-view+json": {
       "model_id": "",
       "version_major": 2,
       "version_minor": 0
      },
      "text/plain": [
       "  0%|          | 0/2814 [00:00<?, ?it/s]"
      ]
     },
     "metadata": {},
     "output_type": "display_data"
    },
    {
     "data": {
      "application/vnd.jupyter.widget-view+json": {
       "model_id": "",
       "version_major": 2,
       "version_minor": 0
      },
      "text/plain": [
       "  0%|          | 0/1130 [00:00<?, ?it/s]"
      ]
     },
     "metadata": {},
     "output_type": "display_data"
    },
    {
     "data": {
      "application/vnd.jupyter.widget-view+json": {
       "model_id": "",
       "version_major": 2,
       "version_minor": 0
      },
      "text/plain": [
       "  0%|          | 0/2814 [00:00<?, ?it/s]"
      ]
     },
     "metadata": {},
     "output_type": "display_data"
    },
    {
     "data": {
      "application/vnd.jupyter.widget-view+json": {
       "model_id": "",
       "version_major": 2,
       "version_minor": 0
      },
      "text/plain": [
       "  0%|          | 0/1130 [00:00<?, ?it/s]"
      ]
     },
     "metadata": {},
     "output_type": "display_data"
    },
    {
     "data": {
      "application/vnd.jupyter.widget-view+json": {
       "model_id": "",
       "version_major": 2,
       "version_minor": 0
      },
      "text/plain": [
       "  0%|          | 0/2814 [00:00<?, ?it/s]"
      ]
     },
     "metadata": {},
     "output_type": "display_data"
    },
    {
     "data": {
      "application/vnd.jupyter.widget-view+json": {
       "model_id": "",
       "version_major": 2,
       "version_minor": 0
      },
      "text/plain": [
       "  0%|          | 0/1130 [00:00<?, ?it/s]"
      ]
     },
     "metadata": {},
     "output_type": "display_data"
    },
    {
     "data": {
      "application/vnd.jupyter.widget-view+json": {
       "model_id": "",
       "version_major": 2,
       "version_minor": 0
      },
      "text/plain": [
       "  0%|          | 0/2814 [00:00<?, ?it/s]"
      ]
     },
     "metadata": {},
     "output_type": "display_data"
    },
    {
     "data": {
      "application/vnd.jupyter.widget-view+json": {
       "model_id": "",
       "version_major": 2,
       "version_minor": 0
      },
      "text/plain": [
       "  0%|          | 0/1130 [00:00<?, ?it/s]"
      ]
     },
     "metadata": {},
     "output_type": "display_data"
    },
    {
     "data": {
      "application/vnd.jupyter.widget-view+json": {
       "model_id": "",
       "version_major": 2,
       "version_minor": 0
      },
      "text/plain": [
       "  0%|          | 0/2814 [00:00<?, ?it/s]"
      ]
     },
     "metadata": {},
     "output_type": "display_data"
    },
    {
     "data": {
      "application/vnd.jupyter.widget-view+json": {
       "model_id": "",
       "version_major": 2,
       "version_minor": 0
      },
      "text/plain": [
       "  0%|          | 0/1130 [00:00<?, ?it/s]"
      ]
     },
     "metadata": {},
     "output_type": "display_data"
    },
    {
     "data": {
      "text/html": [
       "<div>\n",
       "<style scoped>\n",
       "    .dataframe tbody tr th:only-of-type {\n",
       "        vertical-align: middle;\n",
       "    }\n",
       "\n",
       "    .dataframe tbody tr th {\n",
       "        vertical-align: top;\n",
       "    }\n",
       "\n",
       "    .dataframe thead th {\n",
       "        text-align: right;\n",
       "    }\n",
       "</style>\n",
       "<table border=\"1\" class=\"dataframe\">\n",
       "  <thead>\n",
       "    <tr style=\"text-align: right;\">\n",
       "      <th></th>\n",
       "      <th>i_epoch</th>\n",
       "      <th>train_loss</th>\n",
       "      <th>train_loss_PASTEL_country</th>\n",
       "      <th>train_loss_SARC</th>\n",
       "      <th>train_loss_ShortHumor</th>\n",
       "      <th>train_acc</th>\n",
       "      <th>train_acc_PASTEL_country</th>\n",
       "      <th>train_acc_SARC</th>\n",
       "      <th>train_acc_ShortHumor</th>\n",
       "      <th>val_loss</th>\n",
       "      <th>val_loss_PASTEL_country</th>\n",
       "      <th>val_loss_SARC</th>\n",
       "      <th>val_loss_ShortHumor</th>\n",
       "      <th>val_acc</th>\n",
       "      <th>val_acc_PASTEL_country</th>\n",
       "      <th>val_acc_SARC</th>\n",
       "      <th>val_acc_ShortHumor</th>\n",
       "    </tr>\n",
       "  </thead>\n",
       "  <tbody>\n",
       "    <tr>\n",
       "      <th>0</th>\n",
       "      <td>0.0</td>\n",
       "      <td>0.686835</td>\n",
       "      <td>0.083892</td>\n",
       "      <td>0.531599</td>\n",
       "      <td>0.071344</td>\n",
       "      <td>0.905733</td>\n",
       "      <td>0.979000</td>\n",
       "      <td>0.752633</td>\n",
       "      <td>0.985567</td>\n",
       "      <td>0.849927</td>\n",
       "      <td>0.107127</td>\n",
       "      <td>0.602664</td>\n",
       "      <td>0.140136</td>\n",
       "      <td>0.721967</td>\n",
       "      <td>0.976403</td>\n",
       "      <td>0.671400</td>\n",
       "      <td>0.954110</td>\n",
       "    </tr>\n",
       "    <tr>\n",
       "      <th>1</th>\n",
       "      <td>1.0</td>\n",
       "      <td>0.366578</td>\n",
       "      <td>0.038614</td>\n",
       "      <td>0.318829</td>\n",
       "      <td>0.009135</td>\n",
       "      <td>0.956200</td>\n",
       "      <td>0.987900</td>\n",
       "      <td>0.883300</td>\n",
       "      <td>0.997400</td>\n",
       "      <td>0.888227</td>\n",
       "      <td>0.112609</td>\n",
       "      <td>0.623214</td>\n",
       "      <td>0.152404</td>\n",
       "      <td>0.730546</td>\n",
       "      <td>0.976884</td>\n",
       "      <td>0.681900</td>\n",
       "      <td>0.950580</td>\n",
       "    </tr>\n",
       "    <tr>\n",
       "      <th>2</th>\n",
       "      <td>2.0</td>\n",
       "      <td>0.153018</td>\n",
       "      <td>0.013437</td>\n",
       "      <td>0.137022</td>\n",
       "      <td>0.002560</td>\n",
       "      <td>0.982900</td>\n",
       "      <td>0.996333</td>\n",
       "      <td>0.952933</td>\n",
       "      <td>0.999433</td>\n",
       "      <td>1.210293</td>\n",
       "      <td>0.127804</td>\n",
       "      <td>0.889921</td>\n",
       "      <td>0.192568</td>\n",
       "      <td>0.725371</td>\n",
       "      <td>0.973995</td>\n",
       "      <td>0.675733</td>\n",
       "      <td>0.955623</td>\n",
       "    </tr>\n",
       "    <tr>\n",
       "      <th>3</th>\n",
       "      <td>3.0</td>\n",
       "      <td>0.058494</td>\n",
       "      <td>0.004139</td>\n",
       "      <td>0.053125</td>\n",
       "      <td>0.001229</td>\n",
       "      <td>0.993800</td>\n",
       "      <td>0.998767</td>\n",
       "      <td>0.982867</td>\n",
       "      <td>0.999767</td>\n",
       "      <td>1.631404</td>\n",
       "      <td>0.165148</td>\n",
       "      <td>1.261165</td>\n",
       "      <td>0.205091</td>\n",
       "      <td>0.725260</td>\n",
       "      <td>0.974958</td>\n",
       "      <td>0.675567</td>\n",
       "      <td>0.954110</td>\n",
       "    </tr>\n",
       "    <tr>\n",
       "      <th>4</th>\n",
       "      <td>4.0</td>\n",
       "      <td>0.024736</td>\n",
       "      <td>0.001617</td>\n",
       "      <td>0.022539</td>\n",
       "      <td>0.000580</td>\n",
       "      <td>0.997678</td>\n",
       "      <td>0.999700</td>\n",
       "      <td>0.993433</td>\n",
       "      <td>0.999900</td>\n",
       "      <td>1.732807</td>\n",
       "      <td>0.176312</td>\n",
       "      <td>1.339046</td>\n",
       "      <td>0.217449</td>\n",
       "      <td>0.723600</td>\n",
       "      <td>0.973513</td>\n",
       "      <td>0.673800</td>\n",
       "      <td>0.953606</td>\n",
       "    </tr>\n",
       "  </tbody>\n",
       "</table>\n",
       "</div>"
      ],
      "text/plain": [
       "   i_epoch  train_loss  train_loss_PASTEL_country  train_loss_SARC  \\\n",
       "0      0.0    0.686835                   0.083892         0.531599   \n",
       "1      1.0    0.366578                   0.038614         0.318829   \n",
       "2      2.0    0.153018                   0.013437         0.137022   \n",
       "3      3.0    0.058494                   0.004139         0.053125   \n",
       "4      4.0    0.024736                   0.001617         0.022539   \n",
       "\n",
       "   train_loss_ShortHumor  train_acc  train_acc_PASTEL_country  train_acc_SARC  \\\n",
       "0               0.071344   0.905733                  0.979000        0.752633   \n",
       "1               0.009135   0.956200                  0.987900        0.883300   \n",
       "2               0.002560   0.982900                  0.996333        0.952933   \n",
       "3               0.001229   0.993800                  0.998767        0.982867   \n",
       "4               0.000580   0.997678                  0.999700        0.993433   \n",
       "\n",
       "   train_acc_ShortHumor  val_loss  val_loss_PASTEL_country  val_loss_SARC  \\\n",
       "0              0.985567  0.849927                 0.107127       0.602664   \n",
       "1              0.997400  0.888227                 0.112609       0.623214   \n",
       "2              0.999433  1.210293                 0.127804       0.889921   \n",
       "3              0.999767  1.631404                 0.165148       1.261165   \n",
       "4              0.999900  1.732807                 0.176312       1.339046   \n",
       "\n",
       "   val_loss_ShortHumor   val_acc  val_acc_PASTEL_country  val_acc_SARC  \\\n",
       "0             0.140136  0.721967                0.976403      0.671400   \n",
       "1             0.152404  0.730546                0.976884      0.681900   \n",
       "2             0.192568  0.725371                0.973995      0.675733   \n",
       "3             0.205091  0.725260                0.974958      0.675567   \n",
       "4             0.217449  0.723600                0.973513      0.673800   \n",
       "\n",
       "   val_acc_ShortHumor  \n",
       "0            0.954110  \n",
       "1            0.950580  \n",
       "2            0.955623  \n",
       "3            0.954110  \n",
       "4            0.953606  "
      ]
     },
     "metadata": {},
     "output_type": "display_data"
    },
    {
     "data": {
      "application/vnd.jupyter.widget-view+json": {
       "model_id": "cc5c9afcfa6249debc80edaf7c5dbfa9",
       "version_major": 2,
       "version_minor": 0
      },
      "text/plain": [
       "Iteration:   0%|          | 0/1130 [00:00<?, ?it/s]"
      ]
     },
     "metadata": {},
     "output_type": "display_data"
    },
    {
     "data": {
      "image/png": "[encoded data removed]",
      "text/plain": [
       "<Figure size 432x288 with 1 Axes>"
      ]
     },
     "metadata": {
      "needs_background": "light"
     },
     "output_type": "display_data"
    },
    {
     "data": {
      "image/png": "[encoded data removed]",
      "text/plain": [
       "<Figure size 432x288 with 1 Axes>"
      ]
     },
     "metadata": {
      "needs_background": "light"
     },
     "output_type": "display_data"
    }
   ],
   "source": [
    "selected_tasks = ['PASTEL_country', # 33224\n",
    "                  'SARC', # 205645\n",
    "#                   'SarcasmGhosh', # 39780\n",
    "                  'ShortHumor', # 37801\n",
    "#                   'ShortJokeKaggle', # 406682\n",
    "#                   'ShortRomance', # 1902\n",
    "#                   'TroFi', # 3335\n",
    "#                   'VUA', # 15157\n",
    "                 ] \n",
    "training_args = TrainingArgs(selected_tasks=selected_tasks,\n",
    "                             base_model_name='bert-base-uncased',\n",
    "                             freeze_bert=False,\n",
    "                             use_pooler=True,\n",
    "                             num_epoch=5,\n",
    "                             data_limit=30000,\n",
    "                            )\n",
    "\n",
    "model = init_model(training_args)\n",
    "freeze_model(model, training_args.freeze_bert)\n",
    "df_evaluation, df_loss_per_step, model = train_model(model, training_args)\n",
    "\n",
    "eval_dataloader = MultiTaskTestDataLoader(training_args, split='dev')\n",
    "attn_entropy, head_importance, preds, labels = compute_heads_importance(model, eval_dataloader, training_args)\n",
    "\n",
    "imshow(attn_entropy)\n",
    "imshow(head_importance)\n"
   ]
  },
  {
   "cell_type": "markdown",
   "id": "93684d49",
   "metadata": {},
   "source": [
    "# unfreeze, without pooler, limit 30000"
   ]
  },
  {
   "cell_type": "code",
   "execution_count": null,
   "id": "e5d8c213",
   "metadata": {},
   "outputs": [
    {
     "name": "stderr",
     "output_type": "stream",
     "text": [
      "Some weights of the model checkpoint at bert-base-uncased were not used when initializing BertModel: ['cls.predictions.transform.dense.weight', 'cls.predictions.transform.LayerNorm.weight', 'cls.predictions.decoder.weight', 'cls.seq_relationship.weight', 'cls.predictions.bias', 'cls.predictions.transform.LayerNorm.bias', 'cls.predictions.transform.dense.bias', 'cls.seq_relationship.bias']\n",
      "- This IS expected if you are initializing BertModel from the checkpoint of a model trained on another task or with another architecture (e.g. initializing a BertForSequenceClassification model from a BertForPreTraining model).\n",
      "- This IS NOT expected if you are initializing BertModel from the checkpoint of a model that you expect to be exactly identical (initializing a BertForSequenceClassification model from a BertForSequenceClassification model).\n"
     ]
    },
    {
     "data": {
      "application/vnd.jupyter.widget-view+json": {
       "model_id": "08b15da5d65b4cac82230ae370d510a9",
       "version_major": 2,
       "version_minor": 0
      },
      "text/plain": [
       "  0%|          | 0/14070 [00:00<?, ?it/s]"
      ]
     },
     "metadata": {},
     "output_type": "display_data"
    },
    {
     "data": {
      "application/vnd.jupyter.widget-view+json": {
       "model_id": "",
       "version_major": 2,
       "version_minor": 0
      },
      "text/plain": [
       "  0%|          | 0/2814 [00:00<?, ?it/s]"
      ]
     },
     "metadata": {},
     "output_type": "display_data"
    },
    {
     "data": {
      "application/vnd.jupyter.widget-view+json": {
       "model_id": "",
       "version_major": 2,
       "version_minor": 0
      },
      "text/plain": [
       "  0%|          | 0/1130 [00:00<?, ?it/s]"
      ]
     },
     "metadata": {},
     "output_type": "display_data"
    },
    {
     "data": {
      "application/vnd.jupyter.widget-view+json": {
       "model_id": "",
       "version_major": 2,
       "version_minor": 0
      },
      "text/plain": [
       "  0%|          | 0/2814 [00:00<?, ?it/s]"
      ]
     },
     "metadata": {},
     "output_type": "display_data"
    },
    {
     "data": {
      "application/vnd.jupyter.widget-view+json": {
       "model_id": "",
       "version_major": 2,
       "version_minor": 0
      },
      "text/plain": [
       "  0%|          | 0/1130 [00:00<?, ?it/s]"
      ]
     },
     "metadata": {},
     "output_type": "display_data"
    },
    {
     "data": {
      "application/vnd.jupyter.widget-view+json": {
       "model_id": "",
       "version_major": 2,
       "version_minor": 0
      },
      "text/plain": [
       "  0%|          | 0/2814 [00:00<?, ?it/s]"
      ]
     },
     "metadata": {},
     "output_type": "display_data"
    },
    {
     "data": {
      "application/vnd.jupyter.widget-view+json": {
       "model_id": "",
       "version_major": 2,
       "version_minor": 0
      },
      "text/plain": [
       "  0%|          | 0/1130 [00:00<?, ?it/s]"
      ]
     },
     "metadata": {},
     "output_type": "display_data"
    },
    {
     "data": {
      "application/vnd.jupyter.widget-view+json": {
       "model_id": "",
       "version_major": 2,
       "version_minor": 0
      },
      "text/plain": [
       "  0%|          | 0/2814 [00:00<?, ?it/s]"
      ]
     },
     "metadata": {},
     "output_type": "display_data"
    },
    {
     "data": {
      "application/vnd.jupyter.widget-view+json": {
       "model_id": "",
       "version_major": 2,
       "version_minor": 0
      },
      "text/plain": [
       "  0%|          | 0/1130 [00:00<?, ?it/s]"
      ]
     },
     "metadata": {},
     "output_type": "display_data"
    },
    {
     "data": {
      "application/vnd.jupyter.widget-view+json": {
       "model_id": "",
       "version_major": 2,
       "version_minor": 0
      },
      "text/plain": [
       "  0%|          | 0/2814 [00:00<?, ?it/s]"
      ]
     },
     "metadata": {},
     "output_type": "display_data"
    },
    {
     "data": {
      "application/vnd.jupyter.widget-view+json": {
       "model_id": "",
       "version_major": 2,
       "version_minor": 0
      },
      "text/plain": [
       "  0%|          | 0/1130 [00:00<?, ?it/s]"
      ]
     },
     "metadata": {},
     "output_type": "display_data"
    },
    {
     "data": {
      "text/html": [
       "<div>\n",
       "<style scoped>\n",
       "    .dataframe tbody tr th:only-of-type {\n",
       "        vertical-align: middle;\n",
       "    }\n",
       "\n",
       "    .dataframe tbody tr th {\n",
       "        vertical-align: top;\n",
       "    }\n",
       "\n",
       "    .dataframe thead th {\n",
       "        text-align: right;\n",
       "    }\n",
       "</style>\n",
       "<table border=\"1\" class=\"dataframe\">\n",
       "  <thead>\n",
       "    <tr style=\"text-align: right;\">\n",
       "      <th></th>\n",
       "      <th>i_epoch</th>\n",
       "      <th>train_loss</th>\n",
       "      <th>train_loss_PASTEL_country</th>\n",
       "      <th>train_loss_SARC</th>\n",
       "      <th>train_loss_ShortHumor</th>\n",
       "      <th>train_acc</th>\n",
       "      <th>train_acc_PASTEL_country</th>\n",
       "      <th>train_acc_SARC</th>\n",
       "      <th>train_acc_ShortHumor</th>\n",
       "      <th>val_loss</th>\n",
       "      <th>val_loss_PASTEL_country</th>\n",
       "      <th>val_loss_SARC</th>\n",
       "      <th>val_loss_ShortHumor</th>\n",
       "      <th>val_acc</th>\n",
       "      <th>val_acc_PASTEL_country</th>\n",
       "      <th>val_acc_SARC</th>\n",
       "      <th>val_acc_ShortHumor</th>\n",
       "    </tr>\n",
       "  </thead>\n",
       "  <tbody>\n",
       "    <tr>\n",
       "      <th>0</th>\n",
       "      <td>0.0</td>\n",
       "      <td>0.618969</td>\n",
       "      <td>0.077523</td>\n",
       "      <td>0.489774</td>\n",
       "      <td>0.051672</td>\n",
       "      <td>0.916656</td>\n",
       "      <td>0.979033</td>\n",
       "      <td>0.786367</td>\n",
       "      <td>0.984567</td>\n",
       "      <td>0.824371</td>\n",
       "      <td>0.099392</td>\n",
       "      <td>0.586945</td>\n",
       "      <td>0.138035</td>\n",
       "      <td>0.736523</td>\n",
       "      <td>0.976403</td>\n",
       "      <td>0.689100</td>\n",
       "      <td>0.951589</td>\n",
       "    </tr>\n",
       "    <tr>\n",
       "      <th>1</th>\n",
       "      <td>1.0</td>\n",
       "      <td>0.308679</td>\n",
       "      <td>0.042283</td>\n",
       "      <td>0.249061</td>\n",
       "      <td>0.017336</td>\n",
       "      <td>0.961667</td>\n",
       "      <td>0.987300</td>\n",
       "      <td>0.903633</td>\n",
       "      <td>0.994067</td>\n",
       "      <td>1.048600</td>\n",
       "      <td>0.109557</td>\n",
       "      <td>0.707261</td>\n",
       "      <td>0.231781</td>\n",
       "      <td>0.731985</td>\n",
       "      <td>0.973272</td>\n",
       "      <td>0.684567</td>\n",
       "      <td>0.944024</td>\n",
       "    </tr>\n",
       "    <tr>\n",
       "      <th>2</th>\n",
       "      <td>2.0</td>\n",
       "      <td>0.129702</td>\n",
       "      <td>0.009704</td>\n",
       "      <td>0.117767</td>\n",
       "      <td>0.002232</td>\n",
       "      <td>0.984278</td>\n",
       "      <td>0.996933</td>\n",
       "      <td>0.956467</td>\n",
       "      <td>0.999433</td>\n",
       "      <td>1.337599</td>\n",
       "      <td>0.144359</td>\n",
       "      <td>1.001102</td>\n",
       "      <td>0.192137</td>\n",
       "      <td>0.730020</td>\n",
       "      <td>0.973754</td>\n",
       "      <td>0.681400</td>\n",
       "      <td>0.955119</td>\n",
       "    </tr>\n",
       "    <tr>\n",
       "      <th>3</th>\n",
       "      <td>3.0</td>\n",
       "      <td>0.043874</td>\n",
       "      <td>0.004764</td>\n",
       "      <td>0.037361</td>\n",
       "      <td>0.001749</td>\n",
       "      <td>0.995433</td>\n",
       "      <td>0.998833</td>\n",
       "      <td>0.987967</td>\n",
       "      <td>0.999500</td>\n",
       "      <td>1.622072</td>\n",
       "      <td>0.163732</td>\n",
       "      <td>1.220888</td>\n",
       "      <td>0.237453</td>\n",
       "      <td>0.726921</td>\n",
       "      <td>0.971346</td>\n",
       "      <td>0.678300</td>\n",
       "      <td>0.950580</td>\n",
       "    </tr>\n",
       "    <tr>\n",
       "      <th>4</th>\n",
       "      <td>4.0</td>\n",
       "      <td>0.017129</td>\n",
       "      <td>0.001425</td>\n",
       "      <td>0.015138</td>\n",
       "      <td>0.000566</td>\n",
       "      <td>0.998278</td>\n",
       "      <td>0.999800</td>\n",
       "      <td>0.995100</td>\n",
       "      <td>0.999933</td>\n",
       "      <td>1.801403</td>\n",
       "      <td>0.177012</td>\n",
       "      <td>1.415681</td>\n",
       "      <td>0.208710</td>\n",
       "      <td>0.728692</td>\n",
       "      <td>0.973754</td>\n",
       "      <td>0.679667</td>\n",
       "      <td>0.957136</td>\n",
       "    </tr>\n",
       "  </tbody>\n",
       "</table>\n",
       "</div>"
      ],
      "text/plain": [
       "   i_epoch  train_loss  train_loss_PASTEL_country  train_loss_SARC  \\\n",
       "0      0.0    0.618969                   0.077523         0.489774   \n",
       "1      1.0    0.308679                   0.042283         0.249061   \n",
       "2      2.0    0.129702                   0.009704         0.117767   \n",
       "3      3.0    0.043874                   0.004764         0.037361   \n",
       "4      4.0    0.017129                   0.001425         0.015138   \n",
       "\n",
       "   train_loss_ShortHumor  train_acc  train_acc_PASTEL_country  train_acc_SARC  \\\n",
       "0               0.051672   0.916656                  0.979033        0.786367   \n",
       "1               0.017336   0.961667                  0.987300        0.903633   \n",
       "2               0.002232   0.984278                  0.996933        0.956467   \n",
       "3               0.001749   0.995433                  0.998833        0.987967   \n",
       "4               0.000566   0.998278                  0.999800        0.995100   \n",
       "\n",
       "   train_acc_ShortHumor  val_loss  val_loss_PASTEL_country  val_loss_SARC  \\\n",
       "0              0.984567  0.824371                 0.099392       0.586945   \n",
       "1              0.994067  1.048600                 0.109557       0.707261   \n",
       "2              0.999433  1.337599                 0.144359       1.001102   \n",
       "3              0.999500  1.622072                 0.163732       1.220888   \n",
       "4              0.999933  1.801403                 0.177012       1.415681   \n",
       "\n",
       "   val_loss_ShortHumor   val_acc  val_acc_PASTEL_country  val_acc_SARC  \\\n",
       "0             0.138035  0.736523                0.976403      0.689100   \n",
       "1             0.231781  0.731985                0.973272      0.684567   \n",
       "2             0.192137  0.730020                0.973754      0.681400   \n",
       "3             0.237453  0.726921                0.971346      0.678300   \n",
       "4             0.208710  0.728692                0.973754      0.679667   \n",
       "\n",
       "   val_acc_ShortHumor  \n",
       "0            0.951589  \n",
       "1            0.944024  \n",
       "2            0.955119  \n",
       "3            0.950580  \n",
       "4            0.957136  "
      ]
     },
     "metadata": {},
     "output_type": "display_data"
    },
    {
     "data": {
      "application/vnd.jupyter.widget-view+json": {
       "model_id": "fdc7e08125724fc7b42b3d7ead74b539",
       "version_major": 2,
       "version_minor": 0
      },
      "text/plain": [
       "Iteration:   0%|          | 0/1130 [00:00<?, ?it/s]"
      ]
     },
     "metadata": {},
     "output_type": "display_data"
    },
    {
     "data": {
      "image/png": "[encoded data removed]",
      "text/plain": [
       "<Figure size 432x288 with 1 Axes>"
      ]
     },
     "metadata": {
      "needs_background": "light"
     },
     "output_type": "display_data"
    },
    {
     "data": {
      "image/png": "[encoded data removed]",
      "text/plain": [
       "<Figure size 432x288 with 1 Axes>"
      ]
     },
     "metadata": {
      "needs_background": "light"
     },
     "output_type": "display_data"
    }
   ],
   "source": [
    "selected_tasks = ['PASTEL_country', # 33224\n",
    "                  'SARC', # 205645\n",
    "#                   'SarcasmGhosh', # 39780\n",
    "                  'ShortHumor', # 37801\n",
    "#                   'ShortJokeKaggle', # 406682\n",
    "#                   'ShortRomance', # 1902\n",
    "#                   'TroFi', # 3335\n",
    "#                   'VUA', # 15157\n",
    "                 ] \n",
    "training_args = TrainingArgs(selected_tasks=selected_tasks,\n",
    "                             base_model_name='bert-base-uncased',\n",
    "                             freeze_bert=False,\n",
    "                             use_pooler=False,\n",
    "                             num_epoch=5,\n",
    "                             data_limit=30000,\n",
    "                            )\n",
    "\n",
    "model = init_model(training_args)\n",
    "freeze_model(model, training_args.freeze_bert)\n",
    "df_evaluation, df_loss_per_step, model = train_model(model, training_args)\n",
    "\n",
    "eval_dataloader = MultiTaskTestDataLoader(training_args, split='dev')\n",
    "attn_entropy, head_importance, preds, labels = compute_heads_importance(model, eval_dataloader, training_args)\n",
    "\n",
    "imshow(attn_entropy)\n",
    "imshow(head_importance)\n"
   ]
  },
  {
   "cell_type": "markdown",
   "id": "52b6559a",
   "metadata": {},
   "source": [
    "# freeze 6, without pooler, limit 30000"
   ]
  },
  {
   "cell_type": "code",
   "execution_count": null,
   "id": "873c36f1",
   "metadata": {},
   "outputs": [
    {
     "name": "stderr",
     "output_type": "stream",
     "text": [
      "Some weights of the model checkpoint at bert-base-uncased were not used when initializing BertModel: ['cls.predictions.transform.dense.weight', 'cls.predictions.transform.LayerNorm.weight', 'cls.predictions.decoder.weight', 'cls.seq_relationship.weight', 'cls.predictions.bias', 'cls.predictions.transform.LayerNorm.bias', 'cls.predictions.transform.dense.bias', 'cls.seq_relationship.bias']\n",
      "- This IS expected if you are initializing BertModel from the checkpoint of a model trained on another task or with another architecture (e.g. initializing a BertForSequenceClassification model from a BertForPreTraining model).\n",
      "- This IS NOT expected if you are initializing BertModel from the checkpoint of a model that you expect to be exactly identical (initializing a BertForSequenceClassification model from a BertForSequenceClassification model).\n"
     ]
    },
    {
     "data": {
      "application/vnd.jupyter.widget-view+json": {
       "model_id": "f1cd6cde451f4d42a0efc3a9f5eeef44",
       "version_major": 2,
       "version_minor": 0
      },
      "text/plain": [
       "  0%|          | 0/14070 [00:00<?, ?it/s]"
      ]
     },
     "metadata": {},
     "output_type": "display_data"
    },
    {
     "data": {
      "application/vnd.jupyter.widget-view+json": {
       "model_id": "",
       "version_major": 2,
       "version_minor": 0
      },
      "text/plain": [
       "  0%|          | 0/2814 [00:00<?, ?it/s]"
      ]
     },
     "metadata": {},
     "output_type": "display_data"
    },
    {
     "data": {
      "application/vnd.jupyter.widget-view+json": {
       "model_id": "",
       "version_major": 2,
       "version_minor": 0
      },
      "text/plain": [
       "  0%|          | 0/1130 [00:00<?, ?it/s]"
      ]
     },
     "metadata": {},
     "output_type": "display_data"
    },
    {
     "data": {
      "application/vnd.jupyter.widget-view+json": {
       "model_id": "",
       "version_major": 2,
       "version_minor": 0
      },
      "text/plain": [
       "  0%|          | 0/2814 [00:00<?, ?it/s]"
      ]
     },
     "metadata": {},
     "output_type": "display_data"
    },
    {
     "data": {
      "application/vnd.jupyter.widget-view+json": {
       "model_id": "",
       "version_major": 2,
       "version_minor": 0
      },
      "text/plain": [
       "  0%|          | 0/1130 [00:00<?, ?it/s]"
      ]
     },
     "metadata": {},
     "output_type": "display_data"
    },
    {
     "data": {
      "application/vnd.jupyter.widget-view+json": {
       "model_id": "",
       "version_major": 2,
       "version_minor": 0
      },
      "text/plain": [
       "  0%|          | 0/2814 [00:00<?, ?it/s]"
      ]
     },
     "metadata": {},
     "output_type": "display_data"
    },
    {
     "data": {
      "application/vnd.jupyter.widget-view+json": {
       "model_id": "",
       "version_major": 2,
       "version_minor": 0
      },
      "text/plain": [
       "  0%|          | 0/1130 [00:00<?, ?it/s]"
      ]
     },
     "metadata": {},
     "output_type": "display_data"
    },
    {
     "data": {
      "application/vnd.jupyter.widget-view+json": {
       "model_id": "",
       "version_major": 2,
       "version_minor": 0
      },
      "text/plain": [
       "  0%|          | 0/2814 [00:00<?, ?it/s]"
      ]
     },
     "metadata": {},
     "output_type": "display_data"
    },
    {
     "data": {
      "application/vnd.jupyter.widget-view+json": {
       "model_id": "",
       "version_major": 2,
       "version_minor": 0
      },
      "text/plain": [
       "  0%|          | 0/1130 [00:00<?, ?it/s]"
      ]
     },
     "metadata": {},
     "output_type": "display_data"
    },
    {
     "data": {
      "application/vnd.jupyter.widget-view+json": {
       "model_id": "",
       "version_major": 2,
       "version_minor": 0
      },
      "text/plain": [
       "  0%|          | 0/2814 [00:00<?, ?it/s]"
      ]
     },
     "metadata": {},
     "output_type": "display_data"
    },
    {
     "data": {
      "application/vnd.jupyter.widget-view+json": {
       "model_id": "",
       "version_major": 2,
       "version_minor": 0
      },
      "text/plain": [
       "  0%|          | 0/1130 [00:00<?, ?it/s]"
      ]
     },
     "metadata": {},
     "output_type": "display_data"
    },
    {
     "data": {
      "text/html": [
       "<div>\n",
       "<style scoped>\n",
       "    .dataframe tbody tr th:only-of-type {\n",
       "        vertical-align: middle;\n",
       "    }\n",
       "\n",
       "    .dataframe tbody tr th {\n",
       "        vertical-align: top;\n",
       "    }\n",
       "\n",
       "    .dataframe thead th {\n",
       "        text-align: right;\n",
       "    }\n",
       "</style>\n",
       "<table border=\"1\" class=\"dataframe\">\n",
       "  <thead>\n",
       "    <tr style=\"text-align: right;\">\n",
       "      <th></th>\n",
       "      <th>i_epoch</th>\n",
       "      <th>train_loss</th>\n",
       "      <th>train_loss_PASTEL_country</th>\n",
       "      <th>train_loss_SARC</th>\n",
       "      <th>train_loss_ShortHumor</th>\n",
       "      <th>train_acc</th>\n",
       "      <th>train_acc_PASTEL_country</th>\n",
       "      <th>train_acc_SARC</th>\n",
       "      <th>train_acc_ShortHumor</th>\n",
       "      <th>val_loss</th>\n",
       "      <th>val_loss_PASTEL_country</th>\n",
       "      <th>val_loss_SARC</th>\n",
       "      <th>val_loss_ShortHumor</th>\n",
       "      <th>val_acc</th>\n",
       "      <th>val_acc_PASTEL_country</th>\n",
       "      <th>val_acc_SARC</th>\n",
       "      <th>val_acc_ShortHumor</th>\n",
       "    </tr>\n",
       "  </thead>\n",
       "  <tbody>\n",
       "    <tr>\n",
       "      <th>0</th>\n",
       "      <td>0.0</td>\n",
       "      <td>0.614119</td>\n",
       "      <td>0.075873</td>\n",
       "      <td>0.497105</td>\n",
       "      <td>0.041141</td>\n",
       "      <td>0.912944</td>\n",
       "      <td>0.979167</td>\n",
       "      <td>0.771400</td>\n",
       "      <td>0.988267</td>\n",
       "      <td>0.811337</td>\n",
       "      <td>0.099676</td>\n",
       "      <td>0.585552</td>\n",
       "      <td>0.126108</td>\n",
       "      <td>0.736495</td>\n",
       "      <td>0.976403</td>\n",
       "      <td>0.688900</td>\n",
       "      <td>0.954110</td>\n",
       "    </tr>\n",
       "    <tr>\n",
       "      <th>1</th>\n",
       "      <td>1.0</td>\n",
       "      <td>0.378735</td>\n",
       "      <td>0.044275</td>\n",
       "      <td>0.323839</td>\n",
       "      <td>0.010621</td>\n",
       "      <td>0.951200</td>\n",
       "      <td>0.985467</td>\n",
       "      <td>0.871200</td>\n",
       "      <td>0.996933</td>\n",
       "      <td>0.873292</td>\n",
       "      <td>0.107825</td>\n",
       "      <td>0.616286</td>\n",
       "      <td>0.149181</td>\n",
       "      <td>0.739706</td>\n",
       "      <td>0.976643</td>\n",
       "      <td>0.692667</td>\n",
       "      <td>0.955119</td>\n",
       "    </tr>\n",
       "    <tr>\n",
       "      <th>2</th>\n",
       "      <td>2.0</td>\n",
       "      <td>0.210085</td>\n",
       "      <td>0.015256</td>\n",
       "      <td>0.192249</td>\n",
       "      <td>0.002581</td>\n",
       "      <td>0.973333</td>\n",
       "      <td>0.995233</td>\n",
       "      <td>0.925467</td>\n",
       "      <td>0.999300</td>\n",
       "      <td>1.200318</td>\n",
       "      <td>0.132130</td>\n",
       "      <td>0.874341</td>\n",
       "      <td>0.193847</td>\n",
       "      <td>0.716709</td>\n",
       "      <td>0.975680</td>\n",
       "      <td>0.664933</td>\n",
       "      <td>0.957640</td>\n",
       "    </tr>\n",
       "    <tr>\n",
       "      <th>3</th>\n",
       "      <td>3.0</td>\n",
       "      <td>0.080849</td>\n",
       "      <td>0.006916</td>\n",
       "      <td>0.072218</td>\n",
       "      <td>0.001715</td>\n",
       "      <td>0.991744</td>\n",
       "      <td>0.998200</td>\n",
       "      <td>0.977467</td>\n",
       "      <td>0.999567</td>\n",
       "      <td>1.354491</td>\n",
       "      <td>0.138099</td>\n",
       "      <td>1.000589</td>\n",
       "      <td>0.215803</td>\n",
       "      <td>0.723517</td>\n",
       "      <td>0.972791</td>\n",
       "      <td>0.673633</td>\n",
       "      <td>0.956127</td>\n",
       "    </tr>\n",
       "    <tr>\n",
       "      <th>4</th>\n",
       "      <td>4.0</td>\n",
       "      <td>0.034511</td>\n",
       "      <td>0.001926</td>\n",
       "      <td>0.031920</td>\n",
       "      <td>0.000665</td>\n",
       "      <td>0.996622</td>\n",
       "      <td>0.999667</td>\n",
       "      <td>0.990333</td>\n",
       "      <td>0.999867</td>\n",
       "      <td>1.554561</td>\n",
       "      <td>0.161097</td>\n",
       "      <td>1.190707</td>\n",
       "      <td>0.202757</td>\n",
       "      <td>0.730380</td>\n",
       "      <td>0.975439</td>\n",
       "      <td>0.681300</td>\n",
       "      <td>0.959657</td>\n",
       "    </tr>\n",
       "  </tbody>\n",
       "</table>\n",
       "</div>"
      ],
      "text/plain": [
       "   i_epoch  train_loss  train_loss_PASTEL_country  train_loss_SARC  \\\n",
       "0      0.0    0.614119                   0.075873         0.497105   \n",
       "1      1.0    0.378735                   0.044275         0.323839   \n",
       "2      2.0    0.210085                   0.015256         0.192249   \n",
       "3      3.0    0.080849                   0.006916         0.072218   \n",
       "4      4.0    0.034511                   0.001926         0.031920   \n",
       "\n",
       "   train_loss_ShortHumor  train_acc  train_acc_PASTEL_country  train_acc_SARC  \\\n",
       "0               0.041141   0.912944                  0.979167        0.771400   \n",
       "1               0.010621   0.951200                  0.985467        0.871200   \n",
       "2               0.002581   0.973333                  0.995233        0.925467   \n",
       "3               0.001715   0.991744                  0.998200        0.977467   \n",
       "4               0.000665   0.996622                  0.999667        0.990333   \n",
       "\n",
       "   train_acc_ShortHumor  val_loss  val_loss_PASTEL_country  val_loss_SARC  \\\n",
       "0              0.988267  0.811337                 0.099676       0.585552   \n",
       "1              0.996933  0.873292                 0.107825       0.616286   \n",
       "2              0.999300  1.200318                 0.132130       0.874341   \n",
       "3              0.999567  1.354491                 0.138099       1.000589   \n",
       "4              0.999867  1.554561                 0.161097       1.190707   \n",
       "\n",
       "   val_loss_ShortHumor   val_acc  val_acc_PASTEL_country  val_acc_SARC  \\\n",
       "0             0.126108  0.736495                0.976403      0.688900   \n",
       "1             0.149181  0.739706                0.976643      0.692667   \n",
       "2             0.193847  0.716709                0.975680      0.664933   \n",
       "3             0.215803  0.723517                0.972791      0.673633   \n",
       "4             0.202757  0.730380                0.975439      0.681300   \n",
       "\n",
       "   val_acc_ShortHumor  \n",
       "0            0.954110  \n",
       "1            0.955119  \n",
       "2            0.957640  \n",
       "3            0.956127  \n",
       "4            0.959657  "
      ]
     },
     "metadata": {},
     "output_type": "display_data"
    },
    {
     "data": {
      "application/vnd.jupyter.widget-view+json": {
       "model_id": "37ae38e972ee4c0aaa59e4697cf2b0a4",
       "version_major": 2,
       "version_minor": 0
      },
      "text/plain": [
       "Iteration:   0%|          | 0/1130 [00:00<?, ?it/s]"
      ]
     },
     "metadata": {},
     "output_type": "display_data"
    },
    {
     "data": {
      "image/png": "[encoded data removed]",
      "text/plain": [
       "<Figure size 432x288 with 1 Axes>"
      ]
     },
     "metadata": {
      "needs_background": "light"
     },
     "output_type": "display_data"
    },
    {
     "data": {
      "image/png": "[encoded data removed]",
      "text/plain": [
       "<Figure size 432x288 with 1 Axes>"
      ]
     },
     "metadata": {
      "needs_background": "light"
     },
     "output_type": "display_data"
    }
   ],
   "source": [
    "selected_tasks = ['PASTEL_country', # 33224\n",
    "                  'SARC', # 205645\n",
    "#                   'SarcasmGhosh', # 39780\n",
    "                  'ShortHumor', # 37801\n",
    "#                   'ShortJokeKaggle', # 406682\n",
    "#                   'ShortRomance', # 1902\n",
    "#                   'TroFi', # 3335\n",
    "#                   'VUA', # 15157\n",
    "                 ] \n",
    "training_args = TrainingArgs(selected_tasks=selected_tasks,\n",
    "                             base_model_name='bert-base-uncased',\n",
    "                             freeze_bert=6,\n",
    "                             use_pooler=False,\n",
    "                             num_epoch=5,\n",
    "                             data_limit=30000,\n",
    "                            )\n",
    "\n",
    "model = init_model(training_args)\n",
    "freeze_model(model, training_args.freeze_bert)\n",
    "df_evaluation, df_loss_per_step, model = train_model(model, training_args)\n",
    "\n",
    "eval_dataloader = MultiTaskTestDataLoader(training_args, split='dev')\n",
    "attn_entropy, head_importance, preds, labels = compute_heads_importance(model, eval_dataloader, training_args)\n",
    "\n",
    "imshow(attn_entropy)\n",
    "imshow(head_importance)\n"
   ]
  }
 ],
 "metadata": {
  "kernelspec": {
   "display_name": "Python 3 (ipykernel)",
   "language": "python",
   "name": "python3"
  }
 },
 "nbformat": 4,
 "nbformat_minor": 5
}
