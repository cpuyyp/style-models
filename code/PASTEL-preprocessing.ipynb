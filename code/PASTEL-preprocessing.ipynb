{
 "cells": [
  {
   "cell_type": "markdown",
   "id": "1598e27b",
   "metadata": {},
   "source": [
    "<h1>Table of Contents<span class=\"tocSkip\"></span></h1>\n",
    "<div class=\"toc\"><ul class=\"toc-item\"><li><span><a href=\"#Preprocessing-all-datasets\" data-toc-modified-id=\"Preprocessing-all-datasets-1\"><span class=\"toc-item-num\">1&nbsp;&nbsp;</span>Preprocessing all datasets</a></span></li><li><span><a href=\"#PASTEL-sentences\" data-toc-modified-id=\"PASTEL-sentences-2\"><span class=\"toc-item-num\">2&nbsp;&nbsp;</span>PASTEL sentences</a></span></li><li><span><a href=\"#PASTEL-sentences-mask-label\" data-toc-modified-id=\"PASTEL-sentences-mask-label-3\"><span class=\"toc-item-num\">3&nbsp;&nbsp;</span>PASTEL sentences mask label</a></span></li></ul></div>"
   ]
  },
  {
   "cell_type": "markdown",
   "id": "90028d8f",
   "metadata": {},
   "source": [
    "# Preprocessing all datasets \n",
    "The purpose is making all files have exactly the same columns \"index\", \"text\", and \"label\".  \n",
    "A dictionary named tasks is also generated, specifying number of labels for each task. If number of labels is one, means it's a regression task\n",
    "\n",
    "Classification tasks are transformed into 0-indexed labels, while regression tasks are transformed with MinMaxScaler"
   ]
  },
  {
   "cell_type": "code",
   "execution_count": null,
   "id": "a4323776",
   "metadata": {},
   "outputs": [],
   "source": [
    "import os \n",
    "import pandas as pd\n",
    "import numpy as np\n",
    "import json\n",
    "from sklearn import preprocessing\n",
    "from pathlib import Path\n",
    "from tqdm.auto import tqdm, trange\n",
    "import matplotlib.pyplot as plt"
   ]
  },
  {
   "cell_type": "code",
   "execution_count": null,
   "id": "226f4608",
   "metadata": {},
   "outputs": [],
   "source": [
    "data_folder = '../data'"
   ]
  },
  {
   "cell_type": "markdown",
   "id": "638c32cc",
   "metadata": {},
   "source": [
    "# PASTEL sentences"
   ]
  },
  {
   "cell_type": "code",
   "execution_count": null,
   "id": "4aadb85c",
   "metadata": {},
   "outputs": [],
   "source": [
    "pastel_tasks = {}\n",
    "les = {}\n",
    "split = ['train', 'test', 'valid']\n",
    "cols = ['output.sentences', 'country', 'politics', 'tod', 'age', 'education', 'ethnic', 'gender']\n",
    "for s in split:\n",
    "    input_data_path = f'{data_folder}/pastel/raw/v2/sentences/{s}'\n",
    "    output_data_path = f'{data_folder}/pastel/processed/{s}'\n",
    "    Path(output_data_path).mkdir(parents=True, exist_ok=True)\n",
    "\n",
    "    files = os.listdir(input_data_path)\n",
    "    df = pd.DataFrame()\n",
    "    for file in files:\n",
    "        with open(f'{input_data_path}/{file}') as f:\n",
    "            l = json.load(f)\n",
    "            \n",
    "        l.update(l['persona'])\n",
    "        del l['persona']\n",
    "        df = df.append(l, ignore_index=True)\n",
    "        df = df[cols]\n",
    "        df.to_csv(f'{data_folder}/pastel/raw/raw_{s}_sentences.csv', index=False)\n",
    "    \n",
    "    if s == 'train':\n",
    "        for col in cols[1:]:\n",
    "            num_label = len(df[col].unique())\n",
    "            pastel_tasks[col] = num_label \n",
    "            le = preprocessing.LabelEncoder()\n",
    "            df[col] = le.fit_transform(df[col])\n",
    "            les[col] = le\n",
    "    else:\n",
    "        for col in cols[1:]:\n",
    "            df[col] = les[col].transform(df[col])\n",
    "    \n",
    "    df.to_csv(os.path.join(output_data_path, 'pastel.csv'), index=False)\n"
   ]
  },
  {
   "cell_type": "code",
   "execution_count": null,
   "id": "ff7124a9",
   "metadata": {},
   "outputs": [],
   "source": [
    "with open(os.path.join(f'{data_folder}/pastel', 'pastel_tasks2labels.json'), 'w') as f:\n",
    "    json.dump(pastel_tasks, f)"
   ]
  },
  {
   "cell_type": "markdown",
   "id": "fa47b67f",
   "metadata": {},
   "source": [
    "# PASTEL sentences mask label"
   ]
  },
  {
   "cell_type": "code",
   "execution_count": null,
   "id": "df0a2ea1",
   "metadata": {},
   "outputs": [],
   "source": [
    "p = 0.8  # probability to mask the label as -1\n",
    "\n",
    "df = pd.read_csv(f'{data_folder}/pastel/processed/train/pastel.csv')\n",
    "df_copy = df.copy()\n",
    "masked_output_path = f'{data_folder}/pastel/processed/p={p}_masked_train'\n",
    "Path(masked_output_path).mkdir(parents=True, exist_ok=True)\n",
    "unmasked_output_path = f'{data_folder}/pastel/processed/p={p}_unmasked_train'\n",
    "Path(unmasked_output_path).mkdir(parents=True, exist_ok=True)\n",
    "\n",
    "    \n",
    "mask = np.random.rand(len(df), len(pastel_tasks)) < p\n",
    "values = df[['country','politics','tod','age','education','ethnic','gender']].values\n",
    "values[mask] = -1\n",
    "df[['country','politics','tod','age','education','ethnic','gender']] = values\n",
    "\n",
    "# for each task, save a masked csv and an unmasked one. The unmasked is used to train a classifier. \n",
    "# The trained classifier will be used to generate labels for the masked.\n",
    "for task in pastel_tasks:\n",
    "    df_temp = df_copy[['output.sentences', task]]\n",
    "    df_masked = df_temp[df[task]==-1]\n",
    "    df_masked.to_csv(f'{masked_output_path}/masked_{task}.csv', index=False)\n",
    "    df_unmasked = df_temp[df[task]!=-1]    \n",
    "    df_unmasked.to_csv(f'{unmasked_output_path}/unmasked_{task}.csv', index=False)\n",
    "    "
   ]
  },
  {
   "cell_type": "code",
   "execution_count": null,
   "id": "82698870",
   "metadata": {},
   "outputs": [],
   "source": []
  }
 ],
 "metadata": {
  "kernelspec": {
   "display_name": "Python 3 (ipykernel)",
   "language": "python",
   "name": "python3"
  }
 },
 "nbformat": 4,
 "nbformat_minor": 5
}
