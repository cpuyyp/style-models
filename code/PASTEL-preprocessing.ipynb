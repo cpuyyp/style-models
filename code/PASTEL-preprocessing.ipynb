{
 "cells": [
  {
   "cell_type": "markdown",
   "id": "e6822c17",
   "metadata": {},
   "source": [
    "<h1>Table of Contents<span class=\"tocSkip\"></span></h1>\n",
    "<div class=\"toc\"><ul class=\"toc-item\"><li><span><a href=\"#Preprocessing-all-datasets\" data-toc-modified-id=\"Preprocessing-all-datasets-1\"><span class=\"toc-item-num\">1&nbsp;&nbsp;</span>Preprocessing all datasets</a></span></li><li><span><a href=\"#PASTEL-sentences\" data-toc-modified-id=\"PASTEL-sentences-2\"><span class=\"toc-item-num\">2&nbsp;&nbsp;</span>PASTEL sentences</a></span></li></ul></div>"
   ]
  },
  {
   "cell_type": "markdown",
   "id": "90028d8f",
   "metadata": {},
   "source": [
    "# Preprocessing all datasets \n",
    "The purpose is making all files have exactly the same columns \"index\", \"text\", and \"label\".  \n",
    "A dictionary named tasks is also generated, specifying number of labels for each task. If number of labels is one, means it's a regression task\n",
    "\n",
    "Classification tasks are transformed into 0-indexed labels, while regression tasks are transformed with MinMaxScaler"
   ]
  },
  {
   "cell_type": "code",
   "execution_count": null,
   "id": "a4323776",
   "metadata": {},
   "outputs": [],
   "source": [
    "import os \n",
    "import pandas as pd\n",
    "import json\n",
    "from sklearn import preprocessing\n",
    "from pathlib import Path\n",
    "from tqdm.auto import tqdm, trange"
   ]
  },
  {
   "cell_type": "code",
   "execution_count": null,
   "id": "226f4608",
   "metadata": {},
   "outputs": [],
   "source": [
    "data_folder = '../data'"
   ]
  },
  {
   "cell_type": "markdown",
   "id": "e285277e",
   "metadata": {},
   "source": [
    "# PASTEL sentences"
   ]
  },
  {
   "cell_type": "code",
   "execution_count": null,
   "id": "20fbaef1",
   "metadata": {},
   "outputs": [],
   "source": [
    "pastel_tasks = {}\n",
    "les = {}\n",
    "split = ['train', 'test', 'valid']\n",
    "cols = ['output.sentences', 'country', 'politics', 'tod', 'age', 'education', 'ethnic', 'gender']\n",
    "for s in split:\n",
    "    input_data_path = f'{data_folder}/pastel/raw/v2/sentences/{s}'\n",
    "    output_data_path = f'{data_folder}/pastel/processed/{s}'\n",
    "    Path(output_data_path).mkdir(parents=True, exist_ok=True)\n",
    "\n",
    "    files = os.listdir(input_data_path)\n",
    "    df = pd.DataFrame()\n",
    "    for file in files:\n",
    "        with open(f'{input_data_path}/{file}') as f:\n",
    "            l = json.load(f)\n",
    "            \n",
    "        l.update(l['persona'])\n",
    "        del l['persona']\n",
    "        df = df.append(l, ignore_index=True)\n",
    "        df = df[cols]\n",
    "        df.to_csv(f'{data_folder}/pastel/raw/raw_{s}_sentences.csv', index=False)\n",
    "    \n",
    "    if s == 'train':\n",
    "        for col in cols[1:]:\n",
    "            num_label = len(df[col].unique())\n",
    "            pastel_tasks[col] = num_label \n",
    "            le = preprocessing.LabelEncoder()\n",
    "            df[col] = le.fit_transform(df[col])\n",
    "            les[col] = le\n",
    "    else:\n",
    "        for col in cols[1:]:\n",
    "            df[col] = les[col].transform(df[col])\n",
    "    \n",
    "    df.to_csv(os.path.join(output_data_path, 'pastel.csv'), index=False)\n"
   ]
  },
  {
   "cell_type": "code",
   "execution_count": null,
   "id": "e007b211",
   "metadata": {},
   "outputs": [],
   "source": [
    "with open(os.path.join(f'{data_folder}/pastel', 'pastel_tasks2labels.json'), 'w') as f:\n",
    "    json.dump(pastel_tasks, f)"
   ]
  },
  {
   "cell_type": "code",
   "execution_count": null,
   "id": "d843c282",
   "metadata": {},
   "outputs": [],
   "source": []
  }
 ],
 "metadata": {
  "kernelspec": {
   "display_name": "Python 3 (ipykernel)",
   "language": "python",
   "name": "python3"
  }
 },
 "nbformat": 4,
 "nbformat_minor": 5
}
